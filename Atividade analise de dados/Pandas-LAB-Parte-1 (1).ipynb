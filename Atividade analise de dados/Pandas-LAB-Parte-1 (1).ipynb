{
  "metadata": {
    "kernelspec": {
      "name": "python",
      "display_name": "Python (Pyodide)",
      "language": "python"
    },
    "language_info": {
      "codemirror_mode": {
        "name": "python",
        "version": 3
      },
      "file_extension": ".py",
      "mimetype": "text/x-python",
      "name": "python",
      "nbconvert_exporter": "python",
      "pygments_lexer": "ipython3",
      "version": "3.8"
    }
  },
  "nbformat_minor": 5,
  "nbformat": 4,
  "cells": [
    {
      "id": "36d45ea3-8710-469b-a877-4aa7a722607b",
      "cell_type": "markdown",
      "source": "<img src=\"https://github.com/danielscarvalho/data/blob/master/img/FIAP-logo.png?raw=True\" style=\"float:right;\" width=\"200px\">\n\n# DATA SCIENCE & STATISTICAL COMPUTING [》](https://www.fiap.com.br/)\n\n## Dataframe & Python\n\n### LAP Parte 1: “10 minutes to pandas\"\n\nhttps://pandas.pydata.org/docs/user_guide/10min.html",
      "metadata": {}
    },
    {
      "id": "88d118b5-68d6-40aa-b09d-b65c36755e74",
      "cell_type": "markdown",
      "source": "Sugestão: Colocar a página do Cookbook lado a lado com este notebook para realizar as operações.",
      "metadata": {}
    },
    {
      "id": "ce4947c5-7ff1-4e73-bff4-7ce37e55cfd5",
      "cell_type": "code",
      "source": "import numpy as np\nimport pandas as pd",
      "metadata": {
        "trusted": true
      },
      "outputs": [],
      "execution_count": 2
    },
    {
      "id": "e19b9f2c-0e71-47e6-875b-6d33f7e951b6",
      "cell_type": "code",
      "source": "pd.show_versions()",
      "metadata": {
        "trusted": true
      },
      "outputs": [
        {
          "name": "stdout",
          "text": "\nINSTALLED VERSIONS\n------------------\ncommit           : 2e218d10984e9919f0296931d92ea851c6a6faf5\npython           : 3.11.3.final.0\npython-bits      : 32\nOS               : Emscripten\nOS-release       : 3.1.46\nVersion          : #1\nmachine          : wasm32\nprocessor        : \nbyteorder        : little\nLC_ALL           : None\nLANG             : en_US.UTF-8\nLOCALE           : en_US.UTF-8\n\npandas           : 1.5.3\nnumpy            : 1.26.1\npytz             : 2023.3\ndateutil         : 2.8.2\nsetuptools       : None\npip              : None\nCython           : None\npytest           : None\nhypothesis       : None\nsphinx           : None\nblosc            : None\nfeather          : None\nxlsxwriter       : None\nlxml.etree       : None\nhtml5lib         : None\npymysql          : None\npsycopg2         : None\njinja2           : None\nIPython          : 8.23.0\npandas_datareader: None\nbs4              : None\nbottleneck       : None\nbrotli           : None\nfastparquet      : None\nfsspec           : None\ngcsfs            : None\nmatplotlib       : None\nnumba            : None\nnumexpr          : None\nodfpy            : None\nopenpyxl         : None\npandas_gbq       : None\npyarrow          : None\npyreadstat       : None\npyxlsb           : None\ns3fs             : None\nscipy            : None\nsnappy           : None\nsqlalchemy       : None\ntables           : None\ntabulate         : None\nxarray           : None\nxlrd             : None\nxlwt             : None\nzstandard        : None\ntzdata           : None\n",
          "output_type": "stream"
        }
      ],
      "execution_count": 3
    },
    {
      "id": "40bd3a43-ead6-4bcd-9fc9-79b09d828e86",
      "cell_type": "code",
      "source": "s = pd.Series([1, 3, 5, np.nan, 6, 8])\n\ns",
      "metadata": {
        "trusted": true
      },
      "outputs": [
        {
          "execution_count": 4,
          "output_type": "execute_result",
          "data": {
            "text/plain": "0    1.0\n1    3.0\n2    5.0\n3    NaN\n4    6.0\n5    8.0\ndtype: float64"
          },
          "metadata": {}
        }
      ],
      "execution_count": 4
    },
    {
      "id": "c57c63d1-c3cc-4d16-a9e6-1ff7e7071f0a",
      "cell_type": "code",
      "source": "dates = pd.date_range(\"20130101\", periods=6)",
      "metadata": {
        "trusted": true
      },
      "outputs": [],
      "execution_count": 5
    },
    {
      "id": "0f0289f5-31a5-4c8d-9256-dadb848e99c8",
      "cell_type": "code",
      "source": "dates",
      "metadata": {
        "trusted": true
      },
      "outputs": [
        {
          "execution_count": 6,
          "output_type": "execute_result",
          "data": {
            "text/plain": "DatetimeIndex(['2013-01-01', '2013-01-02', '2013-01-03', '2013-01-04',\n               '2013-01-05', '2013-01-06'],\n              dtype='datetime64[ns]', freq='D')"
          },
          "metadata": {}
        }
      ],
      "execution_count": 6
    },
    {
      "id": "14379761-1570-4ded-b5ac-09905c0abec0",
      "cell_type": "code",
      "source": "df = pd.DataFrame(np.random.randn(6, 4), index=dates, columns=list(\"ABCD\"))",
      "metadata": {
        "trusted": true
      },
      "outputs": [],
      "execution_count": 7
    },
    {
      "id": "99952a33-cd8d-4d42-94c9-035d823a3849",
      "cell_type": "code",
      "source": "df",
      "metadata": {
        "trusted": true
      },
      "outputs": [
        {
          "execution_count": 8,
          "output_type": "execute_result",
          "data": {
            "text/plain": "                   A         B         C         D\n2013-01-01  0.098513  0.734686  0.906965  0.912394\n2013-01-02  0.111065 -0.294828 -0.196337  1.404881\n2013-01-03 -2.304542  2.169355  1.236020 -1.649974\n2013-01-04  1.734303 -0.273480 -0.923700  2.188851\n2013-01-05 -0.731084  0.539096 -0.331175  0.469761\n2013-01-06 -1.234027 -2.613819 -1.710177  1.020697",
            "text/html": "<div>\n<style scoped>\n    .dataframe tbody tr th:only-of-type {\n        vertical-align: middle;\n    }\n\n    .dataframe tbody tr th {\n        vertical-align: top;\n    }\n\n    .dataframe thead th {\n        text-align: right;\n    }\n</style>\n<table border=\"1\" class=\"dataframe\">\n  <thead>\n    <tr style=\"text-align: right;\">\n      <th></th>\n      <th>A</th>\n      <th>B</th>\n      <th>C</th>\n      <th>D</th>\n    </tr>\n  </thead>\n  <tbody>\n    <tr>\n      <th>2013-01-01</th>\n      <td>0.098513</td>\n      <td>0.734686</td>\n      <td>0.906965</td>\n      <td>0.912394</td>\n    </tr>\n    <tr>\n      <th>2013-01-02</th>\n      <td>0.111065</td>\n      <td>-0.294828</td>\n      <td>-0.196337</td>\n      <td>1.404881</td>\n    </tr>\n    <tr>\n      <th>2013-01-03</th>\n      <td>-2.304542</td>\n      <td>2.169355</td>\n      <td>1.236020</td>\n      <td>-1.649974</td>\n    </tr>\n    <tr>\n      <th>2013-01-04</th>\n      <td>1.734303</td>\n      <td>-0.273480</td>\n      <td>-0.923700</td>\n      <td>2.188851</td>\n    </tr>\n    <tr>\n      <th>2013-01-05</th>\n      <td>-0.731084</td>\n      <td>0.539096</td>\n      <td>-0.331175</td>\n      <td>0.469761</td>\n    </tr>\n    <tr>\n      <th>2013-01-06</th>\n      <td>-1.234027</td>\n      <td>-2.613819</td>\n      <td>-1.710177</td>\n      <td>1.020697</td>\n    </tr>\n  </tbody>\n</table>\n</div>"
          },
          "metadata": {}
        }
      ],
      "execution_count": 8
    },
    {
      "id": "f9e0d11d-b3ff-4431-bd46-25a69e11e32b",
      "cell_type": "code",
      "source": "df2 = pd.DataFrame(\n    {\n        \"A\": 1.0,\n        \"B\": pd.Timestamp(\"20130102\"),\n        \"C\": pd.Series(1, index=list(range(4)), dtype=\"float32\"),\n        \"D\": np.array([3] * 4, dtype=\"int32\"),\n        \"E\": pd.Categorical([\"test\", \"train\", \"test\", \"train\"]),\n        \"F\": \"foo\",\n    }\n)",
      "metadata": {
        "trusted": true
      },
      "outputs": [],
      "execution_count": 9
    },
    {
      "id": "714b0b6d-3f18-4bc7-be37-f33334646929",
      "cell_type": "code",
      "source": "df2",
      "metadata": {
        "trusted": true
      },
      "outputs": [
        {
          "execution_count": 10,
          "output_type": "execute_result",
          "data": {
            "text/plain": "     A          B    C  D      E    F\n0  1.0 2013-01-02  1.0  3   test  foo\n1  1.0 2013-01-02  1.0  3  train  foo\n2  1.0 2013-01-02  1.0  3   test  foo\n3  1.0 2013-01-02  1.0  3  train  foo",
            "text/html": "<div>\n<style scoped>\n    .dataframe tbody tr th:only-of-type {\n        vertical-align: middle;\n    }\n\n    .dataframe tbody tr th {\n        vertical-align: top;\n    }\n\n    .dataframe thead th {\n        text-align: right;\n    }\n</style>\n<table border=\"1\" class=\"dataframe\">\n  <thead>\n    <tr style=\"text-align: right;\">\n      <th></th>\n      <th>A</th>\n      <th>B</th>\n      <th>C</th>\n      <th>D</th>\n      <th>E</th>\n      <th>F</th>\n    </tr>\n  </thead>\n  <tbody>\n    <tr>\n      <th>0</th>\n      <td>1.0</td>\n      <td>2013-01-02</td>\n      <td>1.0</td>\n      <td>3</td>\n      <td>test</td>\n      <td>foo</td>\n    </tr>\n    <tr>\n      <th>1</th>\n      <td>1.0</td>\n      <td>2013-01-02</td>\n      <td>1.0</td>\n      <td>3</td>\n      <td>train</td>\n      <td>foo</td>\n    </tr>\n    <tr>\n      <th>2</th>\n      <td>1.0</td>\n      <td>2013-01-02</td>\n      <td>1.0</td>\n      <td>3</td>\n      <td>test</td>\n      <td>foo</td>\n    </tr>\n    <tr>\n      <th>3</th>\n      <td>1.0</td>\n      <td>2013-01-02</td>\n      <td>1.0</td>\n      <td>3</td>\n      <td>train</td>\n      <td>foo</td>\n    </tr>\n  </tbody>\n</table>\n</div>"
          },
          "metadata": {}
        }
      ],
      "execution_count": 10
    },
    {
      "id": "b4e1bd4e-af96-4c1f-b629-52709629df69",
      "cell_type": "code",
      "source": "df2.dtypes",
      "metadata": {
        "trusted": true
      },
      "outputs": [
        {
          "execution_count": 11,
          "output_type": "execute_result",
          "data": {
            "text/plain": "A           float64\nB    datetime64[ns]\nC           float32\nD             int32\nE          category\nF            object\ndtype: object"
          },
          "metadata": {}
        }
      ],
      "execution_count": 11
    },
    {
      "id": "b2a1296e-e68a-48c2-b0fa-960f5d63b3cc",
      "cell_type": "code",
      "source": "df.head()\n",
      "metadata": {
        "trusted": true
      },
      "outputs": [
        {
          "execution_count": 12,
          "output_type": "execute_result",
          "data": {
            "text/plain": "                   A         B         C         D\n2013-01-01  0.098513  0.734686  0.906965  0.912394\n2013-01-02  0.111065 -0.294828 -0.196337  1.404881\n2013-01-03 -2.304542  2.169355  1.236020 -1.649974\n2013-01-04  1.734303 -0.273480 -0.923700  2.188851\n2013-01-05 -0.731084  0.539096 -0.331175  0.469761",
            "text/html": "<div>\n<style scoped>\n    .dataframe tbody tr th:only-of-type {\n        vertical-align: middle;\n    }\n\n    .dataframe tbody tr th {\n        vertical-align: top;\n    }\n\n    .dataframe thead th {\n        text-align: right;\n    }\n</style>\n<table border=\"1\" class=\"dataframe\">\n  <thead>\n    <tr style=\"text-align: right;\">\n      <th></th>\n      <th>A</th>\n      <th>B</th>\n      <th>C</th>\n      <th>D</th>\n    </tr>\n  </thead>\n  <tbody>\n    <tr>\n      <th>2013-01-01</th>\n      <td>0.098513</td>\n      <td>0.734686</td>\n      <td>0.906965</td>\n      <td>0.912394</td>\n    </tr>\n    <tr>\n      <th>2013-01-02</th>\n      <td>0.111065</td>\n      <td>-0.294828</td>\n      <td>-0.196337</td>\n      <td>1.404881</td>\n    </tr>\n    <tr>\n      <th>2013-01-03</th>\n      <td>-2.304542</td>\n      <td>2.169355</td>\n      <td>1.236020</td>\n      <td>-1.649974</td>\n    </tr>\n    <tr>\n      <th>2013-01-04</th>\n      <td>1.734303</td>\n      <td>-0.273480</td>\n      <td>-0.923700</td>\n      <td>2.188851</td>\n    </tr>\n    <tr>\n      <th>2013-01-05</th>\n      <td>-0.731084</td>\n      <td>0.539096</td>\n      <td>-0.331175</td>\n      <td>0.469761</td>\n    </tr>\n  </tbody>\n</table>\n</div>"
          },
          "metadata": {}
        }
      ],
      "execution_count": 12
    },
    {
      "id": "2bf85e11-bcf9-40c0-81ef-22e1b875d71f",
      "cell_type": "code",
      "source": "df.tail(3)",
      "metadata": {
        "trusted": true
      },
      "outputs": [
        {
          "execution_count": 13,
          "output_type": "execute_result",
          "data": {
            "text/plain": "                   A         B         C         D\n2013-01-04  1.734303 -0.273480 -0.923700  2.188851\n2013-01-05 -0.731084  0.539096 -0.331175  0.469761\n2013-01-06 -1.234027 -2.613819 -1.710177  1.020697",
            "text/html": "<div>\n<style scoped>\n    .dataframe tbody tr th:only-of-type {\n        vertical-align: middle;\n    }\n\n    .dataframe tbody tr th {\n        vertical-align: top;\n    }\n\n    .dataframe thead th {\n        text-align: right;\n    }\n</style>\n<table border=\"1\" class=\"dataframe\">\n  <thead>\n    <tr style=\"text-align: right;\">\n      <th></th>\n      <th>A</th>\n      <th>B</th>\n      <th>C</th>\n      <th>D</th>\n    </tr>\n  </thead>\n  <tbody>\n    <tr>\n      <th>2013-01-04</th>\n      <td>1.734303</td>\n      <td>-0.273480</td>\n      <td>-0.923700</td>\n      <td>2.188851</td>\n    </tr>\n    <tr>\n      <th>2013-01-05</th>\n      <td>-0.731084</td>\n      <td>0.539096</td>\n      <td>-0.331175</td>\n      <td>0.469761</td>\n    </tr>\n    <tr>\n      <th>2013-01-06</th>\n      <td>-1.234027</td>\n      <td>-2.613819</td>\n      <td>-1.710177</td>\n      <td>1.020697</td>\n    </tr>\n  </tbody>\n</table>\n</div>"
          },
          "metadata": {}
        }
      ],
      "execution_count": 13
    },
    {
      "id": "6a1081e3-e992-4f52-aef3-797847128ff1",
      "cell_type": "code",
      "source": "df.index",
      "metadata": {
        "trusted": true
      },
      "outputs": [
        {
          "execution_count": 14,
          "output_type": "execute_result",
          "data": {
            "text/plain": "DatetimeIndex(['2013-01-01', '2013-01-02', '2013-01-03', '2013-01-04',\n               '2013-01-05', '2013-01-06'],\n              dtype='datetime64[ns]', freq='D')"
          },
          "metadata": {}
        }
      ],
      "execution_count": 14
    },
    {
      "id": "e0042bb0-8d50-4342-a9a8-dfeb91234013",
      "cell_type": "code",
      "source": "df.columns",
      "metadata": {
        "trusted": true
      },
      "outputs": [
        {
          "execution_count": 15,
          "output_type": "execute_result",
          "data": {
            "text/plain": "Index(['A', 'B', 'C', 'D'], dtype='object')"
          },
          "metadata": {}
        }
      ],
      "execution_count": 15
    },
    {
      "id": "e4c49096-8e56-45e9-915b-abef5d6f8539",
      "cell_type": "code",
      "source": "df.to_numpy()",
      "metadata": {
        "trusted": true
      },
      "outputs": [
        {
          "execution_count": 16,
          "output_type": "execute_result",
          "data": {
            "text/plain": "array([[ 0.09851253,  0.73468616,  0.90696491,  0.91239409],\n       [ 0.11106505, -0.29482824, -0.19633716,  1.40488118],\n       [-2.30454175,  2.16935512,  1.23601955, -1.64997418],\n       [ 1.73430264, -0.27348049, -0.92369952,  2.18885053],\n       [-0.73108374,  0.53909578, -0.33117478,  0.469761  ],\n       [-1.23402697, -2.61381928, -1.71017687,  1.02069657]])"
          },
          "metadata": {}
        }
      ],
      "execution_count": 16
    },
    {
      "id": "c0eadb57-5897-4d2f-8fb9-a00615b36733",
      "cell_type": "code",
      "source": "df2.dtypes",
      "metadata": {
        "trusted": true
      },
      "outputs": [
        {
          "execution_count": 17,
          "output_type": "execute_result",
          "data": {
            "text/plain": "A           float64\nB    datetime64[ns]\nC           float32\nD             int32\nE          category\nF            object\ndtype: object"
          },
          "metadata": {}
        }
      ],
      "execution_count": 17
    },
    {
      "id": "581938e3-fdac-43ee-94c1-db33467b5569",
      "cell_type": "code",
      "source": "df2.to_numpy()",
      "metadata": {
        "trusted": true
      },
      "outputs": [
        {
          "execution_count": 18,
          "output_type": "execute_result",
          "data": {
            "text/plain": "array([[1.0, Timestamp('2013-01-02 00:00:00'), 1.0, 3, 'test', 'foo'],\n       [1.0, Timestamp('2013-01-02 00:00:00'), 1.0, 3, 'train', 'foo'],\n       [1.0, Timestamp('2013-01-02 00:00:00'), 1.0, 3, 'test', 'foo'],\n       [1.0, Timestamp('2013-01-02 00:00:00'), 1.0, 3, 'train', 'foo']],\n      dtype=object)"
          },
          "metadata": {}
        }
      ],
      "execution_count": 18
    },
    {
      "id": "9cb257f1-1520-45dc-a8b1-1a002a8f3be7",
      "cell_type": "code",
      "source": "df.describe()",
      "metadata": {
        "trusted": true
      },
      "outputs": [
        {
          "execution_count": 19,
          "output_type": "execute_result",
          "data": {
            "text/plain": "              A         B         C         D\ncount  6.000000  6.000000  6.000000  6.000000\nmean  -0.387629  0.043502 -0.169734  0.724435\nstd    1.378153  1.582334  1.104864  1.298715\nmin   -2.304542 -2.613819 -1.710177 -1.649974\n25%   -1.108291 -0.289491 -0.775568  0.580419\n50%   -0.316286  0.132808 -0.263756  0.966545\n75%    0.107927  0.685789  0.631139  1.308835\nmax    1.734303  2.169355  1.236020  2.188851",
            "text/html": "<div>\n<style scoped>\n    .dataframe tbody tr th:only-of-type {\n        vertical-align: middle;\n    }\n\n    .dataframe tbody tr th {\n        vertical-align: top;\n    }\n\n    .dataframe thead th {\n        text-align: right;\n    }\n</style>\n<table border=\"1\" class=\"dataframe\">\n  <thead>\n    <tr style=\"text-align: right;\">\n      <th></th>\n      <th>A</th>\n      <th>B</th>\n      <th>C</th>\n      <th>D</th>\n    </tr>\n  </thead>\n  <tbody>\n    <tr>\n      <th>count</th>\n      <td>6.000000</td>\n      <td>6.000000</td>\n      <td>6.000000</td>\n      <td>6.000000</td>\n    </tr>\n    <tr>\n      <th>mean</th>\n      <td>-0.387629</td>\n      <td>0.043502</td>\n      <td>-0.169734</td>\n      <td>0.724435</td>\n    </tr>\n    <tr>\n      <th>std</th>\n      <td>1.378153</td>\n      <td>1.582334</td>\n      <td>1.104864</td>\n      <td>1.298715</td>\n    </tr>\n    <tr>\n      <th>min</th>\n      <td>-2.304542</td>\n      <td>-2.613819</td>\n      <td>-1.710177</td>\n      <td>-1.649974</td>\n    </tr>\n    <tr>\n      <th>25%</th>\n      <td>-1.108291</td>\n      <td>-0.289491</td>\n      <td>-0.775568</td>\n      <td>0.580419</td>\n    </tr>\n    <tr>\n      <th>50%</th>\n      <td>-0.316286</td>\n      <td>0.132808</td>\n      <td>-0.263756</td>\n      <td>0.966545</td>\n    </tr>\n    <tr>\n      <th>75%</th>\n      <td>0.107927</td>\n      <td>0.685789</td>\n      <td>0.631139</td>\n      <td>1.308835</td>\n    </tr>\n    <tr>\n      <th>max</th>\n      <td>1.734303</td>\n      <td>2.169355</td>\n      <td>1.236020</td>\n      <td>2.188851</td>\n    </tr>\n  </tbody>\n</table>\n</div>"
          },
          "metadata": {}
        }
      ],
      "execution_count": 19
    },
    {
      "id": "93ac43b5-8aed-4166-a381-94a2b9543140",
      "cell_type": "code",
      "source": "df.T",
      "metadata": {
        "trusted": true
      },
      "outputs": [
        {
          "execution_count": 20,
          "output_type": "execute_result",
          "data": {
            "text/plain": "   2013-01-01  2013-01-02  2013-01-03  2013-01-04  2013-01-05  2013-01-06\nA    0.098513    0.111065   -2.304542    1.734303   -0.731084   -1.234027\nB    0.734686   -0.294828    2.169355   -0.273480    0.539096   -2.613819\nC    0.906965   -0.196337    1.236020   -0.923700   -0.331175   -1.710177\nD    0.912394    1.404881   -1.649974    2.188851    0.469761    1.020697",
            "text/html": "<div>\n<style scoped>\n    .dataframe tbody tr th:only-of-type {\n        vertical-align: middle;\n    }\n\n    .dataframe tbody tr th {\n        vertical-align: top;\n    }\n\n    .dataframe thead th {\n        text-align: right;\n    }\n</style>\n<table border=\"1\" class=\"dataframe\">\n  <thead>\n    <tr style=\"text-align: right;\">\n      <th></th>\n      <th>2013-01-01</th>\n      <th>2013-01-02</th>\n      <th>2013-01-03</th>\n      <th>2013-01-04</th>\n      <th>2013-01-05</th>\n      <th>2013-01-06</th>\n    </tr>\n  </thead>\n  <tbody>\n    <tr>\n      <th>A</th>\n      <td>0.098513</td>\n      <td>0.111065</td>\n      <td>-2.304542</td>\n      <td>1.734303</td>\n      <td>-0.731084</td>\n      <td>-1.234027</td>\n    </tr>\n    <tr>\n      <th>B</th>\n      <td>0.734686</td>\n      <td>-0.294828</td>\n      <td>2.169355</td>\n      <td>-0.273480</td>\n      <td>0.539096</td>\n      <td>-2.613819</td>\n    </tr>\n    <tr>\n      <th>C</th>\n      <td>0.906965</td>\n      <td>-0.196337</td>\n      <td>1.236020</td>\n      <td>-0.923700</td>\n      <td>-0.331175</td>\n      <td>-1.710177</td>\n    </tr>\n    <tr>\n      <th>D</th>\n      <td>0.912394</td>\n      <td>1.404881</td>\n      <td>-1.649974</td>\n      <td>2.188851</td>\n      <td>0.469761</td>\n      <td>1.020697</td>\n    </tr>\n  </tbody>\n</table>\n</div>"
          },
          "metadata": {}
        }
      ],
      "execution_count": 20
    },
    {
      "id": "6c394eaf-97dc-4d3b-aeb1-1fe9d8cba981",
      "cell_type": "code",
      "source": "df.sort_index(axis=1, ascending=False)",
      "metadata": {
        "trusted": true
      },
      "outputs": [
        {
          "execution_count": 21,
          "output_type": "execute_result",
          "data": {
            "text/plain": "                   D         C         B         A\n2013-01-01  0.912394  0.906965  0.734686  0.098513\n2013-01-02  1.404881 -0.196337 -0.294828  0.111065\n2013-01-03 -1.649974  1.236020  2.169355 -2.304542\n2013-01-04  2.188851 -0.923700 -0.273480  1.734303\n2013-01-05  0.469761 -0.331175  0.539096 -0.731084\n2013-01-06  1.020697 -1.710177 -2.613819 -1.234027",
            "text/html": "<div>\n<style scoped>\n    .dataframe tbody tr th:only-of-type {\n        vertical-align: middle;\n    }\n\n    .dataframe tbody tr th {\n        vertical-align: top;\n    }\n\n    .dataframe thead th {\n        text-align: right;\n    }\n</style>\n<table border=\"1\" class=\"dataframe\">\n  <thead>\n    <tr style=\"text-align: right;\">\n      <th></th>\n      <th>D</th>\n      <th>C</th>\n      <th>B</th>\n      <th>A</th>\n    </tr>\n  </thead>\n  <tbody>\n    <tr>\n      <th>2013-01-01</th>\n      <td>0.912394</td>\n      <td>0.906965</td>\n      <td>0.734686</td>\n      <td>0.098513</td>\n    </tr>\n    <tr>\n      <th>2013-01-02</th>\n      <td>1.404881</td>\n      <td>-0.196337</td>\n      <td>-0.294828</td>\n      <td>0.111065</td>\n    </tr>\n    <tr>\n      <th>2013-01-03</th>\n      <td>-1.649974</td>\n      <td>1.236020</td>\n      <td>2.169355</td>\n      <td>-2.304542</td>\n    </tr>\n    <tr>\n      <th>2013-01-04</th>\n      <td>2.188851</td>\n      <td>-0.923700</td>\n      <td>-0.273480</td>\n      <td>1.734303</td>\n    </tr>\n    <tr>\n      <th>2013-01-05</th>\n      <td>0.469761</td>\n      <td>-0.331175</td>\n      <td>0.539096</td>\n      <td>-0.731084</td>\n    </tr>\n    <tr>\n      <th>2013-01-06</th>\n      <td>1.020697</td>\n      <td>-1.710177</td>\n      <td>-2.613819</td>\n      <td>-1.234027</td>\n    </tr>\n  </tbody>\n</table>\n</div>"
          },
          "metadata": {}
        }
      ],
      "execution_count": 21
    },
    {
      "id": "a4689bcf-11bf-4e2b-a72b-d581df5ddde4",
      "cell_type": "code",
      "source": "df.sort_values(by=\"B\")",
      "metadata": {
        "trusted": true
      },
      "outputs": [
        {
          "execution_count": 22,
          "output_type": "execute_result",
          "data": {
            "text/plain": "                   A         B         C         D\n2013-01-06 -1.234027 -2.613819 -1.710177  1.020697\n2013-01-02  0.111065 -0.294828 -0.196337  1.404881\n2013-01-04  1.734303 -0.273480 -0.923700  2.188851\n2013-01-05 -0.731084  0.539096 -0.331175  0.469761\n2013-01-01  0.098513  0.734686  0.906965  0.912394\n2013-01-03 -2.304542  2.169355  1.236020 -1.649974",
            "text/html": "<div>\n<style scoped>\n    .dataframe tbody tr th:only-of-type {\n        vertical-align: middle;\n    }\n\n    .dataframe tbody tr th {\n        vertical-align: top;\n    }\n\n    .dataframe thead th {\n        text-align: right;\n    }\n</style>\n<table border=\"1\" class=\"dataframe\">\n  <thead>\n    <tr style=\"text-align: right;\">\n      <th></th>\n      <th>A</th>\n      <th>B</th>\n      <th>C</th>\n      <th>D</th>\n    </tr>\n  </thead>\n  <tbody>\n    <tr>\n      <th>2013-01-06</th>\n      <td>-1.234027</td>\n      <td>-2.613819</td>\n      <td>-1.710177</td>\n      <td>1.020697</td>\n    </tr>\n    <tr>\n      <th>2013-01-02</th>\n      <td>0.111065</td>\n      <td>-0.294828</td>\n      <td>-0.196337</td>\n      <td>1.404881</td>\n    </tr>\n    <tr>\n      <th>2013-01-04</th>\n      <td>1.734303</td>\n      <td>-0.273480</td>\n      <td>-0.923700</td>\n      <td>2.188851</td>\n    </tr>\n    <tr>\n      <th>2013-01-05</th>\n      <td>-0.731084</td>\n      <td>0.539096</td>\n      <td>-0.331175</td>\n      <td>0.469761</td>\n    </tr>\n    <tr>\n      <th>2013-01-01</th>\n      <td>0.098513</td>\n      <td>0.734686</td>\n      <td>0.906965</td>\n      <td>0.912394</td>\n    </tr>\n    <tr>\n      <th>2013-01-03</th>\n      <td>-2.304542</td>\n      <td>2.169355</td>\n      <td>1.236020</td>\n      <td>-1.649974</td>\n    </tr>\n  </tbody>\n</table>\n</div>"
          },
          "metadata": {}
        }
      ],
      "execution_count": 22
    },
    {
      "id": "6b8d65df-85f8-4e0f-90dd-de7c1f617782",
      "cell_type": "code",
      "source": "df[\"A\"]",
      "metadata": {
        "trusted": true
      },
      "outputs": [
        {
          "execution_count": 23,
          "output_type": "execute_result",
          "data": {
            "text/plain": "2013-01-01    0.098513\n2013-01-02    0.111065\n2013-01-03   -2.304542\n2013-01-04    1.734303\n2013-01-05   -0.731084\n2013-01-06   -1.234027\nFreq: D, Name: A, dtype: float64"
          },
          "metadata": {}
        }
      ],
      "execution_count": 23
    },
    {
      "id": "d76dacad-b913-47b0-8ca5-aa777f8327a6",
      "cell_type": "code",
      "source": "df[0:3]",
      "metadata": {
        "trusted": true
      },
      "outputs": [
        {
          "execution_count": 24,
          "output_type": "execute_result",
          "data": {
            "text/plain": "                   A         B         C         D\n2013-01-01  0.098513  0.734686  0.906965  0.912394\n2013-01-02  0.111065 -0.294828 -0.196337  1.404881\n2013-01-03 -2.304542  2.169355  1.236020 -1.649974",
            "text/html": "<div>\n<style scoped>\n    .dataframe tbody tr th:only-of-type {\n        vertical-align: middle;\n    }\n\n    .dataframe tbody tr th {\n        vertical-align: top;\n    }\n\n    .dataframe thead th {\n        text-align: right;\n    }\n</style>\n<table border=\"1\" class=\"dataframe\">\n  <thead>\n    <tr style=\"text-align: right;\">\n      <th></th>\n      <th>A</th>\n      <th>B</th>\n      <th>C</th>\n      <th>D</th>\n    </tr>\n  </thead>\n  <tbody>\n    <tr>\n      <th>2013-01-01</th>\n      <td>0.098513</td>\n      <td>0.734686</td>\n      <td>0.906965</td>\n      <td>0.912394</td>\n    </tr>\n    <tr>\n      <th>2013-01-02</th>\n      <td>0.111065</td>\n      <td>-0.294828</td>\n      <td>-0.196337</td>\n      <td>1.404881</td>\n    </tr>\n    <tr>\n      <th>2013-01-03</th>\n      <td>-2.304542</td>\n      <td>2.169355</td>\n      <td>1.236020</td>\n      <td>-1.649974</td>\n    </tr>\n  </tbody>\n</table>\n</div>"
          },
          "metadata": {}
        }
      ],
      "execution_count": 24
    },
    {
      "id": "e7a2aee6-bee9-4483-aac9-cbe095c871c3",
      "cell_type": "code",
      "source": "df[1:-1]",
      "metadata": {
        "trusted": true
      },
      "outputs": [
        {
          "execution_count": 25,
          "output_type": "execute_result",
          "data": {
            "text/plain": "                   A         B         C         D\n2013-01-02  0.111065 -0.294828 -0.196337  1.404881\n2013-01-03 -2.304542  2.169355  1.236020 -1.649974\n2013-01-04  1.734303 -0.273480 -0.923700  2.188851\n2013-01-05 -0.731084  0.539096 -0.331175  0.469761",
            "text/html": "<div>\n<style scoped>\n    .dataframe tbody tr th:only-of-type {\n        vertical-align: middle;\n    }\n\n    .dataframe tbody tr th {\n        vertical-align: top;\n    }\n\n    .dataframe thead th {\n        text-align: right;\n    }\n</style>\n<table border=\"1\" class=\"dataframe\">\n  <thead>\n    <tr style=\"text-align: right;\">\n      <th></th>\n      <th>A</th>\n      <th>B</th>\n      <th>C</th>\n      <th>D</th>\n    </tr>\n  </thead>\n  <tbody>\n    <tr>\n      <th>2013-01-02</th>\n      <td>0.111065</td>\n      <td>-0.294828</td>\n      <td>-0.196337</td>\n      <td>1.404881</td>\n    </tr>\n    <tr>\n      <th>2013-01-03</th>\n      <td>-2.304542</td>\n      <td>2.169355</td>\n      <td>1.236020</td>\n      <td>-1.649974</td>\n    </tr>\n    <tr>\n      <th>2013-01-04</th>\n      <td>1.734303</td>\n      <td>-0.273480</td>\n      <td>-0.923700</td>\n      <td>2.188851</td>\n    </tr>\n    <tr>\n      <th>2013-01-05</th>\n      <td>-0.731084</td>\n      <td>0.539096</td>\n      <td>-0.331175</td>\n      <td>0.469761</td>\n    </tr>\n  </tbody>\n</table>\n</div>"
          },
          "metadata": {}
        }
      ],
      "execution_count": 25
    },
    {
      "id": "9ecd4628-d62f-45a2-9383-2cee0dbc74f7",
      "cell_type": "code",
      "source": "df",
      "metadata": {
        "trusted": true
      },
      "outputs": [
        {
          "execution_count": 26,
          "output_type": "execute_result",
          "data": {
            "text/plain": "                   A         B         C         D\n2013-01-01  0.098513  0.734686  0.906965  0.912394\n2013-01-02  0.111065 -0.294828 -0.196337  1.404881\n2013-01-03 -2.304542  2.169355  1.236020 -1.649974\n2013-01-04  1.734303 -0.273480 -0.923700  2.188851\n2013-01-05 -0.731084  0.539096 -0.331175  0.469761\n2013-01-06 -1.234027 -2.613819 -1.710177  1.020697",
            "text/html": "<div>\n<style scoped>\n    .dataframe tbody tr th:only-of-type {\n        vertical-align: middle;\n    }\n\n    .dataframe tbody tr th {\n        vertical-align: top;\n    }\n\n    .dataframe thead th {\n        text-align: right;\n    }\n</style>\n<table border=\"1\" class=\"dataframe\">\n  <thead>\n    <tr style=\"text-align: right;\">\n      <th></th>\n      <th>A</th>\n      <th>B</th>\n      <th>C</th>\n      <th>D</th>\n    </tr>\n  </thead>\n  <tbody>\n    <tr>\n      <th>2013-01-01</th>\n      <td>0.098513</td>\n      <td>0.734686</td>\n      <td>0.906965</td>\n      <td>0.912394</td>\n    </tr>\n    <tr>\n      <th>2013-01-02</th>\n      <td>0.111065</td>\n      <td>-0.294828</td>\n      <td>-0.196337</td>\n      <td>1.404881</td>\n    </tr>\n    <tr>\n      <th>2013-01-03</th>\n      <td>-2.304542</td>\n      <td>2.169355</td>\n      <td>1.236020</td>\n      <td>-1.649974</td>\n    </tr>\n    <tr>\n      <th>2013-01-04</th>\n      <td>1.734303</td>\n      <td>-0.273480</td>\n      <td>-0.923700</td>\n      <td>2.188851</td>\n    </tr>\n    <tr>\n      <th>2013-01-05</th>\n      <td>-0.731084</td>\n      <td>0.539096</td>\n      <td>-0.331175</td>\n      <td>0.469761</td>\n    </tr>\n    <tr>\n      <th>2013-01-06</th>\n      <td>-1.234027</td>\n      <td>-2.613819</td>\n      <td>-1.710177</td>\n      <td>1.020697</td>\n    </tr>\n  </tbody>\n</table>\n</div>"
          },
          "metadata": {}
        }
      ],
      "execution_count": 26
    },
    {
      "id": "43c2ff8e-00d6-4d93-934c-e0e7be33b70e",
      "cell_type": "code",
      "source": "df[\"20130102\":\"20130104\"]",
      "metadata": {
        "trusted": true
      },
      "outputs": [
        {
          "execution_count": 27,
          "output_type": "execute_result",
          "data": {
            "text/plain": "                   A         B         C         D\n2013-01-02  0.111065 -0.294828 -0.196337  1.404881\n2013-01-03 -2.304542  2.169355  1.236020 -1.649974\n2013-01-04  1.734303 -0.273480 -0.923700  2.188851",
            "text/html": "<div>\n<style scoped>\n    .dataframe tbody tr th:only-of-type {\n        vertical-align: middle;\n    }\n\n    .dataframe tbody tr th {\n        vertical-align: top;\n    }\n\n    .dataframe thead th {\n        text-align: right;\n    }\n</style>\n<table border=\"1\" class=\"dataframe\">\n  <thead>\n    <tr style=\"text-align: right;\">\n      <th></th>\n      <th>A</th>\n      <th>B</th>\n      <th>C</th>\n      <th>D</th>\n    </tr>\n  </thead>\n  <tbody>\n    <tr>\n      <th>2013-01-02</th>\n      <td>0.111065</td>\n      <td>-0.294828</td>\n      <td>-0.196337</td>\n      <td>1.404881</td>\n    </tr>\n    <tr>\n      <th>2013-01-03</th>\n      <td>-2.304542</td>\n      <td>2.169355</td>\n      <td>1.236020</td>\n      <td>-1.649974</td>\n    </tr>\n    <tr>\n      <th>2013-01-04</th>\n      <td>1.734303</td>\n      <td>-0.273480</td>\n      <td>-0.923700</td>\n      <td>2.188851</td>\n    </tr>\n  </tbody>\n</table>\n</div>"
          },
          "metadata": {}
        }
      ],
      "execution_count": 27
    },
    {
      "id": "deda8178-093e-43f9-8ed2-12bef54f8f7a",
      "cell_type": "code",
      "source": "df.loc[dates[0]]",
      "metadata": {
        "trusted": true
      },
      "outputs": [
        {
          "execution_count": 29,
          "output_type": "execute_result",
          "data": {
            "text/plain": "A    0.098513\nB    0.734686\nC    0.906965\nD    0.912394\nName: 2013-01-01 00:00:00, dtype: float64"
          },
          "metadata": {}
        }
      ],
      "execution_count": 29
    },
    {
      "id": "61adb277-ad31-4dfa-96c5-ee7508ed04aa",
      "cell_type": "code",
      "source": " df.loc[:, [\"A\", \"B\"]]\n",
      "metadata": {
        "trusted": true
      },
      "outputs": [
        {
          "execution_count": 28,
          "output_type": "execute_result",
          "data": {
            "text/plain": "                   A         B\n2013-01-01  0.098513  0.734686\n2013-01-02  0.111065 -0.294828\n2013-01-03 -2.304542  2.169355\n2013-01-04  1.734303 -0.273480\n2013-01-05 -0.731084  0.539096\n2013-01-06 -1.234027 -2.613819",
            "text/html": "<div>\n<style scoped>\n    .dataframe tbody tr th:only-of-type {\n        vertical-align: middle;\n    }\n\n    .dataframe tbody tr th {\n        vertical-align: top;\n    }\n\n    .dataframe thead th {\n        text-align: right;\n    }\n</style>\n<table border=\"1\" class=\"dataframe\">\n  <thead>\n    <tr style=\"text-align: right;\">\n      <th></th>\n      <th>A</th>\n      <th>B</th>\n    </tr>\n  </thead>\n  <tbody>\n    <tr>\n      <th>2013-01-01</th>\n      <td>0.098513</td>\n      <td>0.734686</td>\n    </tr>\n    <tr>\n      <th>2013-01-02</th>\n      <td>0.111065</td>\n      <td>-0.294828</td>\n    </tr>\n    <tr>\n      <th>2013-01-03</th>\n      <td>-2.304542</td>\n      <td>2.169355</td>\n    </tr>\n    <tr>\n      <th>2013-01-04</th>\n      <td>1.734303</td>\n      <td>-0.273480</td>\n    </tr>\n    <tr>\n      <th>2013-01-05</th>\n      <td>-0.731084</td>\n      <td>0.539096</td>\n    </tr>\n    <tr>\n      <th>2013-01-06</th>\n      <td>-1.234027</td>\n      <td>-2.613819</td>\n    </tr>\n  </tbody>\n</table>\n</div>"
          },
          "metadata": {}
        }
      ],
      "execution_count": 28
    },
    {
      "id": "c29055b8-b36b-4e7c-ba34-39f05ba4dc80",
      "cell_type": "code",
      "source": "df.loc[\"20130102\":\"20130104\", [\"A\", \"B\"]]",
      "metadata": {
        "trusted": true
      },
      "outputs": [
        {
          "execution_count": 30,
          "output_type": "execute_result",
          "data": {
            "text/plain": "                   A         B\n2013-01-02  0.111065 -0.294828\n2013-01-03 -2.304542  2.169355\n2013-01-04  1.734303 -0.273480",
            "text/html": "<div>\n<style scoped>\n    .dataframe tbody tr th:only-of-type {\n        vertical-align: middle;\n    }\n\n    .dataframe tbody tr th {\n        vertical-align: top;\n    }\n\n    .dataframe thead th {\n        text-align: right;\n    }\n</style>\n<table border=\"1\" class=\"dataframe\">\n  <thead>\n    <tr style=\"text-align: right;\">\n      <th></th>\n      <th>A</th>\n      <th>B</th>\n    </tr>\n  </thead>\n  <tbody>\n    <tr>\n      <th>2013-01-02</th>\n      <td>0.111065</td>\n      <td>-0.294828</td>\n    </tr>\n    <tr>\n      <th>2013-01-03</th>\n      <td>-2.304542</td>\n      <td>2.169355</td>\n    </tr>\n    <tr>\n      <th>2013-01-04</th>\n      <td>1.734303</td>\n      <td>-0.273480</td>\n    </tr>\n  </tbody>\n</table>\n</div>"
          },
          "metadata": {}
        }
      ],
      "execution_count": 30
    },
    {
      "id": "723a7158-a1c1-4d3f-b79b-ddf6830a04d6",
      "cell_type": "code",
      "source": "df.loc[dates[0], \"A\"]",
      "metadata": {
        "trusted": true
      },
      "outputs": [
        {
          "execution_count": 31,
          "output_type": "execute_result",
          "data": {
            "text/plain": "0.09851253451778878"
          },
          "metadata": {}
        }
      ],
      "execution_count": 31
    },
    {
      "id": "b2164e86-7755-47d3-9300-cdc2c767d549",
      "cell_type": "code",
      "source": "df.at[dates[0], \"A\"]",
      "metadata": {
        "trusted": true
      },
      "outputs": [
        {
          "execution_count": 32,
          "output_type": "execute_result",
          "data": {
            "text/plain": "0.09851253451778878"
          },
          "metadata": {}
        }
      ],
      "execution_count": 32
    },
    {
      "id": "ed9ef10c-f302-4471-bb36-b5234e5ec755",
      "cell_type": "code",
      "source": "df.iloc[3]",
      "metadata": {
        "trusted": true
      },
      "outputs": [
        {
          "execution_count": 33,
          "output_type": "execute_result",
          "data": {
            "text/plain": "A    1.734303\nB   -0.273480\nC   -0.923700\nD    2.188851\nName: 2013-01-04 00:00:00, dtype: float64"
          },
          "metadata": {}
        }
      ],
      "execution_count": 33
    },
    {
      "id": "17074a95-3680-44d2-afa1-306158fd338d",
      "cell_type": "code",
      "source": "df.iloc[3:5, 0:2]",
      "metadata": {
        "trusted": true
      },
      "outputs": [
        {
          "execution_count": 34,
          "output_type": "execute_result",
          "data": {
            "text/plain": "                   A         B\n2013-01-04  1.734303 -0.273480\n2013-01-05 -0.731084  0.539096",
            "text/html": "<div>\n<style scoped>\n    .dataframe tbody tr th:only-of-type {\n        vertical-align: middle;\n    }\n\n    .dataframe tbody tr th {\n        vertical-align: top;\n    }\n\n    .dataframe thead th {\n        text-align: right;\n    }\n</style>\n<table border=\"1\" class=\"dataframe\">\n  <thead>\n    <tr style=\"text-align: right;\">\n      <th></th>\n      <th>A</th>\n      <th>B</th>\n    </tr>\n  </thead>\n  <tbody>\n    <tr>\n      <th>2013-01-04</th>\n      <td>1.734303</td>\n      <td>-0.273480</td>\n    </tr>\n    <tr>\n      <th>2013-01-05</th>\n      <td>-0.731084</td>\n      <td>0.539096</td>\n    </tr>\n  </tbody>\n</table>\n</div>"
          },
          "metadata": {}
        }
      ],
      "execution_count": 34
    },
    {
      "id": "a09bb91f-375f-401e-bd69-e79d32028af4",
      "cell_type": "code",
      "source": "df.iloc[[1, 2, 4], [0, 2]]",
      "metadata": {
        "trusted": true
      },
      "outputs": [
        {
          "execution_count": 35,
          "output_type": "execute_result",
          "data": {
            "text/plain": "                   A         C\n2013-01-02  0.111065 -0.196337\n2013-01-03 -2.304542  1.236020\n2013-01-05 -0.731084 -0.331175",
            "text/html": "<div>\n<style scoped>\n    .dataframe tbody tr th:only-of-type {\n        vertical-align: middle;\n    }\n\n    .dataframe tbody tr th {\n        vertical-align: top;\n    }\n\n    .dataframe thead th {\n        text-align: right;\n    }\n</style>\n<table border=\"1\" class=\"dataframe\">\n  <thead>\n    <tr style=\"text-align: right;\">\n      <th></th>\n      <th>A</th>\n      <th>C</th>\n    </tr>\n  </thead>\n  <tbody>\n    <tr>\n      <th>2013-01-02</th>\n      <td>0.111065</td>\n      <td>-0.196337</td>\n    </tr>\n    <tr>\n      <th>2013-01-03</th>\n      <td>-2.304542</td>\n      <td>1.236020</td>\n    </tr>\n    <tr>\n      <th>2013-01-05</th>\n      <td>-0.731084</td>\n      <td>-0.331175</td>\n    </tr>\n  </tbody>\n</table>\n</div>"
          },
          "metadata": {}
        }
      ],
      "execution_count": 35
    },
    {
      "id": "6b233579-222a-4495-b9c5-ab00914730e2",
      "cell_type": "code",
      "source": "df.iloc[1:3, :]",
      "metadata": {
        "trusted": true
      },
      "outputs": [
        {
          "execution_count": 36,
          "output_type": "execute_result",
          "data": {
            "text/plain": "                   A         B         C         D\n2013-01-02  0.111065 -0.294828 -0.196337  1.404881\n2013-01-03 -2.304542  2.169355  1.236020 -1.649974",
            "text/html": "<div>\n<style scoped>\n    .dataframe tbody tr th:only-of-type {\n        vertical-align: middle;\n    }\n\n    .dataframe tbody tr th {\n        vertical-align: top;\n    }\n\n    .dataframe thead th {\n        text-align: right;\n    }\n</style>\n<table border=\"1\" class=\"dataframe\">\n  <thead>\n    <tr style=\"text-align: right;\">\n      <th></th>\n      <th>A</th>\n      <th>B</th>\n      <th>C</th>\n      <th>D</th>\n    </tr>\n  </thead>\n  <tbody>\n    <tr>\n      <th>2013-01-02</th>\n      <td>0.111065</td>\n      <td>-0.294828</td>\n      <td>-0.196337</td>\n      <td>1.404881</td>\n    </tr>\n    <tr>\n      <th>2013-01-03</th>\n      <td>-2.304542</td>\n      <td>2.169355</td>\n      <td>1.236020</td>\n      <td>-1.649974</td>\n    </tr>\n  </tbody>\n</table>\n</div>"
          },
          "metadata": {}
        }
      ],
      "execution_count": 36
    },
    {
      "id": "73cca268-25d8-41ee-9d81-4fd56767a277",
      "cell_type": "code",
      "source": "df.iloc[:, 1:3]",
      "metadata": {
        "trusted": true
      },
      "outputs": [
        {
          "execution_count": 37,
          "output_type": "execute_result",
          "data": {
            "text/plain": "                   B         C\n2013-01-01  0.734686  0.906965\n2013-01-02 -0.294828 -0.196337\n2013-01-03  2.169355  1.236020\n2013-01-04 -0.273480 -0.923700\n2013-01-05  0.539096 -0.331175\n2013-01-06 -2.613819 -1.710177",
            "text/html": "<div>\n<style scoped>\n    .dataframe tbody tr th:only-of-type {\n        vertical-align: middle;\n    }\n\n    .dataframe tbody tr th {\n        vertical-align: top;\n    }\n\n    .dataframe thead th {\n        text-align: right;\n    }\n</style>\n<table border=\"1\" class=\"dataframe\">\n  <thead>\n    <tr style=\"text-align: right;\">\n      <th></th>\n      <th>B</th>\n      <th>C</th>\n    </tr>\n  </thead>\n  <tbody>\n    <tr>\n      <th>2013-01-01</th>\n      <td>0.734686</td>\n      <td>0.906965</td>\n    </tr>\n    <tr>\n      <th>2013-01-02</th>\n      <td>-0.294828</td>\n      <td>-0.196337</td>\n    </tr>\n    <tr>\n      <th>2013-01-03</th>\n      <td>2.169355</td>\n      <td>1.236020</td>\n    </tr>\n    <tr>\n      <th>2013-01-04</th>\n      <td>-0.273480</td>\n      <td>-0.923700</td>\n    </tr>\n    <tr>\n      <th>2013-01-05</th>\n      <td>0.539096</td>\n      <td>-0.331175</td>\n    </tr>\n    <tr>\n      <th>2013-01-06</th>\n      <td>-2.613819</td>\n      <td>-1.710177</td>\n    </tr>\n  </tbody>\n</table>\n</div>"
          },
          "metadata": {}
        }
      ],
      "execution_count": 37
    },
    {
      "id": "12c55d4a-242a-48a7-bd9f-318811a4e9e4",
      "cell_type": "code",
      "source": "df.iloc[1, 1]",
      "metadata": {
        "trusted": true
      },
      "outputs": [
        {
          "execution_count": 38,
          "output_type": "execute_result",
          "data": {
            "text/plain": "-0.29482824010828984"
          },
          "metadata": {}
        }
      ],
      "execution_count": 38
    },
    {
      "id": "fc597594-533f-4a4a-9c8a-6bdd60750935",
      "cell_type": "code",
      "source": "df.iat[1, 1]",
      "metadata": {
        "trusted": true
      },
      "outputs": [
        {
          "execution_count": 39,
          "output_type": "execute_result",
          "data": {
            "text/plain": "-0.29482824010828984"
          },
          "metadata": {}
        }
      ],
      "execution_count": 39
    },
    {
      "id": "ae523aee-18d8-4668-b6d2-1105ad63c39d",
      "cell_type": "code",
      "source": "df[df[\"A\"] > 0]",
      "metadata": {
        "trusted": true
      },
      "outputs": [
        {
          "execution_count": 40,
          "output_type": "execute_result",
          "data": {
            "text/plain": "                   A         B         C         D\n2013-01-01  0.098513  0.734686  0.906965  0.912394\n2013-01-02  0.111065 -0.294828 -0.196337  1.404881\n2013-01-04  1.734303 -0.273480 -0.923700  2.188851",
            "text/html": "<div>\n<style scoped>\n    .dataframe tbody tr th:only-of-type {\n        vertical-align: middle;\n    }\n\n    .dataframe tbody tr th {\n        vertical-align: top;\n    }\n\n    .dataframe thead th {\n        text-align: right;\n    }\n</style>\n<table border=\"1\" class=\"dataframe\">\n  <thead>\n    <tr style=\"text-align: right;\">\n      <th></th>\n      <th>A</th>\n      <th>B</th>\n      <th>C</th>\n      <th>D</th>\n    </tr>\n  </thead>\n  <tbody>\n    <tr>\n      <th>2013-01-01</th>\n      <td>0.098513</td>\n      <td>0.734686</td>\n      <td>0.906965</td>\n      <td>0.912394</td>\n    </tr>\n    <tr>\n      <th>2013-01-02</th>\n      <td>0.111065</td>\n      <td>-0.294828</td>\n      <td>-0.196337</td>\n      <td>1.404881</td>\n    </tr>\n    <tr>\n      <th>2013-01-04</th>\n      <td>1.734303</td>\n      <td>-0.273480</td>\n      <td>-0.923700</td>\n      <td>2.188851</td>\n    </tr>\n  </tbody>\n</table>\n</div>"
          },
          "metadata": {}
        }
      ],
      "execution_count": 40
    },
    {
      "id": "bcf2b1e6-e677-4d24-b830-fe80883fb32f",
      "cell_type": "code",
      "source": "df[df > 0]",
      "metadata": {
        "trusted": true
      },
      "outputs": [
        {
          "execution_count": 41,
          "output_type": "execute_result",
          "data": {
            "text/plain": "                   A         B         C         D\n2013-01-01  0.098513  0.734686  0.906965  0.912394\n2013-01-02  0.111065       NaN       NaN  1.404881\n2013-01-03       NaN  2.169355  1.236020       NaN\n2013-01-04  1.734303       NaN       NaN  2.188851\n2013-01-05       NaN  0.539096       NaN  0.469761\n2013-01-06       NaN       NaN       NaN  1.020697",
            "text/html": "<div>\n<style scoped>\n    .dataframe tbody tr th:only-of-type {\n        vertical-align: middle;\n    }\n\n    .dataframe tbody tr th {\n        vertical-align: top;\n    }\n\n    .dataframe thead th {\n        text-align: right;\n    }\n</style>\n<table border=\"1\" class=\"dataframe\">\n  <thead>\n    <tr style=\"text-align: right;\">\n      <th></th>\n      <th>A</th>\n      <th>B</th>\n      <th>C</th>\n      <th>D</th>\n    </tr>\n  </thead>\n  <tbody>\n    <tr>\n      <th>2013-01-01</th>\n      <td>0.098513</td>\n      <td>0.734686</td>\n      <td>0.906965</td>\n      <td>0.912394</td>\n    </tr>\n    <tr>\n      <th>2013-01-02</th>\n      <td>0.111065</td>\n      <td>NaN</td>\n      <td>NaN</td>\n      <td>1.404881</td>\n    </tr>\n    <tr>\n      <th>2013-01-03</th>\n      <td>NaN</td>\n      <td>2.169355</td>\n      <td>1.236020</td>\n      <td>NaN</td>\n    </tr>\n    <tr>\n      <th>2013-01-04</th>\n      <td>1.734303</td>\n      <td>NaN</td>\n      <td>NaN</td>\n      <td>2.188851</td>\n    </tr>\n    <tr>\n      <th>2013-01-05</th>\n      <td>NaN</td>\n      <td>0.539096</td>\n      <td>NaN</td>\n      <td>0.469761</td>\n    </tr>\n    <tr>\n      <th>2013-01-06</th>\n      <td>NaN</td>\n      <td>NaN</td>\n      <td>NaN</td>\n      <td>1.020697</td>\n    </tr>\n  </tbody>\n</table>\n</div>"
          },
          "metadata": {}
        }
      ],
      "execution_count": 41
    },
    {
      "id": "9db2655c-ee05-4f10-87b8-b60fe88a3b27",
      "cell_type": "code",
      "source": "df2 = df.copy()\n\ndf2[\"E\"] = [\"one\", \"one\", \"two\", \"three\", \"four\", \"three\"]\n\ndf2\n",
      "metadata": {
        "trusted": true
      },
      "outputs": [
        {
          "execution_count": 43,
          "output_type": "execute_result",
          "data": {
            "text/plain": "                   A         B         C         D      E\n2013-01-01  0.098513  0.734686  0.906965  0.912394    one\n2013-01-02  0.111065 -0.294828 -0.196337  1.404881    one\n2013-01-03 -2.304542  2.169355  1.236020 -1.649974    two\n2013-01-04  1.734303 -0.273480 -0.923700  2.188851  three\n2013-01-05 -0.731084  0.539096 -0.331175  0.469761   four\n2013-01-06 -1.234027 -2.613819 -1.710177  1.020697  three",
            "text/html": "<div>\n<style scoped>\n    .dataframe tbody tr th:only-of-type {\n        vertical-align: middle;\n    }\n\n    .dataframe tbody tr th {\n        vertical-align: top;\n    }\n\n    .dataframe thead th {\n        text-align: right;\n    }\n</style>\n<table border=\"1\" class=\"dataframe\">\n  <thead>\n    <tr style=\"text-align: right;\">\n      <th></th>\n      <th>A</th>\n      <th>B</th>\n      <th>C</th>\n      <th>D</th>\n      <th>E</th>\n    </tr>\n  </thead>\n  <tbody>\n    <tr>\n      <th>2013-01-01</th>\n      <td>0.098513</td>\n      <td>0.734686</td>\n      <td>0.906965</td>\n      <td>0.912394</td>\n      <td>one</td>\n    </tr>\n    <tr>\n      <th>2013-01-02</th>\n      <td>0.111065</td>\n      <td>-0.294828</td>\n      <td>-0.196337</td>\n      <td>1.404881</td>\n      <td>one</td>\n    </tr>\n    <tr>\n      <th>2013-01-03</th>\n      <td>-2.304542</td>\n      <td>2.169355</td>\n      <td>1.236020</td>\n      <td>-1.649974</td>\n      <td>two</td>\n    </tr>\n    <tr>\n      <th>2013-01-04</th>\n      <td>1.734303</td>\n      <td>-0.273480</td>\n      <td>-0.923700</td>\n      <td>2.188851</td>\n      <td>three</td>\n    </tr>\n    <tr>\n      <th>2013-01-05</th>\n      <td>-0.731084</td>\n      <td>0.539096</td>\n      <td>-0.331175</td>\n      <td>0.469761</td>\n      <td>four</td>\n    </tr>\n    <tr>\n      <th>2013-01-06</th>\n      <td>-1.234027</td>\n      <td>-2.613819</td>\n      <td>-1.710177</td>\n      <td>1.020697</td>\n      <td>three</td>\n    </tr>\n  </tbody>\n</table>\n</div>"
          },
          "metadata": {}
        }
      ],
      "execution_count": 43
    },
    {
      "id": "661c09ca-d6ca-4630-ab0a-cff1a1307446",
      "cell_type": "code",
      "source": "df2[df2[\"E\"].isin([\"two\", \"four\"])]",
      "metadata": {
        "trusted": true
      },
      "outputs": [
        {
          "execution_count": 44,
          "output_type": "execute_result",
          "data": {
            "text/plain": "                   A         B         C         D     E\n2013-01-03 -2.304542  2.169355  1.236020 -1.649974   two\n2013-01-05 -0.731084  0.539096 -0.331175  0.469761  four",
            "text/html": "<div>\n<style scoped>\n    .dataframe tbody tr th:only-of-type {\n        vertical-align: middle;\n    }\n\n    .dataframe tbody tr th {\n        vertical-align: top;\n    }\n\n    .dataframe thead th {\n        text-align: right;\n    }\n</style>\n<table border=\"1\" class=\"dataframe\">\n  <thead>\n    <tr style=\"text-align: right;\">\n      <th></th>\n      <th>A</th>\n      <th>B</th>\n      <th>C</th>\n      <th>D</th>\n      <th>E</th>\n    </tr>\n  </thead>\n  <tbody>\n    <tr>\n      <th>2013-01-03</th>\n      <td>-2.304542</td>\n      <td>2.169355</td>\n      <td>1.236020</td>\n      <td>-1.649974</td>\n      <td>two</td>\n    </tr>\n    <tr>\n      <th>2013-01-05</th>\n      <td>-0.731084</td>\n      <td>0.539096</td>\n      <td>-0.331175</td>\n      <td>0.469761</td>\n      <td>four</td>\n    </tr>\n  </tbody>\n</table>\n</div>"
          },
          "metadata": {}
        }
      ],
      "execution_count": 44
    },
    {
      "id": "8f60dc3c-10d0-4fff-8f8b-722d37053020",
      "cell_type": "code",
      "source": "s1 = pd.Series([1, 2, 3, 4, 5, 6], index=pd.date_range(\"20130102\", periods=6))\n\ns1",
      "metadata": {
        "trusted": true
      },
      "outputs": [
        {
          "execution_count": 46,
          "output_type": "execute_result",
          "data": {
            "text/plain": "2013-01-02    1\n2013-01-03    2\n2013-01-04    3\n2013-01-05    4\n2013-01-06    5\n2013-01-07    6\nFreq: D, dtype: int64"
          },
          "metadata": {}
        }
      ],
      "execution_count": 46
    },
    {
      "id": "ba790e02-ffc6-48c3-bb7a-e2f76e83ad6d",
      "cell_type": "code",
      "source": "df[\"F\"] = s1",
      "metadata": {
        "trusted": true
      },
      "outputs": [],
      "execution_count": 47
    },
    {
      "id": "f77f3770-666f-49dd-8129-59f3f5aa0506",
      "cell_type": "code",
      "source": "df.at[dates[0], \"A\"] = 0",
      "metadata": {
        "trusted": true
      },
      "outputs": [],
      "execution_count": 48
    },
    {
      "id": "9cef02dd-daa4-4c3e-84b2-f254ac61f1ac",
      "cell_type": "code",
      "source": "df.iat[0, 1] = 0",
      "metadata": {
        "trusted": true
      },
      "outputs": [],
      "execution_count": 49
    },
    {
      "id": "9963329b-1815-481e-a877-1ce503f02502",
      "cell_type": "code",
      "source": "df.loc[:, \"D\"] = np.array([5] * len(df))",
      "metadata": {
        "trusted": true
      },
      "outputs": [],
      "execution_count": 51
    },
    {
      "id": "06aaf1e2-e6e3-4374-a7f6-7169ebb5e136",
      "cell_type": "code",
      "source": "df",
      "metadata": {
        "trusted": true
      },
      "outputs": [
        {
          "execution_count": 52,
          "output_type": "execute_result",
          "data": {
            "text/plain": "                   A         B         C  D    F\n2013-01-01  0.000000  0.000000  0.906965  5  NaN\n2013-01-02  0.111065 -0.294828 -0.196337  5  1.0\n2013-01-03 -2.304542  2.169355  1.236020  5  2.0\n2013-01-04  1.734303 -0.273480 -0.923700  5  3.0\n2013-01-05 -0.731084  0.539096 -0.331175  5  4.0\n2013-01-06 -1.234027 -2.613819 -1.710177  5  5.0",
            "text/html": "<div>\n<style scoped>\n    .dataframe tbody tr th:only-of-type {\n        vertical-align: middle;\n    }\n\n    .dataframe tbody tr th {\n        vertical-align: top;\n    }\n\n    .dataframe thead th {\n        text-align: right;\n    }\n</style>\n<table border=\"1\" class=\"dataframe\">\n  <thead>\n    <tr style=\"text-align: right;\">\n      <th></th>\n      <th>A</th>\n      <th>B</th>\n      <th>C</th>\n      <th>D</th>\n      <th>F</th>\n    </tr>\n  </thead>\n  <tbody>\n    <tr>\n      <th>2013-01-01</th>\n      <td>0.000000</td>\n      <td>0.000000</td>\n      <td>0.906965</td>\n      <td>5</td>\n      <td>NaN</td>\n    </tr>\n    <tr>\n      <th>2013-01-02</th>\n      <td>0.111065</td>\n      <td>-0.294828</td>\n      <td>-0.196337</td>\n      <td>5</td>\n      <td>1.0</td>\n    </tr>\n    <tr>\n      <th>2013-01-03</th>\n      <td>-2.304542</td>\n      <td>2.169355</td>\n      <td>1.236020</td>\n      <td>5</td>\n      <td>2.0</td>\n    </tr>\n    <tr>\n      <th>2013-01-04</th>\n      <td>1.734303</td>\n      <td>-0.273480</td>\n      <td>-0.923700</td>\n      <td>5</td>\n      <td>3.0</td>\n    </tr>\n    <tr>\n      <th>2013-01-05</th>\n      <td>-0.731084</td>\n      <td>0.539096</td>\n      <td>-0.331175</td>\n      <td>5</td>\n      <td>4.0</td>\n    </tr>\n    <tr>\n      <th>2013-01-06</th>\n      <td>-1.234027</td>\n      <td>-2.613819</td>\n      <td>-1.710177</td>\n      <td>5</td>\n      <td>5.0</td>\n    </tr>\n  </tbody>\n</table>\n</div>"
          },
          "metadata": {}
        }
      ],
      "execution_count": 52
    },
    {
      "id": "efdf72d2-d9bd-42c4-87fe-d803e11dd727",
      "cell_type": "code",
      "source": "df2 = df.copy()",
      "metadata": {
        "trusted": true
      },
      "outputs": [],
      "execution_count": 53
    },
    {
      "id": "b43803e6-2cb3-4c1f-933f-f49d1531c974",
      "cell_type": "code",
      "source": "df2[df2 > 0] = -df2",
      "metadata": {
        "trusted": true
      },
      "outputs": [],
      "execution_count": 54
    },
    {
      "id": "55f57dd1-94e8-45ab-b8de-b273bf537d3b",
      "cell_type": "code",
      "source": "df2",
      "metadata": {
        "trusted": true
      },
      "outputs": [
        {
          "execution_count": 55,
          "output_type": "execute_result",
          "data": {
            "text/plain": "                   A         B         C  D    F\n2013-01-01  0.000000  0.000000 -0.906965 -5  NaN\n2013-01-02 -0.111065 -0.294828 -0.196337 -5 -1.0\n2013-01-03 -2.304542 -2.169355 -1.236020 -5 -2.0\n2013-01-04 -1.734303 -0.273480 -0.923700 -5 -3.0\n2013-01-05 -0.731084 -0.539096 -0.331175 -5 -4.0\n2013-01-06 -1.234027 -2.613819 -1.710177 -5 -5.0",
            "text/html": "<div>\n<style scoped>\n    .dataframe tbody tr th:only-of-type {\n        vertical-align: middle;\n    }\n\n    .dataframe tbody tr th {\n        vertical-align: top;\n    }\n\n    .dataframe thead th {\n        text-align: right;\n    }\n</style>\n<table border=\"1\" class=\"dataframe\">\n  <thead>\n    <tr style=\"text-align: right;\">\n      <th></th>\n      <th>A</th>\n      <th>B</th>\n      <th>C</th>\n      <th>D</th>\n      <th>F</th>\n    </tr>\n  </thead>\n  <tbody>\n    <tr>\n      <th>2013-01-01</th>\n      <td>0.000000</td>\n      <td>0.000000</td>\n      <td>-0.906965</td>\n      <td>-5</td>\n      <td>NaN</td>\n    </tr>\n    <tr>\n      <th>2013-01-02</th>\n      <td>-0.111065</td>\n      <td>-0.294828</td>\n      <td>-0.196337</td>\n      <td>-5</td>\n      <td>-1.0</td>\n    </tr>\n    <tr>\n      <th>2013-01-03</th>\n      <td>-2.304542</td>\n      <td>-2.169355</td>\n      <td>-1.236020</td>\n      <td>-5</td>\n      <td>-2.0</td>\n    </tr>\n    <tr>\n      <th>2013-01-04</th>\n      <td>-1.734303</td>\n      <td>-0.273480</td>\n      <td>-0.923700</td>\n      <td>-5</td>\n      <td>-3.0</td>\n    </tr>\n    <tr>\n      <th>2013-01-05</th>\n      <td>-0.731084</td>\n      <td>-0.539096</td>\n      <td>-0.331175</td>\n      <td>-5</td>\n      <td>-4.0</td>\n    </tr>\n    <tr>\n      <th>2013-01-06</th>\n      <td>-1.234027</td>\n      <td>-2.613819</td>\n      <td>-1.710177</td>\n      <td>-5</td>\n      <td>-5.0</td>\n    </tr>\n  </tbody>\n</table>\n</div>"
          },
          "metadata": {}
        }
      ],
      "execution_count": 55
    },
    {
      "id": "daae919c-f9cd-4ac4-9d5e-0e5bd82aed5e",
      "cell_type": "code",
      "source": "df1 = df.reindex(index=dates[0:4], columns=list(df.columns) + [\"E\"])",
      "metadata": {
        "trusted": true
      },
      "outputs": [],
      "execution_count": 56
    },
    {
      "id": "a07182c6-f093-47ee-8a6e-b512cbc8eb90",
      "cell_type": "code",
      "source": "df1.loc[dates[0] : dates[1], \"E\"] = 1",
      "metadata": {
        "trusted": true
      },
      "outputs": [],
      "execution_count": 57
    },
    {
      "id": "59a53688-40e4-4350-b268-ef4be2b43b39",
      "cell_type": "code",
      "source": "df1",
      "metadata": {
        "trusted": true
      },
      "outputs": [
        {
          "execution_count": 58,
          "output_type": "execute_result",
          "data": {
            "text/plain": "                   A         B         C  D    F    E\n2013-01-01  0.000000  0.000000  0.906965  5  NaN  1.0\n2013-01-02  0.111065 -0.294828 -0.196337  5  1.0  1.0\n2013-01-03 -2.304542  2.169355  1.236020  5  2.0  NaN\n2013-01-04  1.734303 -0.273480 -0.923700  5  3.0  NaN",
            "text/html": "<div>\n<style scoped>\n    .dataframe tbody tr th:only-of-type {\n        vertical-align: middle;\n    }\n\n    .dataframe tbody tr th {\n        vertical-align: top;\n    }\n\n    .dataframe thead th {\n        text-align: right;\n    }\n</style>\n<table border=\"1\" class=\"dataframe\">\n  <thead>\n    <tr style=\"text-align: right;\">\n      <th></th>\n      <th>A</th>\n      <th>B</th>\n      <th>C</th>\n      <th>D</th>\n      <th>F</th>\n      <th>E</th>\n    </tr>\n  </thead>\n  <tbody>\n    <tr>\n      <th>2013-01-01</th>\n      <td>0.000000</td>\n      <td>0.000000</td>\n      <td>0.906965</td>\n      <td>5</td>\n      <td>NaN</td>\n      <td>1.0</td>\n    </tr>\n    <tr>\n      <th>2013-01-02</th>\n      <td>0.111065</td>\n      <td>-0.294828</td>\n      <td>-0.196337</td>\n      <td>5</td>\n      <td>1.0</td>\n      <td>1.0</td>\n    </tr>\n    <tr>\n      <th>2013-01-03</th>\n      <td>-2.304542</td>\n      <td>2.169355</td>\n      <td>1.236020</td>\n      <td>5</td>\n      <td>2.0</td>\n      <td>NaN</td>\n    </tr>\n    <tr>\n      <th>2013-01-04</th>\n      <td>1.734303</td>\n      <td>-0.273480</td>\n      <td>-0.923700</td>\n      <td>5</td>\n      <td>3.0</td>\n      <td>NaN</td>\n    </tr>\n  </tbody>\n</table>\n</div>"
          },
          "metadata": {}
        }
      ],
      "execution_count": 58
    },
    {
      "id": "6d71da81-39b5-42d4-8f4c-235fd4680ae4",
      "cell_type": "code",
      "source": "df1.dropna(how=\"any\")",
      "metadata": {
        "trusted": true
      },
      "outputs": [
        {
          "execution_count": 59,
          "output_type": "execute_result",
          "data": {
            "text/plain": "                   A         B         C  D    F    E\n2013-01-02  0.111065 -0.294828 -0.196337  5  1.0  1.0",
            "text/html": "<div>\n<style scoped>\n    .dataframe tbody tr th:only-of-type {\n        vertical-align: middle;\n    }\n\n    .dataframe tbody tr th {\n        vertical-align: top;\n    }\n\n    .dataframe thead th {\n        text-align: right;\n    }\n</style>\n<table border=\"1\" class=\"dataframe\">\n  <thead>\n    <tr style=\"text-align: right;\">\n      <th></th>\n      <th>A</th>\n      <th>B</th>\n      <th>C</th>\n      <th>D</th>\n      <th>F</th>\n      <th>E</th>\n    </tr>\n  </thead>\n  <tbody>\n    <tr>\n      <th>2013-01-02</th>\n      <td>0.111065</td>\n      <td>-0.294828</td>\n      <td>-0.196337</td>\n      <td>5</td>\n      <td>1.0</td>\n      <td>1.0</td>\n    </tr>\n  </tbody>\n</table>\n</div>"
          },
          "metadata": {}
        }
      ],
      "execution_count": 59
    },
    {
      "id": "a5120e9e-e925-4e5b-b1c7-ac1de034a9b7",
      "cell_type": "code",
      "source": "df1.fillna(value=5)",
      "metadata": {
        "trusted": true
      },
      "outputs": [
        {
          "execution_count": 60,
          "output_type": "execute_result",
          "data": {
            "text/plain": "                   A         B         C  D    F    E\n2013-01-01  0.000000  0.000000  0.906965  5  5.0  1.0\n2013-01-02  0.111065 -0.294828 -0.196337  5  1.0  1.0\n2013-01-03 -2.304542  2.169355  1.236020  5  2.0  5.0\n2013-01-04  1.734303 -0.273480 -0.923700  5  3.0  5.0",
            "text/html": "<div>\n<style scoped>\n    .dataframe tbody tr th:only-of-type {\n        vertical-align: middle;\n    }\n\n    .dataframe tbody tr th {\n        vertical-align: top;\n    }\n\n    .dataframe thead th {\n        text-align: right;\n    }\n</style>\n<table border=\"1\" class=\"dataframe\">\n  <thead>\n    <tr style=\"text-align: right;\">\n      <th></th>\n      <th>A</th>\n      <th>B</th>\n      <th>C</th>\n      <th>D</th>\n      <th>F</th>\n      <th>E</th>\n    </tr>\n  </thead>\n  <tbody>\n    <tr>\n      <th>2013-01-01</th>\n      <td>0.000000</td>\n      <td>0.000000</td>\n      <td>0.906965</td>\n      <td>5</td>\n      <td>5.0</td>\n      <td>1.0</td>\n    </tr>\n    <tr>\n      <th>2013-01-02</th>\n      <td>0.111065</td>\n      <td>-0.294828</td>\n      <td>-0.196337</td>\n      <td>5</td>\n      <td>1.0</td>\n      <td>1.0</td>\n    </tr>\n    <tr>\n      <th>2013-01-03</th>\n      <td>-2.304542</td>\n      <td>2.169355</td>\n      <td>1.236020</td>\n      <td>5</td>\n      <td>2.0</td>\n      <td>5.0</td>\n    </tr>\n    <tr>\n      <th>2013-01-04</th>\n      <td>1.734303</td>\n      <td>-0.273480</td>\n      <td>-0.923700</td>\n      <td>5</td>\n      <td>3.0</td>\n      <td>5.0</td>\n    </tr>\n  </tbody>\n</table>\n</div>"
          },
          "metadata": {}
        }
      ],
      "execution_count": 60
    },
    {
      "id": "8a01da65-c901-49c1-b1a1-88b9817cb065",
      "cell_type": "code",
      "source": "pd.isna(df1)",
      "metadata": {
        "trusted": true
      },
      "outputs": [
        {
          "execution_count": 61,
          "output_type": "execute_result",
          "data": {
            "text/plain": "                A      B      C      D      F      E\n2013-01-01  False  False  False  False   True  False\n2013-01-02  False  False  False  False  False  False\n2013-01-03  False  False  False  False  False   True\n2013-01-04  False  False  False  False  False   True",
            "text/html": "<div>\n<style scoped>\n    .dataframe tbody tr th:only-of-type {\n        vertical-align: middle;\n    }\n\n    .dataframe tbody tr th {\n        vertical-align: top;\n    }\n\n    .dataframe thead th {\n        text-align: right;\n    }\n</style>\n<table border=\"1\" class=\"dataframe\">\n  <thead>\n    <tr style=\"text-align: right;\">\n      <th></th>\n      <th>A</th>\n      <th>B</th>\n      <th>C</th>\n      <th>D</th>\n      <th>F</th>\n      <th>E</th>\n    </tr>\n  </thead>\n  <tbody>\n    <tr>\n      <th>2013-01-01</th>\n      <td>False</td>\n      <td>False</td>\n      <td>False</td>\n      <td>False</td>\n      <td>True</td>\n      <td>False</td>\n    </tr>\n    <tr>\n      <th>2013-01-02</th>\n      <td>False</td>\n      <td>False</td>\n      <td>False</td>\n      <td>False</td>\n      <td>False</td>\n      <td>False</td>\n    </tr>\n    <tr>\n      <th>2013-01-03</th>\n      <td>False</td>\n      <td>False</td>\n      <td>False</td>\n      <td>False</td>\n      <td>False</td>\n      <td>True</td>\n    </tr>\n    <tr>\n      <th>2013-01-04</th>\n      <td>False</td>\n      <td>False</td>\n      <td>False</td>\n      <td>False</td>\n      <td>False</td>\n      <td>True</td>\n    </tr>\n  </tbody>\n</table>\n</div>"
          },
          "metadata": {}
        }
      ],
      "execution_count": 61
    },
    {
      "id": "ed708df8-bf21-4480-b98c-b5eea437112f",
      "cell_type": "code",
      "source": "df.mean()",
      "metadata": {
        "trusted": true
      },
      "outputs": [
        {
          "execution_count": 62,
          "output_type": "execute_result",
          "data": {
            "text/plain": "A   -0.404047\nB   -0.078946\nC   -0.169734\nD    5.000000\nF    3.000000\ndtype: float64"
          },
          "metadata": {}
        }
      ],
      "execution_count": 62
    },
    {
      "id": "b1e0175e-5781-4a3f-a494-73738b857329",
      "cell_type": "code",
      "source": "df.mean(axis=1)",
      "metadata": {
        "trusted": true
      },
      "outputs": [
        {
          "execution_count": 63,
          "output_type": "execute_result",
          "data": {
            "text/plain": "2013-01-01    1.476741\n2013-01-02    1.123980\n2013-01-03    1.620167\n2013-01-04    1.707425\n2013-01-05    1.695367\n2013-01-06    0.888395\nFreq: D, dtype: float64"
          },
          "metadata": {}
        }
      ],
      "execution_count": 63
    },
    {
      "id": "3479e82d-841f-478c-9b9b-a9cb2d24b1b2",
      "cell_type": "code",
      "source": "s = pd.Series([1, 3, 5, np.nan, 6, 8], index=dates).shift(2)\n\ns",
      "metadata": {
        "trusted": true
      },
      "outputs": [
        {
          "execution_count": 64,
          "output_type": "execute_result",
          "data": {
            "text/plain": "2013-01-01    NaN\n2013-01-02    NaN\n2013-01-03    1.0\n2013-01-04    3.0\n2013-01-05    5.0\n2013-01-06    NaN\nFreq: D, dtype: float64"
          },
          "metadata": {}
        }
      ],
      "execution_count": 64
    },
    {
      "id": "b6b47f61-1955-4d5c-ba41-35695eacd67f",
      "cell_type": "code",
      "source": "df.sub(s, axis=\"index\")",
      "metadata": {
        "trusted": true
      },
      "outputs": [
        {
          "execution_count": 65,
          "output_type": "execute_result",
          "data": {
            "text/plain": "                   A         B         C    D    F\n2013-01-01       NaN       NaN       NaN  NaN  NaN\n2013-01-02       NaN       NaN       NaN  NaN  NaN\n2013-01-03 -3.304542  1.169355  0.236020  4.0  1.0\n2013-01-04 -1.265697 -3.273480 -3.923700  2.0  0.0\n2013-01-05 -5.731084 -4.460904 -5.331175  0.0 -1.0\n2013-01-06       NaN       NaN       NaN  NaN  NaN",
            "text/html": "<div>\n<style scoped>\n    .dataframe tbody tr th:only-of-type {\n        vertical-align: middle;\n    }\n\n    .dataframe tbody tr th {\n        vertical-align: top;\n    }\n\n    .dataframe thead th {\n        text-align: right;\n    }\n</style>\n<table border=\"1\" class=\"dataframe\">\n  <thead>\n    <tr style=\"text-align: right;\">\n      <th></th>\n      <th>A</th>\n      <th>B</th>\n      <th>C</th>\n      <th>D</th>\n      <th>F</th>\n    </tr>\n  </thead>\n  <tbody>\n    <tr>\n      <th>2013-01-01</th>\n      <td>NaN</td>\n      <td>NaN</td>\n      <td>NaN</td>\n      <td>NaN</td>\n      <td>NaN</td>\n    </tr>\n    <tr>\n      <th>2013-01-02</th>\n      <td>NaN</td>\n      <td>NaN</td>\n      <td>NaN</td>\n      <td>NaN</td>\n      <td>NaN</td>\n    </tr>\n    <tr>\n      <th>2013-01-03</th>\n      <td>-3.304542</td>\n      <td>1.169355</td>\n      <td>0.236020</td>\n      <td>4.0</td>\n      <td>1.0</td>\n    </tr>\n    <tr>\n      <th>2013-01-04</th>\n      <td>-1.265697</td>\n      <td>-3.273480</td>\n      <td>-3.923700</td>\n      <td>2.0</td>\n      <td>0.0</td>\n    </tr>\n    <tr>\n      <th>2013-01-05</th>\n      <td>-5.731084</td>\n      <td>-4.460904</td>\n      <td>-5.331175</td>\n      <td>0.0</td>\n      <td>-1.0</td>\n    </tr>\n    <tr>\n      <th>2013-01-06</th>\n      <td>NaN</td>\n      <td>NaN</td>\n      <td>NaN</td>\n      <td>NaN</td>\n      <td>NaN</td>\n    </tr>\n  </tbody>\n</table>\n</div>"
          },
          "metadata": {}
        }
      ],
      "execution_count": 65
    },
    {
      "id": "a3d1f155-e4cd-4b6f-87e3-0b72ad0972b8",
      "cell_type": "code",
      "source": "df.agg(lambda x: np.mean(x) * 5.6)",
      "metadata": {
        "trusted": true
      },
      "outputs": [
        {
          "execution_count": 66,
          "output_type": "execute_result",
          "data": {
            "text/plain": "A    -2.262666\nB    -0.442099\nC    -0.950510\nD    28.000000\nF    16.800000\ndtype: float64"
          },
          "metadata": {}
        }
      ],
      "execution_count": 66
    },
    {
      "id": "1d0396f9-1c39-4676-ab99-b5e88b2ba4f6",
      "cell_type": "code",
      "source": "df.transform(lambda x: x * 101.2)",
      "metadata": {
        "trusted": true
      },
      "outputs": [
        {
          "execution_count": 67,
          "output_type": "execute_result",
          "data": {
            "text/plain": "                     A           B           C      D      F\n2013-01-01    0.000000    0.000000   91.784849  506.0    NaN\n2013-01-02   11.239784  -29.836618  -19.869321  506.0  101.2\n2013-01-03 -233.219625  219.538738  125.085179  506.0  202.4\n2013-01-04  175.511427  -27.676226  -93.478392  506.0  303.6\n2013-01-05  -73.985675   54.556493  -33.514888  506.0  404.8\n2013-01-06 -124.883529 -264.518511 -173.069899  506.0  506.0",
            "text/html": "<div>\n<style scoped>\n    .dataframe tbody tr th:only-of-type {\n        vertical-align: middle;\n    }\n\n    .dataframe tbody tr th {\n        vertical-align: top;\n    }\n\n    .dataframe thead th {\n        text-align: right;\n    }\n</style>\n<table border=\"1\" class=\"dataframe\">\n  <thead>\n    <tr style=\"text-align: right;\">\n      <th></th>\n      <th>A</th>\n      <th>B</th>\n      <th>C</th>\n      <th>D</th>\n      <th>F</th>\n    </tr>\n  </thead>\n  <tbody>\n    <tr>\n      <th>2013-01-01</th>\n      <td>0.000000</td>\n      <td>0.000000</td>\n      <td>91.784849</td>\n      <td>506.0</td>\n      <td>NaN</td>\n    </tr>\n    <tr>\n      <th>2013-01-02</th>\n      <td>11.239784</td>\n      <td>-29.836618</td>\n      <td>-19.869321</td>\n      <td>506.0</td>\n      <td>101.2</td>\n    </tr>\n    <tr>\n      <th>2013-01-03</th>\n      <td>-233.219625</td>\n      <td>219.538738</td>\n      <td>125.085179</td>\n      <td>506.0</td>\n      <td>202.4</td>\n    </tr>\n    <tr>\n      <th>2013-01-04</th>\n      <td>175.511427</td>\n      <td>-27.676226</td>\n      <td>-93.478392</td>\n      <td>506.0</td>\n      <td>303.6</td>\n    </tr>\n    <tr>\n      <th>2013-01-05</th>\n      <td>-73.985675</td>\n      <td>54.556493</td>\n      <td>-33.514888</td>\n      <td>506.0</td>\n      <td>404.8</td>\n    </tr>\n    <tr>\n      <th>2013-01-06</th>\n      <td>-124.883529</td>\n      <td>-264.518511</td>\n      <td>-173.069899</td>\n      <td>506.0</td>\n      <td>506.0</td>\n    </tr>\n  </tbody>\n</table>\n</div>"
          },
          "metadata": {}
        }
      ],
      "execution_count": 67
    },
    {
      "id": "aff084d3-0620-4221-a08c-26dfabdd6178",
      "cell_type": "code",
      "source": "s = pd.Series(np.random.randint(0, 7, size=10))\n\ns",
      "metadata": {
        "trusted": true
      },
      "outputs": [
        {
          "execution_count": 69,
          "output_type": "execute_result",
          "data": {
            "text/plain": "0    4\n1    4\n2    1\n3    2\n4    5\n5    2\n6    0\n7    0\n8    6\n9    5\ndtype: int32"
          },
          "metadata": {}
        }
      ],
      "execution_count": 69
    },
    {
      "id": "a18ccfe9-5332-48c2-b804-a6fc6fd32ac8",
      "cell_type": "code",
      "source": "s.value_counts()",
      "metadata": {
        "trusted": true
      },
      "outputs": [
        {
          "execution_count": 70,
          "output_type": "execute_result",
          "data": {
            "text/plain": "4    2\n2    2\n5    2\n0    2\n1    1\n6    1\ndtype: int64"
          },
          "metadata": {}
        }
      ],
      "execution_count": 70
    },
    {
      "id": "7bf8a8da-2890-413c-8473-4452f2a1e64c",
      "cell_type": "code",
      "source": "s = pd.Series([\"A\", \"B\", \"C\", \"Aaba\", \"Baca\", np.nan, \"CABA\", \"dog\", \"cat\"])\n\ns.str.lower()",
      "metadata": {
        "trusted": true
      },
      "outputs": [
        {
          "execution_count": 71,
          "output_type": "execute_result",
          "data": {
            "text/plain": "0       a\n1       b\n2       c\n3    aaba\n4    baca\n5     NaN\n6    caba\n7     dog\n8     cat\ndtype: object"
          },
          "metadata": {}
        }
      ],
      "execution_count": 71
    },
    {
      "id": "ac991919-689b-4c04-b765-873adaa8aff6",
      "cell_type": "code",
      "source": "df = pd.DataFrame(np.random.randn(10, 4))\n\ndf",
      "metadata": {
        "trusted": true
      },
      "outputs": [
        {
          "execution_count": 72,
          "output_type": "execute_result",
          "data": {
            "text/plain": "          0         1         2         3\n0  0.235209  0.824215  0.016308 -1.108251\n1  0.103963  0.522348  0.293166 -0.158824\n2 -2.346531 -0.359033  0.833654  0.177390\n3  0.495515  0.223370  0.658126 -1.582042\n4  0.502105 -1.199214 -1.280334 -0.196320\n5 -0.608081  0.699171 -0.356422 -0.866976\n6  1.020101 -0.125710 -0.203060  1.644572\n7 -0.539338  0.431234  0.420154  1.612579\n8 -1.022474 -0.215270  1.864163 -0.357755\n9 -0.634985 -1.515230  0.091494  0.718567",
            "text/html": "<div>\n<style scoped>\n    .dataframe tbody tr th:only-of-type {\n        vertical-align: middle;\n    }\n\n    .dataframe tbody tr th {\n        vertical-align: top;\n    }\n\n    .dataframe thead th {\n        text-align: right;\n    }\n</style>\n<table border=\"1\" class=\"dataframe\">\n  <thead>\n    <tr style=\"text-align: right;\">\n      <th></th>\n      <th>0</th>\n      <th>1</th>\n      <th>2</th>\n      <th>3</th>\n    </tr>\n  </thead>\n  <tbody>\n    <tr>\n      <th>0</th>\n      <td>0.235209</td>\n      <td>0.824215</td>\n      <td>0.016308</td>\n      <td>-1.108251</td>\n    </tr>\n    <tr>\n      <th>1</th>\n      <td>0.103963</td>\n      <td>0.522348</td>\n      <td>0.293166</td>\n      <td>-0.158824</td>\n    </tr>\n    <tr>\n      <th>2</th>\n      <td>-2.346531</td>\n      <td>-0.359033</td>\n      <td>0.833654</td>\n      <td>0.177390</td>\n    </tr>\n    <tr>\n      <th>3</th>\n      <td>0.495515</td>\n      <td>0.223370</td>\n      <td>0.658126</td>\n      <td>-1.582042</td>\n    </tr>\n    <tr>\n      <th>4</th>\n      <td>0.502105</td>\n      <td>-1.199214</td>\n      <td>-1.280334</td>\n      <td>-0.196320</td>\n    </tr>\n    <tr>\n      <th>5</th>\n      <td>-0.608081</td>\n      <td>0.699171</td>\n      <td>-0.356422</td>\n      <td>-0.866976</td>\n    </tr>\n    <tr>\n      <th>6</th>\n      <td>1.020101</td>\n      <td>-0.125710</td>\n      <td>-0.203060</td>\n      <td>1.644572</td>\n    </tr>\n    <tr>\n      <th>7</th>\n      <td>-0.539338</td>\n      <td>0.431234</td>\n      <td>0.420154</td>\n      <td>1.612579</td>\n    </tr>\n    <tr>\n      <th>8</th>\n      <td>-1.022474</td>\n      <td>-0.215270</td>\n      <td>1.864163</td>\n      <td>-0.357755</td>\n    </tr>\n    <tr>\n      <th>9</th>\n      <td>-0.634985</td>\n      <td>-1.515230</td>\n      <td>0.091494</td>\n      <td>0.718567</td>\n    </tr>\n  </tbody>\n</table>\n</div>"
          },
          "metadata": {}
        }
      ],
      "execution_count": 72
    },
    {
      "id": "82cfb490-f0c6-48bb-8fd8-d7a43b1fc74c",
      "cell_type": "code",
      "source": "pieces = [df[:3], df[3:7], df[7:]]",
      "metadata": {
        "trusted": true
      },
      "outputs": [],
      "execution_count": 73
    },
    {
      "id": "11d30c60-da10-4a37-a5e6-fac448ccd179",
      "cell_type": "code",
      "source": "pd.concat(pieces)",
      "metadata": {
        "trusted": true
      },
      "outputs": [
        {
          "execution_count": 74,
          "output_type": "execute_result",
          "data": {
            "text/plain": "          0         1         2         3\n0  0.235209  0.824215  0.016308 -1.108251\n1  0.103963  0.522348  0.293166 -0.158824\n2 -2.346531 -0.359033  0.833654  0.177390\n3  0.495515  0.223370  0.658126 -1.582042\n4  0.502105 -1.199214 -1.280334 -0.196320\n5 -0.608081  0.699171 -0.356422 -0.866976\n6  1.020101 -0.125710 -0.203060  1.644572\n7 -0.539338  0.431234  0.420154  1.612579\n8 -1.022474 -0.215270  1.864163 -0.357755\n9 -0.634985 -1.515230  0.091494  0.718567",
            "text/html": "<div>\n<style scoped>\n    .dataframe tbody tr th:only-of-type {\n        vertical-align: middle;\n    }\n\n    .dataframe tbody tr th {\n        vertical-align: top;\n    }\n\n    .dataframe thead th {\n        text-align: right;\n    }\n</style>\n<table border=\"1\" class=\"dataframe\">\n  <thead>\n    <tr style=\"text-align: right;\">\n      <th></th>\n      <th>0</th>\n      <th>1</th>\n      <th>2</th>\n      <th>3</th>\n    </tr>\n  </thead>\n  <tbody>\n    <tr>\n      <th>0</th>\n      <td>0.235209</td>\n      <td>0.824215</td>\n      <td>0.016308</td>\n      <td>-1.108251</td>\n    </tr>\n    <tr>\n      <th>1</th>\n      <td>0.103963</td>\n      <td>0.522348</td>\n      <td>0.293166</td>\n      <td>-0.158824</td>\n    </tr>\n    <tr>\n      <th>2</th>\n      <td>-2.346531</td>\n      <td>-0.359033</td>\n      <td>0.833654</td>\n      <td>0.177390</td>\n    </tr>\n    <tr>\n      <th>3</th>\n      <td>0.495515</td>\n      <td>0.223370</td>\n      <td>0.658126</td>\n      <td>-1.582042</td>\n    </tr>\n    <tr>\n      <th>4</th>\n      <td>0.502105</td>\n      <td>-1.199214</td>\n      <td>-1.280334</td>\n      <td>-0.196320</td>\n    </tr>\n    <tr>\n      <th>5</th>\n      <td>-0.608081</td>\n      <td>0.699171</td>\n      <td>-0.356422</td>\n      <td>-0.866976</td>\n    </tr>\n    <tr>\n      <th>6</th>\n      <td>1.020101</td>\n      <td>-0.125710</td>\n      <td>-0.203060</td>\n      <td>1.644572</td>\n    </tr>\n    <tr>\n      <th>7</th>\n      <td>-0.539338</td>\n      <td>0.431234</td>\n      <td>0.420154</td>\n      <td>1.612579</td>\n    </tr>\n    <tr>\n      <th>8</th>\n      <td>-1.022474</td>\n      <td>-0.215270</td>\n      <td>1.864163</td>\n      <td>-0.357755</td>\n    </tr>\n    <tr>\n      <th>9</th>\n      <td>-0.634985</td>\n      <td>-1.515230</td>\n      <td>0.091494</td>\n      <td>0.718567</td>\n    </tr>\n  </tbody>\n</table>\n</div>"
          },
          "metadata": {}
        }
      ],
      "execution_count": 74
    },
    {
      "id": "86113264-603d-4bc7-8b0e-73a0348037bf",
      "cell_type": "code",
      "source": "left = pd.DataFrame({\"key\": [\"foo\", \"foo\"], \"lval\": [1, 2]})",
      "metadata": {
        "trusted": true
      },
      "outputs": [],
      "execution_count": 75
    },
    {
      "id": "a235760c-2a19-4510-835f-9a16ae48a3c0",
      "cell_type": "code",
      "source": "right = pd.DataFrame({\"key\": [\"foo\", \"foo\"], \"rval\": [4, 5]})",
      "metadata": {
        "trusted": true
      },
      "outputs": [],
      "execution_count": 76
    },
    {
      "id": "ce7b7302-0ec9-4812-b352-a96999fbd2ae",
      "cell_type": "code",
      "source": "left",
      "metadata": {
        "trusted": true
      },
      "outputs": [
        {
          "execution_count": 77,
          "output_type": "execute_result",
          "data": {
            "text/plain": "   key  lval\n0  foo     1\n1  foo     2",
            "text/html": "<div>\n<style scoped>\n    .dataframe tbody tr th:only-of-type {\n        vertical-align: middle;\n    }\n\n    .dataframe tbody tr th {\n        vertical-align: top;\n    }\n\n    .dataframe thead th {\n        text-align: right;\n    }\n</style>\n<table border=\"1\" class=\"dataframe\">\n  <thead>\n    <tr style=\"text-align: right;\">\n      <th></th>\n      <th>key</th>\n      <th>lval</th>\n    </tr>\n  </thead>\n  <tbody>\n    <tr>\n      <th>0</th>\n      <td>foo</td>\n      <td>1</td>\n    </tr>\n    <tr>\n      <th>1</th>\n      <td>foo</td>\n      <td>2</td>\n    </tr>\n  </tbody>\n</table>\n</div>"
          },
          "metadata": {}
        }
      ],
      "execution_count": 77
    },
    {
      "id": "03a4e279-b7d1-4cda-91ae-a3dd794181c4",
      "cell_type": "code",
      "source": "right",
      "metadata": {
        "trusted": true
      },
      "outputs": [
        {
          "execution_count": 78,
          "output_type": "execute_result",
          "data": {
            "text/plain": "   key  rval\n0  foo     4\n1  foo     5",
            "text/html": "<div>\n<style scoped>\n    .dataframe tbody tr th:only-of-type {\n        vertical-align: middle;\n    }\n\n    .dataframe tbody tr th {\n        vertical-align: top;\n    }\n\n    .dataframe thead th {\n        text-align: right;\n    }\n</style>\n<table border=\"1\" class=\"dataframe\">\n  <thead>\n    <tr style=\"text-align: right;\">\n      <th></th>\n      <th>key</th>\n      <th>rval</th>\n    </tr>\n  </thead>\n  <tbody>\n    <tr>\n      <th>0</th>\n      <td>foo</td>\n      <td>4</td>\n    </tr>\n    <tr>\n      <th>1</th>\n      <td>foo</td>\n      <td>5</td>\n    </tr>\n  </tbody>\n</table>\n</div>"
          },
          "metadata": {}
        }
      ],
      "execution_count": 78
    },
    {
      "id": "2be0e68a-ede6-48e9-9eae-23b4d2774471",
      "cell_type": "code",
      "source": "pd.merge(left, right, on=\"key\")",
      "metadata": {
        "trusted": true
      },
      "outputs": [
        {
          "execution_count": 79,
          "output_type": "execute_result",
          "data": {
            "text/plain": "   key  lval  rval\n0  foo     1     4\n1  foo     1     5\n2  foo     2     4\n3  foo     2     5",
            "text/html": "<div>\n<style scoped>\n    .dataframe tbody tr th:only-of-type {\n        vertical-align: middle;\n    }\n\n    .dataframe tbody tr th {\n        vertical-align: top;\n    }\n\n    .dataframe thead th {\n        text-align: right;\n    }\n</style>\n<table border=\"1\" class=\"dataframe\">\n  <thead>\n    <tr style=\"text-align: right;\">\n      <th></th>\n      <th>key</th>\n      <th>lval</th>\n      <th>rval</th>\n    </tr>\n  </thead>\n  <tbody>\n    <tr>\n      <th>0</th>\n      <td>foo</td>\n      <td>1</td>\n      <td>4</td>\n    </tr>\n    <tr>\n      <th>1</th>\n      <td>foo</td>\n      <td>1</td>\n      <td>5</td>\n    </tr>\n    <tr>\n      <th>2</th>\n      <td>foo</td>\n      <td>2</td>\n      <td>4</td>\n    </tr>\n    <tr>\n      <th>3</th>\n      <td>foo</td>\n      <td>2</td>\n      <td>5</td>\n    </tr>\n  </tbody>\n</table>\n</div>"
          },
          "metadata": {}
        }
      ],
      "execution_count": 79
    },
    {
      "id": "ef22c8d2-0226-41bf-ba3d-7e387ea13e22",
      "cell_type": "code",
      "source": "left = pd.DataFrame({\"key\": [\"foo\", \"bar\"], \"lval\": [1, 2]})\n\nright = pd.DataFrame({\"key\": [\"foo\", \"bar\"], \"rval\": [4, 5]})\n",
      "metadata": {
        "trusted": true
      },
      "outputs": [],
      "execution_count": 80
    },
    {
      "id": "a5e7a30c-0289-4a19-bfae-f66a8e4c7db2",
      "cell_type": "code",
      "source": "left",
      "metadata": {
        "trusted": true
      },
      "outputs": [
        {
          "execution_count": 81,
          "output_type": "execute_result",
          "data": {
            "text/plain": "   key  lval\n0  foo     1\n1  bar     2",
            "text/html": "<div>\n<style scoped>\n    .dataframe tbody tr th:only-of-type {\n        vertical-align: middle;\n    }\n\n    .dataframe tbody tr th {\n        vertical-align: top;\n    }\n\n    .dataframe thead th {\n        text-align: right;\n    }\n</style>\n<table border=\"1\" class=\"dataframe\">\n  <thead>\n    <tr style=\"text-align: right;\">\n      <th></th>\n      <th>key</th>\n      <th>lval</th>\n    </tr>\n  </thead>\n  <tbody>\n    <tr>\n      <th>0</th>\n      <td>foo</td>\n      <td>1</td>\n    </tr>\n    <tr>\n      <th>1</th>\n      <td>bar</td>\n      <td>2</td>\n    </tr>\n  </tbody>\n</table>\n</div>"
          },
          "metadata": {}
        }
      ],
      "execution_count": 81
    },
    {
      "id": "1a28bf40-2f63-4202-bc30-77372c495ba5",
      "cell_type": "code",
      "source": "right",
      "metadata": {
        "trusted": true
      },
      "outputs": [
        {
          "execution_count": 82,
          "output_type": "execute_result",
          "data": {
            "text/plain": "   key  rval\n0  foo     4\n1  bar     5",
            "text/html": "<div>\n<style scoped>\n    .dataframe tbody tr th:only-of-type {\n        vertical-align: middle;\n    }\n\n    .dataframe tbody tr th {\n        vertical-align: top;\n    }\n\n    .dataframe thead th {\n        text-align: right;\n    }\n</style>\n<table border=\"1\" class=\"dataframe\">\n  <thead>\n    <tr style=\"text-align: right;\">\n      <th></th>\n      <th>key</th>\n      <th>rval</th>\n    </tr>\n  </thead>\n  <tbody>\n    <tr>\n      <th>0</th>\n      <td>foo</td>\n      <td>4</td>\n    </tr>\n    <tr>\n      <th>1</th>\n      <td>bar</td>\n      <td>5</td>\n    </tr>\n  </tbody>\n</table>\n</div>"
          },
          "metadata": {}
        }
      ],
      "execution_count": 82
    },
    {
      "id": "7205f1d8-67b6-4029-8b30-f7d54895bb45",
      "cell_type": "code",
      "source": "pd.merge(left, right, on=\"key\")",
      "metadata": {
        "trusted": true
      },
      "outputs": [
        {
          "execution_count": 83,
          "output_type": "execute_result",
          "data": {
            "text/plain": "   key  lval  rval\n0  foo     1     4\n1  bar     2     5",
            "text/html": "<div>\n<style scoped>\n    .dataframe tbody tr th:only-of-type {\n        vertical-align: middle;\n    }\n\n    .dataframe tbody tr th {\n        vertical-align: top;\n    }\n\n    .dataframe thead th {\n        text-align: right;\n    }\n</style>\n<table border=\"1\" class=\"dataframe\">\n  <thead>\n    <tr style=\"text-align: right;\">\n      <th></th>\n      <th>key</th>\n      <th>lval</th>\n      <th>rval</th>\n    </tr>\n  </thead>\n  <tbody>\n    <tr>\n      <th>0</th>\n      <td>foo</td>\n      <td>1</td>\n      <td>4</td>\n    </tr>\n    <tr>\n      <th>1</th>\n      <td>bar</td>\n      <td>2</td>\n      <td>5</td>\n    </tr>\n  </tbody>\n</table>\n</div>"
          },
          "metadata": {}
        }
      ],
      "execution_count": 83
    },
    {
      "id": "cbcdf9ac-7982-4cdb-9f87-9adc50834eb4",
      "cell_type": "code",
      "source": "df = pd.DataFrame(\n    {\n        \"A\": [\"foo\", \"bar\", \"foo\", \"bar\", \"foo\", \"bar\", \"foo\", \"foo\"],\n        \"B\": [\"one\", \"one\", \"two\", \"three\", \"two\", \"two\", \"one\", \"three\"],\n        \"C\": np.random.randn(8),\n        \"D\": np.random.randn(8),\n    }\n)\n\ndf",
      "metadata": {
        "trusted": true
      },
      "outputs": [
        {
          "execution_count": 84,
          "output_type": "execute_result",
          "data": {
            "text/plain": "     A      B         C         D\n0  foo    one  0.827195 -1.198346\n1  bar    one -1.652462  2.095109\n2  foo    two  0.193509 -0.489576\n3  bar  three -1.394052 -1.729391\n4  foo    two -0.625138  0.542526\n5  bar    two  1.090951 -0.093799\n6  foo    one  0.975771  0.663064\n7  foo  three -0.733430  0.320798",
            "text/html": "<div>\n<style scoped>\n    .dataframe tbody tr th:only-of-type {\n        vertical-align: middle;\n    }\n\n    .dataframe tbody tr th {\n        vertical-align: top;\n    }\n\n    .dataframe thead th {\n        text-align: right;\n    }\n</style>\n<table border=\"1\" class=\"dataframe\">\n  <thead>\n    <tr style=\"text-align: right;\">\n      <th></th>\n      <th>A</th>\n      <th>B</th>\n      <th>C</th>\n      <th>D</th>\n    </tr>\n  </thead>\n  <tbody>\n    <tr>\n      <th>0</th>\n      <td>foo</td>\n      <td>one</td>\n      <td>0.827195</td>\n      <td>-1.198346</td>\n    </tr>\n    <tr>\n      <th>1</th>\n      <td>bar</td>\n      <td>one</td>\n      <td>-1.652462</td>\n      <td>2.095109</td>\n    </tr>\n    <tr>\n      <th>2</th>\n      <td>foo</td>\n      <td>two</td>\n      <td>0.193509</td>\n      <td>-0.489576</td>\n    </tr>\n    <tr>\n      <th>3</th>\n      <td>bar</td>\n      <td>three</td>\n      <td>-1.394052</td>\n      <td>-1.729391</td>\n    </tr>\n    <tr>\n      <th>4</th>\n      <td>foo</td>\n      <td>two</td>\n      <td>-0.625138</td>\n      <td>0.542526</td>\n    </tr>\n    <tr>\n      <th>5</th>\n      <td>bar</td>\n      <td>two</td>\n      <td>1.090951</td>\n      <td>-0.093799</td>\n    </tr>\n    <tr>\n      <th>6</th>\n      <td>foo</td>\n      <td>one</td>\n      <td>0.975771</td>\n      <td>0.663064</td>\n    </tr>\n    <tr>\n      <th>7</th>\n      <td>foo</td>\n      <td>three</td>\n      <td>-0.733430</td>\n      <td>0.320798</td>\n    </tr>\n  </tbody>\n</table>\n</div>"
          },
          "metadata": {}
        }
      ],
      "execution_count": 84
    },
    {
      "id": "3453b683-7bff-46b2-872c-dcd66ae6764a",
      "cell_type": "code",
      "source": "df.groupby(\"A\")[[\"C\", \"D\"]].sum()",
      "metadata": {
        "trusted": true
      },
      "outputs": [
        {
          "execution_count": 85,
          "output_type": "execute_result",
          "data": {
            "text/plain": "            C         D\nA                      \nbar -1.955562  0.271919\nfoo  0.637908 -0.161534",
            "text/html": "<div>\n<style scoped>\n    .dataframe tbody tr th:only-of-type {\n        vertical-align: middle;\n    }\n\n    .dataframe tbody tr th {\n        vertical-align: top;\n    }\n\n    .dataframe thead th {\n        text-align: right;\n    }\n</style>\n<table border=\"1\" class=\"dataframe\">\n  <thead>\n    <tr style=\"text-align: right;\">\n      <th></th>\n      <th>C</th>\n      <th>D</th>\n    </tr>\n    <tr>\n      <th>A</th>\n      <th></th>\n      <th></th>\n    </tr>\n  </thead>\n  <tbody>\n    <tr>\n      <th>bar</th>\n      <td>-1.955562</td>\n      <td>0.271919</td>\n    </tr>\n    <tr>\n      <th>foo</th>\n      <td>0.637908</td>\n      <td>-0.161534</td>\n    </tr>\n  </tbody>\n</table>\n</div>"
          },
          "metadata": {}
        }
      ],
      "execution_count": 85
    },
    {
      "id": "af1c2eb5-1b46-4583-b966-bb02d4e543c7",
      "cell_type": "code",
      "source": "df.groupby([\"A\", \"B\"]).sum()",
      "metadata": {
        "trusted": true
      },
      "outputs": [
        {
          "execution_count": 86,
          "output_type": "execute_result",
          "data": {
            "text/plain": "                  C         D\nA   B                        \nbar one   -1.652462  2.095109\n    three -1.394052 -1.729391\n    two    1.090951 -0.093799\nfoo one    1.802966 -0.535283\n    three -0.733430  0.320798\n    two   -0.431628  0.052950",
            "text/html": "<div>\n<style scoped>\n    .dataframe tbody tr th:only-of-type {\n        vertical-align: middle;\n    }\n\n    .dataframe tbody tr th {\n        vertical-align: top;\n    }\n\n    .dataframe thead th {\n        text-align: right;\n    }\n</style>\n<table border=\"1\" class=\"dataframe\">\n  <thead>\n    <tr style=\"text-align: right;\">\n      <th></th>\n      <th></th>\n      <th>C</th>\n      <th>D</th>\n    </tr>\n    <tr>\n      <th>A</th>\n      <th>B</th>\n      <th></th>\n      <th></th>\n    </tr>\n  </thead>\n  <tbody>\n    <tr>\n      <th rowspan=\"3\" valign=\"top\">bar</th>\n      <th>one</th>\n      <td>-1.652462</td>\n      <td>2.095109</td>\n    </tr>\n    <tr>\n      <th>three</th>\n      <td>-1.394052</td>\n      <td>-1.729391</td>\n    </tr>\n    <tr>\n      <th>two</th>\n      <td>1.090951</td>\n      <td>-0.093799</td>\n    </tr>\n    <tr>\n      <th rowspan=\"3\" valign=\"top\">foo</th>\n      <th>one</th>\n      <td>1.802966</td>\n      <td>-0.535283</td>\n    </tr>\n    <tr>\n      <th>three</th>\n      <td>-0.733430</td>\n      <td>0.320798</td>\n    </tr>\n    <tr>\n      <th>two</th>\n      <td>-0.431628</td>\n      <td>0.052950</td>\n    </tr>\n  </tbody>\n</table>\n</div>"
          },
          "metadata": {}
        }
      ],
      "execution_count": 86
    },
    {
      "id": "32aab46f-73e8-483e-8768-bf201ed867cd",
      "cell_type": "code",
      "source": "arrays = [\n   [\"bar\", \"bar\", \"baz\", \"baz\", \"foo\", \"foo\", \"qux\", \"qux\"],\n   [\"one\", \"two\", \"one\", \"two\", \"one\", \"two\", \"one\", \"two\"],\n]",
      "metadata": {
        "trusted": true
      },
      "outputs": [],
      "execution_count": 87
    },
    {
      "id": "a79e108d-19de-4cdb-a9ae-11f4ce21a3e9",
      "cell_type": "code",
      "source": "index = pd.MultiIndex.from_arrays(arrays, names=[\"first\", \"second\"])\n",
      "metadata": {
        "trusted": true
      },
      "outputs": [],
      "execution_count": 90
    },
    {
      "id": "c771a6d8-3182-468f-bd05-2f4b0b9d5220",
      "cell_type": "code",
      "source": "df = pd.DataFrame(np.random.randn(8, 2), index=index, columns=[\"A\", \"B\"])\n",
      "metadata": {
        "trusted": true
      },
      "outputs": [],
      "execution_count": 91
    },
    {
      "id": "3f9df467-4f71-48b5-b8b8-39fc5de58919",
      "cell_type": "code",
      "source": "df2 = df[:4]\n",
      "metadata": {
        "trusted": true
      },
      "outputs": [],
      "execution_count": 92
    },
    {
      "id": "94e03020-f9f8-4286-a5fe-c7aef6f84076",
      "cell_type": "code",
      "source": "df2",
      "metadata": {
        "trusted": true
      },
      "outputs": [
        {
          "execution_count": 93,
          "output_type": "execute_result",
          "data": {
            "text/plain": "                     A         B\nfirst second                    \nbar   one     1.139087 -0.511821\n      two     0.767643 -0.043803\nbaz   one    -1.696510  0.169923\n      two     0.642214 -0.165593",
            "text/html": "<div>\n<style scoped>\n    .dataframe tbody tr th:only-of-type {\n        vertical-align: middle;\n    }\n\n    .dataframe tbody tr th {\n        vertical-align: top;\n    }\n\n    .dataframe thead th {\n        text-align: right;\n    }\n</style>\n<table border=\"1\" class=\"dataframe\">\n  <thead>\n    <tr style=\"text-align: right;\">\n      <th></th>\n      <th></th>\n      <th>A</th>\n      <th>B</th>\n    </tr>\n    <tr>\n      <th>first</th>\n      <th>second</th>\n      <th></th>\n      <th></th>\n    </tr>\n  </thead>\n  <tbody>\n    <tr>\n      <th rowspan=\"2\" valign=\"top\">bar</th>\n      <th>one</th>\n      <td>1.139087</td>\n      <td>-0.511821</td>\n    </tr>\n    <tr>\n      <th>two</th>\n      <td>0.767643</td>\n      <td>-0.043803</td>\n    </tr>\n    <tr>\n      <th rowspan=\"2\" valign=\"top\">baz</th>\n      <th>one</th>\n      <td>-1.696510</td>\n      <td>0.169923</td>\n    </tr>\n    <tr>\n      <th>two</th>\n      <td>0.642214</td>\n      <td>-0.165593</td>\n    </tr>\n  </tbody>\n</table>\n</div>"
          },
          "metadata": {}
        }
      ],
      "execution_count": 93
    },
    {
      "id": "c7c6400a-bff4-43d2-8e38-a9c5e04584df",
      "cell_type": "code",
      "source": "df = pd.DataFrame(\n    {\n        \"A\": [\"one\", \"one\", \"two\", \"three\"] * 3,\n        \"B\": [\"A\", \"B\", \"C\"] * 4,\n        \"C\": [\"foo\", \"foo\", \"foo\", \"bar\", \"bar\", \"bar\"] * 2,\n        \"D\": np.random.randn(12),\n        \"E\": np.random.randn(12),\n    }\n)\n",
      "metadata": {
        "trusted": true
      },
      "outputs": [],
      "execution_count": 96
    },
    {
      "id": "69c9abd3-2127-47e1-9048-25905c3a330e",
      "cell_type": "code",
      "source": "df",
      "metadata": {
        "trusted": true
      },
      "outputs": [
        {
          "execution_count": 97,
          "output_type": "execute_result",
          "data": {
            "text/plain": "        A  B    C         D         E\n0     one  A  foo -1.029773 -1.028718\n1     one  B  foo -0.508692 -0.881898\n2     two  C  foo  0.883328 -0.661610\n3   three  A  bar  1.118555  0.352782\n4     one  B  bar  2.383659 -0.760406\n5     one  C  bar  0.009394 -1.832143\n6     two  A  foo  0.625634 -1.138259\n7   three  B  foo  1.711279 -1.439914\n8     one  C  foo -1.077462 -0.624266\n9     one  A  bar  1.493919  1.181107\n10    two  B  bar -0.417028 -0.727513\n11  three  C  bar -0.008366  0.631970",
            "text/html": "<div>\n<style scoped>\n    .dataframe tbody tr th:only-of-type {\n        vertical-align: middle;\n    }\n\n    .dataframe tbody tr th {\n        vertical-align: top;\n    }\n\n    .dataframe thead th {\n        text-align: right;\n    }\n</style>\n<table border=\"1\" class=\"dataframe\">\n  <thead>\n    <tr style=\"text-align: right;\">\n      <th></th>\n      <th>A</th>\n      <th>B</th>\n      <th>C</th>\n      <th>D</th>\n      <th>E</th>\n    </tr>\n  </thead>\n  <tbody>\n    <tr>\n      <th>0</th>\n      <td>one</td>\n      <td>A</td>\n      <td>foo</td>\n      <td>-1.029773</td>\n      <td>-1.028718</td>\n    </tr>\n    <tr>\n      <th>1</th>\n      <td>one</td>\n      <td>B</td>\n      <td>foo</td>\n      <td>-0.508692</td>\n      <td>-0.881898</td>\n    </tr>\n    <tr>\n      <th>2</th>\n      <td>two</td>\n      <td>C</td>\n      <td>foo</td>\n      <td>0.883328</td>\n      <td>-0.661610</td>\n    </tr>\n    <tr>\n      <th>3</th>\n      <td>three</td>\n      <td>A</td>\n      <td>bar</td>\n      <td>1.118555</td>\n      <td>0.352782</td>\n    </tr>\n    <tr>\n      <th>4</th>\n      <td>one</td>\n      <td>B</td>\n      <td>bar</td>\n      <td>2.383659</td>\n      <td>-0.760406</td>\n    </tr>\n    <tr>\n      <th>5</th>\n      <td>one</td>\n      <td>C</td>\n      <td>bar</td>\n      <td>0.009394</td>\n      <td>-1.832143</td>\n    </tr>\n    <tr>\n      <th>6</th>\n      <td>two</td>\n      <td>A</td>\n      <td>foo</td>\n      <td>0.625634</td>\n      <td>-1.138259</td>\n    </tr>\n    <tr>\n      <th>7</th>\n      <td>three</td>\n      <td>B</td>\n      <td>foo</td>\n      <td>1.711279</td>\n      <td>-1.439914</td>\n    </tr>\n    <tr>\n      <th>8</th>\n      <td>one</td>\n      <td>C</td>\n      <td>foo</td>\n      <td>-1.077462</td>\n      <td>-0.624266</td>\n    </tr>\n    <tr>\n      <th>9</th>\n      <td>one</td>\n      <td>A</td>\n      <td>bar</td>\n      <td>1.493919</td>\n      <td>1.181107</td>\n    </tr>\n    <tr>\n      <th>10</th>\n      <td>two</td>\n      <td>B</td>\n      <td>bar</td>\n      <td>-0.417028</td>\n      <td>-0.727513</td>\n    </tr>\n    <tr>\n      <th>11</th>\n      <td>three</td>\n      <td>C</td>\n      <td>bar</td>\n      <td>-0.008366</td>\n      <td>0.631970</td>\n    </tr>\n  </tbody>\n</table>\n</div>"
          },
          "metadata": {}
        }
      ],
      "execution_count": 97
    },
    {
      "id": "7c767330-f57f-4e48-86f1-61b5e01bd4bf",
      "cell_type": "code",
      "source": "pd.pivot_table(df, values=\"D\", index=[\"A\", \"B\"], columns=[\"C\"])",
      "metadata": {
        "trusted": true
      },
      "outputs": [
        {
          "execution_count": 98,
          "output_type": "execute_result",
          "data": {
            "text/plain": "C             bar       foo\nA     B                    \none   A  1.493919 -1.029773\n      B  2.383659 -0.508692\n      C  0.009394 -1.077462\nthree A  1.118555       NaN\n      B       NaN  1.711279\n      C -0.008366       NaN\ntwo   A       NaN  0.625634\n      B -0.417028       NaN\n      C       NaN  0.883328",
            "text/html": "<div>\n<style scoped>\n    .dataframe tbody tr th:only-of-type {\n        vertical-align: middle;\n    }\n\n    .dataframe tbody tr th {\n        vertical-align: top;\n    }\n\n    .dataframe thead th {\n        text-align: right;\n    }\n</style>\n<table border=\"1\" class=\"dataframe\">\n  <thead>\n    <tr style=\"text-align: right;\">\n      <th></th>\n      <th>C</th>\n      <th>bar</th>\n      <th>foo</th>\n    </tr>\n    <tr>\n      <th>A</th>\n      <th>B</th>\n      <th></th>\n      <th></th>\n    </tr>\n  </thead>\n  <tbody>\n    <tr>\n      <th rowspan=\"3\" valign=\"top\">one</th>\n      <th>A</th>\n      <td>1.493919</td>\n      <td>-1.029773</td>\n    </tr>\n    <tr>\n      <th>B</th>\n      <td>2.383659</td>\n      <td>-0.508692</td>\n    </tr>\n    <tr>\n      <th>C</th>\n      <td>0.009394</td>\n      <td>-1.077462</td>\n    </tr>\n    <tr>\n      <th rowspan=\"3\" valign=\"top\">three</th>\n      <th>A</th>\n      <td>1.118555</td>\n      <td>NaN</td>\n    </tr>\n    <tr>\n      <th>B</th>\n      <td>NaN</td>\n      <td>1.711279</td>\n    </tr>\n    <tr>\n      <th>C</th>\n      <td>-0.008366</td>\n      <td>NaN</td>\n    </tr>\n    <tr>\n      <th rowspan=\"3\" valign=\"top\">two</th>\n      <th>A</th>\n      <td>NaN</td>\n      <td>0.625634</td>\n    </tr>\n    <tr>\n      <th>B</th>\n      <td>-0.417028</td>\n      <td>NaN</td>\n    </tr>\n    <tr>\n      <th>C</th>\n      <td>NaN</td>\n      <td>0.883328</td>\n    </tr>\n  </tbody>\n</table>\n</div>"
          },
          "metadata": {}
        }
      ],
      "execution_count": 98
    },
    {
      "id": "526d6140-ef98-4f7c-a600-c37bfbccba2b",
      "cell_type": "code",
      "source": "rng = pd.date_range(\"1/1/2012\", periods=100, freq=\"s\")\n",
      "metadata": {
        "trusted": true
      },
      "outputs": [],
      "execution_count": 99
    },
    {
      "id": "a970c64f-2ae7-45fc-a630-f7eeee442c4c",
      "cell_type": "code",
      "source": "ts = pd.Series(np.random.randint(0, 500, len(rng)), index=rng)\n",
      "metadata": {
        "trusted": true
      },
      "outputs": [],
      "execution_count": 100
    },
    {
      "id": "0c2c2122-aae2-4035-852d-ed4165b8a684",
      "cell_type": "code",
      "source": "ts.resample(\"5Min\").sum()\n",
      "metadata": {
        "trusted": true
      },
      "outputs": [
        {
          "execution_count": 101,
          "output_type": "execute_result",
          "data": {
            "text/plain": "2012-01-01    24687\nFreq: 5T, dtype: int32"
          },
          "metadata": {}
        }
      ],
      "execution_count": 101
    },
    {
      "id": "b1d9b1e7-8bb2-4022-9a5a-c2d1137fd877",
      "cell_type": "code",
      "source": "rng = pd.date_range(\"3/6/2012 00:00\", periods=5, freq=\"D\")\n",
      "metadata": {
        "trusted": true
      },
      "outputs": [],
      "execution_count": 102
    },
    {
      "id": "33278672-085e-47fc-a387-105e213c0193",
      "cell_type": "code",
      "source": "ts = pd.Series(np.random.randn(len(rng)), rng)\n",
      "metadata": {
        "trusted": true
      },
      "outputs": [],
      "execution_count": 103
    },
    {
      "id": "8a527e38-309f-4750-8a08-fa3e45a1d70f",
      "cell_type": "code",
      "source": "ts",
      "metadata": {
        "trusted": true
      },
      "outputs": [
        {
          "execution_count": 104,
          "output_type": "execute_result",
          "data": {
            "text/plain": "2012-03-06    1.083999\n2012-03-07   -1.618228\n2012-03-08    0.715910\n2012-03-09    0.767048\n2012-03-10   -0.669950\nFreq: D, dtype: float64"
          },
          "metadata": {}
        }
      ],
      "execution_count": 104
    },
    {
      "id": "be83ea70-9a6a-4f9b-944c-1b644aa9892f",
      "cell_type": "code",
      "source": "ts_utc = ts.tz_localize(\"UTC\")\n",
      "metadata": {
        "trusted": true
      },
      "outputs": [],
      "execution_count": 105
    },
    {
      "id": "7d1d5098-0e02-4361-a7c3-9082de3bcee3",
      "cell_type": "code",
      "source": "ts_utc",
      "metadata": {
        "trusted": true
      },
      "outputs": [
        {
          "execution_count": 106,
          "output_type": "execute_result",
          "data": {
            "text/plain": "2012-03-06 00:00:00+00:00    1.083999\n2012-03-07 00:00:00+00:00   -1.618228\n2012-03-08 00:00:00+00:00    0.715910\n2012-03-09 00:00:00+00:00    0.767048\n2012-03-10 00:00:00+00:00   -0.669950\nFreq: D, dtype: float64"
          },
          "metadata": {}
        }
      ],
      "execution_count": 106
    },
    {
      "id": "9a585d4d-0032-49fb-929e-824a56592417",
      "cell_type": "code",
      "source": "ts_utc.tz_convert(\"US/Eastern\")\n",
      "metadata": {
        "trusted": true
      },
      "outputs": [
        {
          "execution_count": 107,
          "output_type": "execute_result",
          "data": {
            "text/plain": "2012-03-05 19:00:00-05:00    1.083999\n2012-03-06 19:00:00-05:00   -1.618228\n2012-03-07 19:00:00-05:00    0.715910\n2012-03-08 19:00:00-05:00    0.767048\n2012-03-09 19:00:00-05:00   -0.669950\nFreq: D, dtype: float64"
          },
          "metadata": {}
        }
      ],
      "execution_count": 107
    },
    {
      "id": "5c1cfb1d-e817-4d28-97dd-a11329a8136c",
      "cell_type": "code",
      "source": "rng",
      "metadata": {
        "trusted": true
      },
      "outputs": [
        {
          "execution_count": 108,
          "output_type": "execute_result",
          "data": {
            "text/plain": "DatetimeIndex(['2012-03-06', '2012-03-07', '2012-03-08', '2012-03-09',\n               '2012-03-10'],\n              dtype='datetime64[ns]', freq='D')"
          },
          "metadata": {}
        }
      ],
      "execution_count": 108
    },
    {
      "id": "45f819f8-dc5e-4437-bf44-32d644de3e16",
      "cell_type": "code",
      "source": "rng + pd.offsets.BusinessDay(5)\n",
      "metadata": {
        "trusted": true
      },
      "outputs": [
        {
          "execution_count": 109,
          "output_type": "execute_result",
          "data": {
            "text/plain": "DatetimeIndex(['2012-03-13', '2012-03-14', '2012-03-15', '2012-03-16',\n               '2012-03-16'],\n              dtype='datetime64[ns]', freq=None)"
          },
          "metadata": {}
        }
      ],
      "execution_count": 109
    },
    {
      "id": "835d570e-d9c0-40b1-aa37-17d366a9dda8",
      "cell_type": "code",
      "source": "df = pd.DataFrame(\n    {\"id\": [1, 2, 3, 4, 5, 6], \"raw_grade\": [\"a\", \"b\", \"b\", \"a\", \"a\", \"e\"]}\n)",
      "metadata": {
        "trusted": true
      },
      "outputs": [],
      "execution_count": 110
    },
    {
      "id": "31ff907e-3f50-447a-8245-0bc71729fb7a",
      "cell_type": "code",
      "source": "df[\"grade\"] = df[\"raw_grade\"].astype(\"category\")\n",
      "metadata": {
        "trusted": true
      },
      "outputs": [],
      "execution_count": 111
    },
    {
      "id": "acfb3732-45e0-4751-b6c3-2cba5f30a047",
      "cell_type": "code",
      "source": "df[\"grade\"]\n",
      "metadata": {
        "trusted": true
      },
      "outputs": [
        {
          "execution_count": 112,
          "output_type": "execute_result",
          "data": {
            "text/plain": "0    a\n1    b\n2    b\n3    a\n4    a\n5    e\nName: grade, dtype: category\nCategories (3, object): ['a', 'b', 'e']"
          },
          "metadata": {}
        }
      ],
      "execution_count": 112
    },
    {
      "id": "99885fc0-0c7a-494b-a1d5-3fbd9f3746eb",
      "cell_type": "code",
      "source": "new_categories = [\"very good\", \"good\", \"very bad\"]\n",
      "metadata": {
        "trusted": true
      },
      "outputs": [],
      "execution_count": 113
    },
    {
      "id": "17afaf8a-1a0a-4752-95b6-8038c4143c69",
      "cell_type": "code",
      "source": "df[\"grade\"] = df[\"grade\"].cat.rename_categories(new_categories)\n",
      "metadata": {
        "trusted": true
      },
      "outputs": [],
      "execution_count": 114
    },
    {
      "id": "c32c3dcd-ad6b-4046-98aa-d29d85969404",
      "cell_type": "code",
      "source": "df[\"grade\"] = df[\"grade\"].cat.set_categories(\n    [\"very bad\", \"bad\", \"medium\", \"good\", \"very good\"]\n)",
      "metadata": {
        "trusted": true
      },
      "outputs": [],
      "execution_count": 115
    },
    {
      "id": "e44527a1-9b79-4cd6-b08a-f49a1ad19d6d",
      "cell_type": "code",
      "source": "df[\"grade\"]\n",
      "metadata": {
        "trusted": true
      },
      "outputs": [
        {
          "execution_count": 116,
          "output_type": "execute_result",
          "data": {
            "text/plain": "0    very good\n1         good\n2         good\n3    very good\n4    very good\n5     very bad\nName: grade, dtype: category\nCategories (5, object): ['very bad', 'bad', 'medium', 'good', 'very good']"
          },
          "metadata": {}
        }
      ],
      "execution_count": 116
    },
    {
      "id": "a2944bce-ceef-442b-b606-f1d071676c3e",
      "cell_type": "code",
      "source": "df.sort_values(by=\"grade\")\n",
      "metadata": {
        "trusted": true
      },
      "outputs": [
        {
          "execution_count": 117,
          "output_type": "execute_result",
          "data": {
            "text/plain": "   id raw_grade      grade\n5   6         e   very bad\n1   2         b       good\n2   3         b       good\n0   1         a  very good\n3   4         a  very good\n4   5         a  very good",
            "text/html": "<div>\n<style scoped>\n    .dataframe tbody tr th:only-of-type {\n        vertical-align: middle;\n    }\n\n    .dataframe tbody tr th {\n        vertical-align: top;\n    }\n\n    .dataframe thead th {\n        text-align: right;\n    }\n</style>\n<table border=\"1\" class=\"dataframe\">\n  <thead>\n    <tr style=\"text-align: right;\">\n      <th></th>\n      <th>id</th>\n      <th>raw_grade</th>\n      <th>grade</th>\n    </tr>\n  </thead>\n  <tbody>\n    <tr>\n      <th>5</th>\n      <td>6</td>\n      <td>e</td>\n      <td>very bad</td>\n    </tr>\n    <tr>\n      <th>1</th>\n      <td>2</td>\n      <td>b</td>\n      <td>good</td>\n    </tr>\n    <tr>\n      <th>2</th>\n      <td>3</td>\n      <td>b</td>\n      <td>good</td>\n    </tr>\n    <tr>\n      <th>0</th>\n      <td>1</td>\n      <td>a</td>\n      <td>very good</td>\n    </tr>\n    <tr>\n      <th>3</th>\n      <td>4</td>\n      <td>a</td>\n      <td>very good</td>\n    </tr>\n    <tr>\n      <th>4</th>\n      <td>5</td>\n      <td>a</td>\n      <td>very good</td>\n    </tr>\n  </tbody>\n</table>\n</div>"
          },
          "metadata": {}
        }
      ],
      "execution_count": 117
    },
    {
      "id": "09fb2b0e-2226-45da-83b0-c28d999bc20b",
      "cell_type": "code",
      "source": "df.groupby(\"grade\", observed=False).size()\n",
      "metadata": {
        "trusted": true
      },
      "outputs": [
        {
          "execution_count": 118,
          "output_type": "execute_result",
          "data": {
            "text/plain": "grade\nvery bad     1\nbad          0\nmedium       0\ngood         2\nvery good    3\ndtype: int64"
          },
          "metadata": {}
        }
      ],
      "execution_count": 118
    },
    {
      "id": "29d4d4b2-ab07-46b5-b786-5c3780591143",
      "cell_type": "code",
      "source": "import matplotlib.pyplot as plt\n",
      "metadata": {
        "trusted": true
      },
      "outputs": [],
      "execution_count": 119
    },
    {
      "id": "6d06268b-2ab2-4cbc-a2d1-bc186660e1ec",
      "cell_type": "code",
      "source": "plt.close(\"all\")\n",
      "metadata": {
        "trusted": true
      },
      "outputs": [],
      "execution_count": 120
    },
    {
      "id": "3237a27a-fa1b-439f-ac94-f21c32223c3c",
      "cell_type": "code",
      "source": "ts = pd.Series(np.random.randn(1000), index=pd.date_range(\"1/1/2000\", periods=1000))\n",
      "metadata": {
        "trusted": true
      },
      "outputs": [],
      "execution_count": 121
    },
    {
      "id": "3f2750c0-91ec-41a9-b48f-59849a0d94b2",
      "cell_type": "code",
      "source": "ts = ts.cumsum()\n",
      "metadata": {
        "trusted": true
      },
      "outputs": [],
      "execution_count": 122
    },
    {
      "id": "60d668b1-718c-4cb0-be75-2b03afd21562",
      "cell_type": "code",
      "source": "ts.plot();\n",
      "metadata": {
        "trusted": true
      },
      "outputs": [
        {
          "output_type": "display_data",
          "data": {
            "text/plain": "<Figure size 640x480 with 1 Axes>",
            "image/png": "[encoded data removed]"
          },
          "metadata": {}
        }
      ],
      "execution_count": 123
    },
    {
      "id": "58695112-e101-451d-ac75-593363469733",
      "cell_type": "code",
      "source": "df = pd.DataFrame(\n    np.random.randn(1000, 4), index=ts.index, columns=[\"A\", \"B\", \"C\", \"D\"]\n)",
      "metadata": {
        "trusted": true
      },
      "outputs": [],
      "execution_count": 124
    },
    {
      "id": "1f6866f3-8c51-4fb9-80d7-b91b02cf6efb",
      "cell_type": "code",
      "source": "df = df.cumsum()\n",
      "metadata": {
        "trusted": true
      },
      "outputs": [],
      "execution_count": 125
    },
    {
      "id": "1b510d89-dd2a-46b6-a2b3-4fbbc6d76811",
      "cell_type": "code",
      "source": "plt.figure();\ndf.plot();\nplt.legend(loc='best');\n",
      "metadata": {
        "trusted": true
      },
      "outputs": [
        {
          "output_type": "display_data",
          "data": {
            "text/plain": "<Figure size 640x480 with 0 Axes>"
          },
          "metadata": {}
        },
        {
          "output_type": "display_data",
          "data": {
            "text/plain": "<Figure size 640x480 with 1 Axes>",
            "image/png": "[encoded data removed]"
          },
          "metadata": {}
        }
      ],
      "execution_count": 129
    },
    {
      "id": "0f70bc74-a99d-4854-aeca-deff3716351a",
      "cell_type": "code",
      "source": "df = pd.DataFrame(np.random.randint(0, 5, (10, 5)))\n",
      "metadata": {
        "trusted": true
      },
      "outputs": [],
      "execution_count": 130
    },
    {
      "id": "0acf3f43-2ed5-4e3a-953a-19c60511fb44",
      "cell_type": "code",
      "source": "df.to_csv(\"foo.csv\")\n",
      "metadata": {
        "trusted": true
      },
      "outputs": [],
      "execution_count": 131
    },
    {
      "id": "4bb2ab76-1401-4b2d-a95f-5ce3050b1ef6",
      "cell_type": "code",
      "source": "pd.read_csv(\"foo.csv\")\n",
      "metadata": {
        "trusted": true
      },
      "outputs": [
        {
          "execution_count": 134,
          "output_type": "execute_result",
          "data": {
            "text/plain": "   Unnamed: 0  0  1  2  3  4\n0           0  3  0  2  4  0\n1           1  1  1  1  4  2\n2           2  2  4  1  1  3\n3           3  4  0  4  0  3\n4           4  4  3  2  2  3\n5           5  2  4  4  1  1\n6           6  1  4  0  0  0\n7           7  4  4  1  4  0\n8           8  4  0  4  4  0\n9           9  3  2  3  3  4",
            "text/html": "<div>\n<style scoped>\n    .dataframe tbody tr th:only-of-type {\n        vertical-align: middle;\n    }\n\n    .dataframe tbody tr th {\n        vertical-align: top;\n    }\n\n    .dataframe thead th {\n        text-align: right;\n    }\n</style>\n<table border=\"1\" class=\"dataframe\">\n  <thead>\n    <tr style=\"text-align: right;\">\n      <th></th>\n      <th>Unnamed: 0</th>\n      <th>0</th>\n      <th>1</th>\n      <th>2</th>\n      <th>3</th>\n      <th>4</th>\n    </tr>\n  </thead>\n  <tbody>\n    <tr>\n      <th>0</th>\n      <td>0</td>\n      <td>3</td>\n      <td>0</td>\n      <td>2</td>\n      <td>4</td>\n      <td>0</td>\n    </tr>\n    <tr>\n      <th>1</th>\n      <td>1</td>\n      <td>1</td>\n      <td>1</td>\n      <td>1</td>\n      <td>4</td>\n      <td>2</td>\n    </tr>\n    <tr>\n      <th>2</th>\n      <td>2</td>\n      <td>2</td>\n      <td>4</td>\n      <td>1</td>\n      <td>1</td>\n      <td>3</td>\n    </tr>\n    <tr>\n      <th>3</th>\n      <td>3</td>\n      <td>4</td>\n      <td>0</td>\n      <td>4</td>\n      <td>0</td>\n      <td>3</td>\n    </tr>\n    <tr>\n      <th>4</th>\n      <td>4</td>\n      <td>4</td>\n      <td>3</td>\n      <td>2</td>\n      <td>2</td>\n      <td>3</td>\n    </tr>\n    <tr>\n      <th>5</th>\n      <td>5</td>\n      <td>2</td>\n      <td>4</td>\n      <td>4</td>\n      <td>1</td>\n      <td>1</td>\n    </tr>\n    <tr>\n      <th>6</th>\n      <td>6</td>\n      <td>1</td>\n      <td>4</td>\n      <td>0</td>\n      <td>0</td>\n      <td>0</td>\n    </tr>\n    <tr>\n      <th>7</th>\n      <td>7</td>\n      <td>4</td>\n      <td>4</td>\n      <td>1</td>\n      <td>4</td>\n      <td>0</td>\n    </tr>\n    <tr>\n      <th>8</th>\n      <td>8</td>\n      <td>4</td>\n      <td>0</td>\n      <td>4</td>\n      <td>4</td>\n      <td>0</td>\n    </tr>\n    <tr>\n      <th>9</th>\n      <td>9</td>\n      <td>3</td>\n      <td>2</td>\n      <td>3</td>\n      <td>3</td>\n      <td>4</td>\n    </tr>\n  </tbody>\n</table>\n</div>"
          },
          "metadata": {}
        }
      ],
      "execution_count": 134
    },
    {
      "id": "acaaca8c-565b-4980-9559-12dbc3489e58",
      "cell_type": "code",
      "source": "",
      "metadata": {
        "trusted": true
      },
      "outputs": [],
      "execution_count": null
    }
  ]
}