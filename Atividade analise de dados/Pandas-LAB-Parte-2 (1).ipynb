{
  "metadata": {
    "kernelspec": {
      "name": "python",
      "display_name": "Python (Pyodide)",
      "language": "python"
    },
    "language_info": {
      "codemirror_mode": {
        "name": "python",
        "version": 3
      },
      "file_extension": ".py",
      "mimetype": "text/x-python",
      "name": "python",
      "nbconvert_exporter": "python",
      "pygments_lexer": "ipython3",
      "version": "3.8"
    }
  },
  "nbformat_minor": 5,
  "nbformat": 4,
  "cells": [
    {
      "id": "628d5ce6-1297-4751-bd44-bec4399a81ee",
      "cell_type": "markdown",
      "source": "<img src=\"https://github.com/danielscarvalho/data/blob/master/img/FIAP-logo.png?raw=True\" style=\"float:right;\" width=\"200px\">\n\n# DATA SCIENCE & STATISTICAL COMPUTING [》](https://www.fiap.com.br/)\n\n## Dataframe & Python\n\n### LAP Parte 2: “Cookbook\"\n\nhttps://pandas.pydata.org/docs/user_guide/cookbook.html#cookbook",
      "metadata": {}
    },
    {
      "id": "861292ea-6439-49eb-8872-4efc3e252618",
      "cell_type": "markdown",
      "source": "Sugestão: Colocar a página do Cookbook lado a lado com este notebook para realizar as operações.",
      "metadata": {}
    },
    {
      "id": "15691e2b-8f0f-455d-9ad8-216eaa7f1493",
      "cell_type": "code",
      "source": "import pandas as pd\nimport numpy as np",
      "metadata": {
        "trusted": true
      },
      "outputs": [],
      "execution_count": 1
    },
    {
      "id": "6512d58a-1461-490c-826e-c19d7b869b31",
      "cell_type": "code",
      "source": " df = pd.DataFrame(\n     {\"AAA\": [4, 5, 6, 7], \"BBB\": [10, 20, 30, 40], \"CCC\": [100, 50, -30, -50]}\n )\n\n df\n",
      "metadata": {
        "trusted": true
      },
      "outputs": [
        {
          "execution_count": 2,
          "output_type": "execute_result",
          "data": {
            "text/plain": "   AAA  BBB  CCC\n0    4   10  100\n1    5   20   50\n2    6   30  -30\n3    7   40  -50",
            "text/html": "<div>\n<style scoped>\n    .dataframe tbody tr th:only-of-type {\n        vertical-align: middle;\n    }\n\n    .dataframe tbody tr th {\n        vertical-align: top;\n    }\n\n    .dataframe thead th {\n        text-align: right;\n    }\n</style>\n<table border=\"1\" class=\"dataframe\">\n  <thead>\n    <tr style=\"text-align: right;\">\n      <th></th>\n      <th>AAA</th>\n      <th>BBB</th>\n      <th>CCC</th>\n    </tr>\n  </thead>\n  <tbody>\n    <tr>\n      <th>0</th>\n      <td>4</td>\n      <td>10</td>\n      <td>100</td>\n    </tr>\n    <tr>\n      <th>1</th>\n      <td>5</td>\n      <td>20</td>\n      <td>50</td>\n    </tr>\n    <tr>\n      <th>2</th>\n      <td>6</td>\n      <td>30</td>\n      <td>-30</td>\n    </tr>\n    <tr>\n      <th>3</th>\n      <td>7</td>\n      <td>40</td>\n      <td>-50</td>\n    </tr>\n  </tbody>\n</table>\n</div>"
          },
          "metadata": {}
        }
      ],
      "execution_count": 2
    },
    {
      "id": "64ddf044-a9e9-478a-b2d0-5e0a1a12d8c3",
      "cell_type": "code",
      "source": " df.loc[df.AAA >= 5, \"BBB\"] = -1\n\n df\n",
      "metadata": {
        "trusted": true
      },
      "outputs": [
        {
          "execution_count": 3,
          "output_type": "execute_result",
          "data": {
            "text/plain": "   AAA  BBB  CCC\n0    4   10  100\n1    5   -1   50\n2    6   -1  -30\n3    7   -1  -50",
            "text/html": "<div>\n<style scoped>\n    .dataframe tbody tr th:only-of-type {\n        vertical-align: middle;\n    }\n\n    .dataframe tbody tr th {\n        vertical-align: top;\n    }\n\n    .dataframe thead th {\n        text-align: right;\n    }\n</style>\n<table border=\"1\" class=\"dataframe\">\n  <thead>\n    <tr style=\"text-align: right;\">\n      <th></th>\n      <th>AAA</th>\n      <th>BBB</th>\n      <th>CCC</th>\n    </tr>\n  </thead>\n  <tbody>\n    <tr>\n      <th>0</th>\n      <td>4</td>\n      <td>10</td>\n      <td>100</td>\n    </tr>\n    <tr>\n      <th>1</th>\n      <td>5</td>\n      <td>-1</td>\n      <td>50</td>\n    </tr>\n    <tr>\n      <th>2</th>\n      <td>6</td>\n      <td>-1</td>\n      <td>-30</td>\n    </tr>\n    <tr>\n      <th>3</th>\n      <td>7</td>\n      <td>-1</td>\n      <td>-50</td>\n    </tr>\n  </tbody>\n</table>\n</div>"
          },
          "metadata": {}
        }
      ],
      "execution_count": 3
    },
    {
      "id": "90fa6ab8-a25a-49f9-b540-1eed9a0a938c",
      "cell_type": "code",
      "source": " df.loc[df.AAA >= 5, [\"BBB\", \"CCC\"]] = 555\n\n df",
      "metadata": {
        "trusted": true
      },
      "outputs": [
        {
          "execution_count": 4,
          "output_type": "execute_result",
          "data": {
            "text/plain": "   AAA  BBB  CCC\n0    4   10  100\n1    5  555  555\n2    6  555  555\n3    7  555  555",
            "text/html": "<div>\n<style scoped>\n    .dataframe tbody tr th:only-of-type {\n        vertical-align: middle;\n    }\n\n    .dataframe tbody tr th {\n        vertical-align: top;\n    }\n\n    .dataframe thead th {\n        text-align: right;\n    }\n</style>\n<table border=\"1\" class=\"dataframe\">\n  <thead>\n    <tr style=\"text-align: right;\">\n      <th></th>\n      <th>AAA</th>\n      <th>BBB</th>\n      <th>CCC</th>\n    </tr>\n  </thead>\n  <tbody>\n    <tr>\n      <th>0</th>\n      <td>4</td>\n      <td>10</td>\n      <td>100</td>\n    </tr>\n    <tr>\n      <th>1</th>\n      <td>5</td>\n      <td>555</td>\n      <td>555</td>\n    </tr>\n    <tr>\n      <th>2</th>\n      <td>6</td>\n      <td>555</td>\n      <td>555</td>\n    </tr>\n    <tr>\n      <th>3</th>\n      <td>7</td>\n      <td>555</td>\n      <td>555</td>\n    </tr>\n  </tbody>\n</table>\n</div>"
          },
          "metadata": {}
        }
      ],
      "execution_count": 4
    },
    {
      "id": "c4184bf3-121f-465f-aaa1-9539a9d1f560",
      "cell_type": "code",
      "source": " df.loc[df.AAA < 5, [\"BBB\", \"CCC\"]] = 2000\n\n df",
      "metadata": {
        "trusted": true
      },
      "outputs": [
        {
          "execution_count": 5,
          "output_type": "execute_result",
          "data": {
            "text/plain": "   AAA   BBB   CCC\n0    4  2000  2000\n1    5   555   555\n2    6   555   555\n3    7   555   555",
            "text/html": "<div>\n<style scoped>\n    .dataframe tbody tr th:only-of-type {\n        vertical-align: middle;\n    }\n\n    .dataframe tbody tr th {\n        vertical-align: top;\n    }\n\n    .dataframe thead th {\n        text-align: right;\n    }\n</style>\n<table border=\"1\" class=\"dataframe\">\n  <thead>\n    <tr style=\"text-align: right;\">\n      <th></th>\n      <th>AAA</th>\n      <th>BBB</th>\n      <th>CCC</th>\n    </tr>\n  </thead>\n  <tbody>\n    <tr>\n      <th>0</th>\n      <td>4</td>\n      <td>2000</td>\n      <td>2000</td>\n    </tr>\n    <tr>\n      <th>1</th>\n      <td>5</td>\n      <td>555</td>\n      <td>555</td>\n    </tr>\n    <tr>\n      <th>2</th>\n      <td>6</td>\n      <td>555</td>\n      <td>555</td>\n    </tr>\n    <tr>\n      <th>3</th>\n      <td>7</td>\n      <td>555</td>\n      <td>555</td>\n    </tr>\n  </tbody>\n</table>\n</div>"
          },
          "metadata": {}
        }
      ],
      "execution_count": 5
    },
    {
      "id": "936ecfa5-9545-4070-a046-dc082401f24e",
      "cell_type": "code",
      "source": " df_mask = pd.DataFrame(\n   {\"AAA\": [True] * 4, \"BBB\": [False] * 4, \"CCC\": [True, False] * 2}\n )\n\n\n df.where(df_mask, -1000)\n",
      "metadata": {
        "trusted": true
      },
      "outputs": [
        {
          "execution_count": 6,
          "output_type": "execute_result",
          "data": {
            "text/plain": "   AAA   BBB   CCC\n0    4 -1000  2000\n1    5 -1000 -1000\n2    6 -1000   555\n3    7 -1000 -1000",
            "text/html": "<div>\n<style scoped>\n    .dataframe tbody tr th:only-of-type {\n        vertical-align: middle;\n    }\n\n    .dataframe tbody tr th {\n        vertical-align: top;\n    }\n\n    .dataframe thead th {\n        text-align: right;\n    }\n</style>\n<table border=\"1\" class=\"dataframe\">\n  <thead>\n    <tr style=\"text-align: right;\">\n      <th></th>\n      <th>AAA</th>\n      <th>BBB</th>\n      <th>CCC</th>\n    </tr>\n  </thead>\n  <tbody>\n    <tr>\n      <th>0</th>\n      <td>4</td>\n      <td>-1000</td>\n      <td>2000</td>\n    </tr>\n    <tr>\n      <th>1</th>\n      <td>5</td>\n      <td>-1000</td>\n      <td>-1000</td>\n    </tr>\n    <tr>\n      <th>2</th>\n      <td>6</td>\n      <td>-1000</td>\n      <td>555</td>\n    </tr>\n    <tr>\n      <th>3</th>\n      <td>7</td>\n      <td>-1000</td>\n      <td>-1000</td>\n    </tr>\n  </tbody>\n</table>\n</div>"
          },
          "metadata": {}
        }
      ],
      "execution_count": 6
    },
    {
      "id": "71376008-3e3e-4d74-ae17-70a5e7cbfd5e",
      "cell_type": "code",
      "source": " df = pd.DataFrame(\n     {\"AAA\": [4, 5, 6, 7], \"BBB\": [10, 20, 30, 40], \"CCC\": [100, 50, -30, -50]}\n )\n \n\n df\n\n\n df[\"logic\"] = np.where(df[\"AAA\"] > 5, \"high\", \"low\")\n\n df\n",
      "metadata": {
        "trusted": true
      },
      "outputs": [
        {
          "execution_count": 7,
          "output_type": "execute_result",
          "data": {
            "text/plain": "   AAA  BBB  CCC logic\n0    4   10  100   low\n1    5   20   50   low\n2    6   30  -30  high\n3    7   40  -50  high",
            "text/html": "<div>\n<style scoped>\n    .dataframe tbody tr th:only-of-type {\n        vertical-align: middle;\n    }\n\n    .dataframe tbody tr th {\n        vertical-align: top;\n    }\n\n    .dataframe thead th {\n        text-align: right;\n    }\n</style>\n<table border=\"1\" class=\"dataframe\">\n  <thead>\n    <tr style=\"text-align: right;\">\n      <th></th>\n      <th>AAA</th>\n      <th>BBB</th>\n      <th>CCC</th>\n      <th>logic</th>\n    </tr>\n  </thead>\n  <tbody>\n    <tr>\n      <th>0</th>\n      <td>4</td>\n      <td>10</td>\n      <td>100</td>\n      <td>low</td>\n    </tr>\n    <tr>\n      <th>1</th>\n      <td>5</td>\n      <td>20</td>\n      <td>50</td>\n      <td>low</td>\n    </tr>\n    <tr>\n      <th>2</th>\n      <td>6</td>\n      <td>30</td>\n      <td>-30</td>\n      <td>high</td>\n    </tr>\n    <tr>\n      <th>3</th>\n      <td>7</td>\n      <td>40</td>\n      <td>-50</td>\n      <td>high</td>\n    </tr>\n  </tbody>\n</table>\n</div>"
          },
          "metadata": {}
        }
      ],
      "execution_count": 7
    },
    {
      "id": "50809e61-3b71-467c-9493-d43daa595282",
      "cell_type": "code",
      "source": " df = pd.DataFrame(\n     {\"AAA\": [4, 5, 6, 7], \"BBB\": [10, 20, 30, 40], \"CCC\": [100, 50, -30, -50]}\n )\n\n\n df\n\n\n df[df.AAA <= 5]\n\n\n df[df.AAA > 5]\n",
      "metadata": {
        "trusted": true
      },
      "outputs": [
        {
          "execution_count": 8,
          "output_type": "execute_result",
          "data": {
            "text/plain": "   AAA  BBB  CCC\n2    6   30  -30\n3    7   40  -50",
            "text/html": "<div>\n<style scoped>\n    .dataframe tbody tr th:only-of-type {\n        vertical-align: middle;\n    }\n\n    .dataframe tbody tr th {\n        vertical-align: top;\n    }\n\n    .dataframe thead th {\n        text-align: right;\n    }\n</style>\n<table border=\"1\" class=\"dataframe\">\n  <thead>\n    <tr style=\"text-align: right;\">\n      <th></th>\n      <th>AAA</th>\n      <th>BBB</th>\n      <th>CCC</th>\n    </tr>\n  </thead>\n  <tbody>\n    <tr>\n      <th>2</th>\n      <td>6</td>\n      <td>30</td>\n      <td>-30</td>\n    </tr>\n    <tr>\n      <th>3</th>\n      <td>7</td>\n      <td>40</td>\n      <td>-50</td>\n    </tr>\n  </tbody>\n</table>\n</div>"
          },
          "metadata": {}
        }
      ],
      "execution_count": 8
    },
    {
      "id": "dd7e6f00-c829-4f39-913b-ff5b338e3716",
      "cell_type": "code",
      "source": " df = pd.DataFrame(\n    {\"AAA\": [4, 5, 6, 7], \"BBB\": [10, 20, 30, 40], \"CCC\": [100, 50, -30, -50]}\n )\n \n\n df\n",
      "metadata": {
        "trusted": true
      },
      "outputs": [
        {
          "execution_count": 9,
          "output_type": "execute_result",
          "data": {
            "text/plain": "   AAA  BBB  CCC\n0    4   10  100\n1    5   20   50\n2    6   30  -30\n3    7   40  -50",
            "text/html": "<div>\n<style scoped>\n    .dataframe tbody tr th:only-of-type {\n        vertical-align: middle;\n    }\n\n    .dataframe tbody tr th {\n        vertical-align: top;\n    }\n\n    .dataframe thead th {\n        text-align: right;\n    }\n</style>\n<table border=\"1\" class=\"dataframe\">\n  <thead>\n    <tr style=\"text-align: right;\">\n      <th></th>\n      <th>AAA</th>\n      <th>BBB</th>\n      <th>CCC</th>\n    </tr>\n  </thead>\n  <tbody>\n    <tr>\n      <th>0</th>\n      <td>4</td>\n      <td>10</td>\n      <td>100</td>\n    </tr>\n    <tr>\n      <th>1</th>\n      <td>5</td>\n      <td>20</td>\n      <td>50</td>\n    </tr>\n    <tr>\n      <th>2</th>\n      <td>6</td>\n      <td>30</td>\n      <td>-30</td>\n    </tr>\n    <tr>\n      <th>3</th>\n      <td>7</td>\n      <td>40</td>\n      <td>-50</td>\n    </tr>\n  </tbody>\n</table>\n</div>"
          },
          "metadata": {}
        }
      ],
      "execution_count": 9
    },
    {
      "id": "d1984a9e-7e30-48af-880e-3359dac6d108",
      "cell_type": "code",
      "source": " df.loc[(df[\"BBB\"] < 25) & (df[\"CCC\"] >= -40), \"AAA\"]\n",
      "metadata": {
        "trusted": true
      },
      "outputs": [
        {
          "execution_count": 10,
          "output_type": "execute_result",
          "data": {
            "text/plain": "0    4\n1    5\nName: AAA, dtype: int64"
          },
          "metadata": {}
        }
      ],
      "execution_count": 10
    },
    {
      "id": "3664465a-7d56-4521-86da-a96e19ff01e5",
      "cell_type": "code",
      "source": " df.loc[(df[\"BBB\"] > 25) | (df[\"CCC\"] >= -40), \"AAA\"]\n",
      "metadata": {
        "trusted": true
      },
      "outputs": [
        {
          "execution_count": 11,
          "output_type": "execute_result",
          "data": {
            "text/plain": "0    4\n1    5\n2    6\n3    7\nName: AAA, dtype: int64"
          },
          "metadata": {}
        }
      ],
      "execution_count": 11
    },
    {
      "id": "1dccbfbb-c0f5-4056-ae81-ba2bb23ed68c",
      "cell_type": "code",
      "source": " df.loc[(df[\"BBB\"] > 25) | (df[\"CCC\"] >= 75), \"AAA\"] = 999\n\n df\n",
      "metadata": {
        "trusted": true
      },
      "outputs": [
        {
          "execution_count": 12,
          "output_type": "execute_result",
          "data": {
            "text/plain": "   AAA  BBB  CCC\n0  999   10  100\n1    5   20   50\n2  999   30  -30\n3  999   40  -50",
            "text/html": "<div>\n<style scoped>\n    .dataframe tbody tr th:only-of-type {\n        vertical-align: middle;\n    }\n\n    .dataframe tbody tr th {\n        vertical-align: top;\n    }\n\n    .dataframe thead th {\n        text-align: right;\n    }\n</style>\n<table border=\"1\" class=\"dataframe\">\n  <thead>\n    <tr style=\"text-align: right;\">\n      <th></th>\n      <th>AAA</th>\n      <th>BBB</th>\n      <th>CCC</th>\n    </tr>\n  </thead>\n  <tbody>\n    <tr>\n      <th>0</th>\n      <td>999</td>\n      <td>10</td>\n      <td>100</td>\n    </tr>\n    <tr>\n      <th>1</th>\n      <td>5</td>\n      <td>20</td>\n      <td>50</td>\n    </tr>\n    <tr>\n      <th>2</th>\n      <td>999</td>\n      <td>30</td>\n      <td>-30</td>\n    </tr>\n    <tr>\n      <th>3</th>\n      <td>999</td>\n      <td>40</td>\n      <td>-50</td>\n    </tr>\n  </tbody>\n</table>\n</div>"
          },
          "metadata": {}
        }
      ],
      "execution_count": 12
    },
    {
      "id": "1fe10520-f08f-4793-90ee-be6b104589a7",
      "cell_type": "code",
      "source": " df = pd.DataFrame(\n    {\"AAA\": [4, 5, 6, 7], \"BBB\": [10, 20, 30, 40], \"CCC\": [100, 50, -30, -50]}\n )\n\n\n df\n\n\n aValue = 43.0\n\n df.loc[(df.CCC - aValue).abs().argsort()]",
      "metadata": {
        "trusted": true
      },
      "outputs": [
        {
          "execution_count": 13,
          "output_type": "execute_result",
          "data": {
            "text/plain": "   AAA  BBB  CCC\n1    5   20   50\n0    4   10  100\n2    6   30  -30\n3    7   40  -50",
            "text/html": "<div>\n<style scoped>\n    .dataframe tbody tr th:only-of-type {\n        vertical-align: middle;\n    }\n\n    .dataframe tbody tr th {\n        vertical-align: top;\n    }\n\n    .dataframe thead th {\n        text-align: right;\n    }\n</style>\n<table border=\"1\" class=\"dataframe\">\n  <thead>\n    <tr style=\"text-align: right;\">\n      <th></th>\n      <th>AAA</th>\n      <th>BBB</th>\n      <th>CCC</th>\n    </tr>\n  </thead>\n  <tbody>\n    <tr>\n      <th>1</th>\n      <td>5</td>\n      <td>20</td>\n      <td>50</td>\n    </tr>\n    <tr>\n      <th>0</th>\n      <td>4</td>\n      <td>10</td>\n      <td>100</td>\n    </tr>\n    <tr>\n      <th>2</th>\n      <td>6</td>\n      <td>30</td>\n      <td>-30</td>\n    </tr>\n    <tr>\n      <th>3</th>\n      <td>7</td>\n      <td>40</td>\n      <td>-50</td>\n    </tr>\n  </tbody>\n</table>\n</div>"
          },
          "metadata": {}
        }
      ],
      "execution_count": 13
    },
    {
      "id": "7e45a42a-66f2-4236-a16d-2da7aff06af9",
      "cell_type": "code",
      "source": " df = pd.DataFrame(\n    {\"AAA\": [4, 5, 6, 7], \"BBB\": [10, 20, 30, 40], \"CCC\": [100, 50, -30, -50]}\n )\n \n\n df\n\n\n",
      "metadata": {
        "trusted": true
      },
      "outputs": [
        {
          "execution_count": 14,
          "output_type": "execute_result",
          "data": {
            "text/plain": "   AAA  BBB  CCC\n0    4   10  100\n1    5   20   50\n2    6   30  -30\n3    7   40  -50",
            "text/html": "<div>\n<style scoped>\n    .dataframe tbody tr th:only-of-type {\n        vertical-align: middle;\n    }\n\n    .dataframe tbody tr th {\n        vertical-align: top;\n    }\n\n    .dataframe thead th {\n        text-align: right;\n    }\n</style>\n<table border=\"1\" class=\"dataframe\">\n  <thead>\n    <tr style=\"text-align: right;\">\n      <th></th>\n      <th>AAA</th>\n      <th>BBB</th>\n      <th>CCC</th>\n    </tr>\n  </thead>\n  <tbody>\n    <tr>\n      <th>0</th>\n      <td>4</td>\n      <td>10</td>\n      <td>100</td>\n    </tr>\n    <tr>\n      <th>1</th>\n      <td>5</td>\n      <td>20</td>\n      <td>50</td>\n    </tr>\n    <tr>\n      <th>2</th>\n      <td>6</td>\n      <td>30</td>\n      <td>-30</td>\n    </tr>\n    <tr>\n      <th>3</th>\n      <td>7</td>\n      <td>40</td>\n      <td>-50</td>\n    </tr>\n  </tbody>\n</table>\n</div>"
          },
          "metadata": {}
        }
      ],
      "execution_count": 14
    },
    {
      "id": "753296ac-e70b-4c97-94df-35955770445c",
      "cell_type": "code",
      "source": " Crit1 = df.AAA <= 5.5\n\n Crit2 = df.BBB == 10.0\n\n Crit3 = df.CCC > -40.0",
      "metadata": {
        "trusted": true
      },
      "outputs": [],
      "execution_count": 15
    },
    {
      "id": "0e9dbce1-8fc3-47c4-9c1a-7820aa9870a3",
      "cell_type": "code",
      "source": " AllCrit = Crit1 & Crit2 & Crit3",
      "metadata": {
        "trusted": true
      },
      "outputs": [],
      "execution_count": 16
    },
    {
      "id": "4be2284b-7a83-4803-883e-08c572f794ee",
      "cell_type": "code",
      "source": " import functools\n\n CritList = [Crit1, Crit2, Crit3]\n\n AllCrit = functools.reduce(lambda x, y: x & y, CritList)\n\n df[AllCrit]\n",
      "metadata": {
        "trusted": true
      },
      "outputs": [
        {
          "execution_count": 17,
          "output_type": "execute_result",
          "data": {
            "text/plain": "   AAA  BBB  CCC\n0    4   10  100",
            "text/html": "<div>\n<style scoped>\n    .dataframe tbody tr th:only-of-type {\n        vertical-align: middle;\n    }\n\n    .dataframe tbody tr th {\n        vertical-align: top;\n    }\n\n    .dataframe thead th {\n        text-align: right;\n    }\n</style>\n<table border=\"1\" class=\"dataframe\">\n  <thead>\n    <tr style=\"text-align: right;\">\n      <th></th>\n      <th>AAA</th>\n      <th>BBB</th>\n      <th>CCC</th>\n    </tr>\n  </thead>\n  <tbody>\n    <tr>\n      <th>0</th>\n      <td>4</td>\n      <td>10</td>\n      <td>100</td>\n    </tr>\n  </tbody>\n</table>\n</div>"
          },
          "metadata": {}
        }
      ],
      "execution_count": 17
    },
    {
      "id": "7d2eed38-5037-4839-a553-c3a3a3024b3c",
      "cell_type": "code",
      "source": "df = pd.DataFrame(\n    {\"AAA\": [4, 5, 6, 7], \"BBB\": [10, 20, 30, 40], \"CCC\": [100, 50, -30, -50]}\n)\n\ndf",
      "metadata": {
        "trusted": true
      },
      "outputs": [
        {
          "execution_count": 18,
          "output_type": "execute_result",
          "data": {
            "text/plain": "   AAA  BBB  CCC\n0    4   10  100\n1    5   20   50\n2    6   30  -30\n3    7   40  -50",
            "text/html": "<div>\n<style scoped>\n    .dataframe tbody tr th:only-of-type {\n        vertical-align: middle;\n    }\n\n    .dataframe tbody tr th {\n        vertical-align: top;\n    }\n\n    .dataframe thead th {\n        text-align: right;\n    }\n</style>\n<table border=\"1\" class=\"dataframe\">\n  <thead>\n    <tr style=\"text-align: right;\">\n      <th></th>\n      <th>AAA</th>\n      <th>BBB</th>\n      <th>CCC</th>\n    </tr>\n  </thead>\n  <tbody>\n    <tr>\n      <th>0</th>\n      <td>4</td>\n      <td>10</td>\n      <td>100</td>\n    </tr>\n    <tr>\n      <th>1</th>\n      <td>5</td>\n      <td>20</td>\n      <td>50</td>\n    </tr>\n    <tr>\n      <th>2</th>\n      <td>6</td>\n      <td>30</td>\n      <td>-30</td>\n    </tr>\n    <tr>\n      <th>3</th>\n      <td>7</td>\n      <td>40</td>\n      <td>-50</td>\n    </tr>\n  </tbody>\n</table>\n</div>"
          },
          "metadata": {}
        }
      ],
      "execution_count": 18
    },
    {
      "id": "3316a9d4-dcd0-4734-bd23-668240400b27",
      "cell_type": "code",
      "source": "df[(df.AAA <= 6) & (df.index.isin([0, 2, 4]))]\n",
      "metadata": {
        "trusted": true
      },
      "outputs": [
        {
          "execution_count": 19,
          "output_type": "execute_result",
          "data": {
            "text/plain": "   AAA  BBB  CCC\n0    4   10  100\n2    6   30  -30",
            "text/html": "<div>\n<style scoped>\n    .dataframe tbody tr th:only-of-type {\n        vertical-align: middle;\n    }\n\n    .dataframe tbody tr th {\n        vertical-align: top;\n    }\n\n    .dataframe thead th {\n        text-align: right;\n    }\n</style>\n<table border=\"1\" class=\"dataframe\">\n  <thead>\n    <tr style=\"text-align: right;\">\n      <th></th>\n      <th>AAA</th>\n      <th>BBB</th>\n      <th>CCC</th>\n    </tr>\n  </thead>\n  <tbody>\n    <tr>\n      <th>0</th>\n      <td>4</td>\n      <td>10</td>\n      <td>100</td>\n    </tr>\n    <tr>\n      <th>2</th>\n      <td>6</td>\n      <td>30</td>\n      <td>-30</td>\n    </tr>\n  </tbody>\n</table>\n</div>"
          },
          "metadata": {}
        }
      ],
      "execution_count": 19
    },
    {
      "id": "b64dec1a-b14b-4246-8443-c77e979b56d8",
      "cell_type": "code",
      "source": "f = pd.DataFrame(\n    {\"AAA\": [4, 5, 6, 7], \"BBB\": [10, 20, 30, 40], \"CCC\": [100, 50, -30, -50]},\n    index=[\"foo\", \"bar\", \"boo\", \"kar\"],\n)\n",
      "metadata": {
        "trusted": true
      },
      "outputs": [],
      "execution_count": 20
    },
    {
      "id": "d8611865-1b47-44d4-b750-b2d542b6bbf4",
      "cell_type": "code",
      "source": "df.loc[\"bar\":\"kar\"]  # Label\n",
      "metadata": {
        "trusted": true
      },
      "outputs": [
        {
          "execution_count": 21,
          "output_type": "execute_result",
          "data": {
            "text/plain": "Empty DataFrame\nColumns: [AAA, BBB, CCC]\nIndex: []",
            "text/html": "<div>\n<style scoped>\n    .dataframe tbody tr th:only-of-type {\n        vertical-align: middle;\n    }\n\n    .dataframe tbody tr th {\n        vertical-align: top;\n    }\n\n    .dataframe thead th {\n        text-align: right;\n    }\n</style>\n<table border=\"1\" class=\"dataframe\">\n  <thead>\n    <tr style=\"text-align: right;\">\n      <th></th>\n      <th>AAA</th>\n      <th>BBB</th>\n      <th>CCC</th>\n    </tr>\n  </thead>\n  <tbody>\n  </tbody>\n</table>\n</div>"
          },
          "metadata": {}
        }
      ],
      "execution_count": 21
    },
    {
      "id": "e44161fe-ca3c-459b-a9fb-3b056b467748",
      "cell_type": "code",
      "source": "df[0:3]\n",
      "metadata": {
        "trusted": true
      },
      "outputs": [
        {
          "execution_count": 22,
          "output_type": "execute_result",
          "data": {
            "text/plain": "   AAA  BBB  CCC\n0    4   10  100\n1    5   20   50\n2    6   30  -30",
            "text/html": "<div>\n<style scoped>\n    .dataframe tbody tr th:only-of-type {\n        vertical-align: middle;\n    }\n\n    .dataframe tbody tr th {\n        vertical-align: top;\n    }\n\n    .dataframe thead th {\n        text-align: right;\n    }\n</style>\n<table border=\"1\" class=\"dataframe\">\n  <thead>\n    <tr style=\"text-align: right;\">\n      <th></th>\n      <th>AAA</th>\n      <th>BBB</th>\n      <th>CCC</th>\n    </tr>\n  </thead>\n  <tbody>\n    <tr>\n      <th>0</th>\n      <td>4</td>\n      <td>10</td>\n      <td>100</td>\n    </tr>\n    <tr>\n      <th>1</th>\n      <td>5</td>\n      <td>20</td>\n      <td>50</td>\n    </tr>\n    <tr>\n      <th>2</th>\n      <td>6</td>\n      <td>30</td>\n      <td>-30</td>\n    </tr>\n  </tbody>\n</table>\n</div>"
          },
          "metadata": {}
        }
      ],
      "execution_count": 22
    },
    {
      "id": "2ee0c948-0c34-44df-992e-7bb4ce69dc6d",
      "cell_type": "code",
      "source": "data = {\"AAA\": [4, 5, 6, 7], \"BBB\": [10, 20, 30, 40], \"CCC\": [100, 50, -30, -50]}\n",
      "metadata": {
        "trusted": true
      },
      "outputs": [],
      "execution_count": 24
    },
    {
      "id": "f0b10021-f844-4068-863c-40d6d2b79f8c",
      "cell_type": "code",
      "source": "df2 = pd.DataFrame(data=data, index=[1, 2, 3, 4])  # Note index starts at 1.\n",
      "metadata": {
        "trusted": true
      },
      "outputs": [],
      "execution_count": 25
    },
    {
      "id": "75421438-8d81-4f13-af4b-9c3074b591dc",
      "cell_type": "code",
      "source": "df2.iloc[1:3]  # Position-oriented\n",
      "metadata": {
        "trusted": true
      },
      "outputs": [
        {
          "execution_count": 26,
          "output_type": "execute_result",
          "data": {
            "text/plain": "   AAA  BBB  CCC\n2    5   20   50\n3    6   30  -30",
            "text/html": "<div>\n<style scoped>\n    .dataframe tbody tr th:only-of-type {\n        vertical-align: middle;\n    }\n\n    .dataframe tbody tr th {\n        vertical-align: top;\n    }\n\n    .dataframe thead th {\n        text-align: right;\n    }\n</style>\n<table border=\"1\" class=\"dataframe\">\n  <thead>\n    <tr style=\"text-align: right;\">\n      <th></th>\n      <th>AAA</th>\n      <th>BBB</th>\n      <th>CCC</th>\n    </tr>\n  </thead>\n  <tbody>\n    <tr>\n      <th>2</th>\n      <td>5</td>\n      <td>20</td>\n      <td>50</td>\n    </tr>\n    <tr>\n      <th>3</th>\n      <td>6</td>\n      <td>30</td>\n      <td>-30</td>\n    </tr>\n  </tbody>\n</table>\n</div>"
          },
          "metadata": {}
        }
      ],
      "execution_count": 26
    },
    {
      "id": "1d66801c-9cad-4a78-bd98-dc8a3d345d24",
      "cell_type": "code",
      "source": "df2.loc[1:3]  # Label-oriented\n",
      "metadata": {
        "trusted": true
      },
      "outputs": [
        {
          "execution_count": 27,
          "output_type": "execute_result",
          "data": {
            "text/plain": "   AAA  BBB  CCC\n1    4   10  100\n2    5   20   50\n3    6   30  -30",
            "text/html": "<div>\n<style scoped>\n    .dataframe tbody tr th:only-of-type {\n        vertical-align: middle;\n    }\n\n    .dataframe tbody tr th {\n        vertical-align: top;\n    }\n\n    .dataframe thead th {\n        text-align: right;\n    }\n</style>\n<table border=\"1\" class=\"dataframe\">\n  <thead>\n    <tr style=\"text-align: right;\">\n      <th></th>\n      <th>AAA</th>\n      <th>BBB</th>\n      <th>CCC</th>\n    </tr>\n  </thead>\n  <tbody>\n    <tr>\n      <th>1</th>\n      <td>4</td>\n      <td>10</td>\n      <td>100</td>\n    </tr>\n    <tr>\n      <th>2</th>\n      <td>5</td>\n      <td>20</td>\n      <td>50</td>\n    </tr>\n    <tr>\n      <th>3</th>\n      <td>6</td>\n      <td>30</td>\n      <td>-30</td>\n    </tr>\n  </tbody>\n</table>\n</div>"
          },
          "metadata": {}
        }
      ],
      "execution_count": 27
    },
    {
      "id": "359edee1-df6e-4d34-a593-850a6c8a3132",
      "cell_type": "code",
      "source": "df = pd.DataFrame(\n    {\"AAA\": [4, 5, 6, 7], \"BBB\": [10, 20, 30, 40], \"CCC\": [100, 50, -30, -50]}\n)",
      "metadata": {
        "trusted": true
      },
      "outputs": [],
      "execution_count": 28
    },
    {
      "id": "8fdb5385-128b-4400-9302-c99984aa5ad5",
      "cell_type": "code",
      "source": "df",
      "metadata": {
        "trusted": true
      },
      "outputs": [
        {
          "execution_count": 29,
          "output_type": "execute_result",
          "data": {
            "text/plain": "   AAA  BBB  CCC\n0    4   10  100\n1    5   20   50\n2    6   30  -30\n3    7   40  -50",
            "text/html": "<div>\n<style scoped>\n    .dataframe tbody tr th:only-of-type {\n        vertical-align: middle;\n    }\n\n    .dataframe tbody tr th {\n        vertical-align: top;\n    }\n\n    .dataframe thead th {\n        text-align: right;\n    }\n</style>\n<table border=\"1\" class=\"dataframe\">\n  <thead>\n    <tr style=\"text-align: right;\">\n      <th></th>\n      <th>AAA</th>\n      <th>BBB</th>\n      <th>CCC</th>\n    </tr>\n  </thead>\n  <tbody>\n    <tr>\n      <th>0</th>\n      <td>4</td>\n      <td>10</td>\n      <td>100</td>\n    </tr>\n    <tr>\n      <th>1</th>\n      <td>5</td>\n      <td>20</td>\n      <td>50</td>\n    </tr>\n    <tr>\n      <th>2</th>\n      <td>6</td>\n      <td>30</td>\n      <td>-30</td>\n    </tr>\n    <tr>\n      <th>3</th>\n      <td>7</td>\n      <td>40</td>\n      <td>-50</td>\n    </tr>\n  </tbody>\n</table>\n</div>"
          },
          "metadata": {}
        }
      ],
      "execution_count": 29
    },
    {
      "id": "df039858-7100-4fdc-83eb-d465109192df",
      "cell_type": "code",
      "source": "df[~((df.AAA <= 6) & (df.index.isin([0, 2, 4])))]\n",
      "metadata": {
        "trusted": true
      },
      "outputs": [
        {
          "execution_count": 30,
          "output_type": "execute_result",
          "data": {
            "text/plain": "   AAA  BBB  CCC\n1    5   20   50\n3    7   40  -50",
            "text/html": "<div>\n<style scoped>\n    .dataframe tbody tr th:only-of-type {\n        vertical-align: middle;\n    }\n\n    .dataframe tbody tr th {\n        vertical-align: top;\n    }\n\n    .dataframe thead th {\n        text-align: right;\n    }\n</style>\n<table border=\"1\" class=\"dataframe\">\n  <thead>\n    <tr style=\"text-align: right;\">\n      <th></th>\n      <th>AAA</th>\n      <th>BBB</th>\n      <th>CCC</th>\n    </tr>\n  </thead>\n  <tbody>\n    <tr>\n      <th>1</th>\n      <td>5</td>\n      <td>20</td>\n      <td>50</td>\n    </tr>\n    <tr>\n      <th>3</th>\n      <td>7</td>\n      <td>40</td>\n      <td>-50</td>\n    </tr>\n  </tbody>\n</table>\n</div>"
          },
          "metadata": {}
        }
      ],
      "execution_count": 30
    },
    {
      "id": "239f5706-b8e7-4015-9ce7-c47914e1c9d5",
      "cell_type": "code",
      "source": "df = pd.DataFrame({\"AAA\": [1, 2, 1, 3], \"BBB\": [1, 1, 2, 2], \"CCC\": [2, 1, 3, 1]})\n\ndf",
      "metadata": {
        "trusted": true
      },
      "outputs": [
        {
          "execution_count": 31,
          "output_type": "execute_result",
          "data": {
            "text/plain": "   AAA  BBB  CCC\n0    1    1    2\n1    2    1    1\n2    1    2    3\n3    3    2    1",
            "text/html": "<div>\n<style scoped>\n    .dataframe tbody tr th:only-of-type {\n        vertical-align: middle;\n    }\n\n    .dataframe tbody tr th {\n        vertical-align: top;\n    }\n\n    .dataframe thead th {\n        text-align: right;\n    }\n</style>\n<table border=\"1\" class=\"dataframe\">\n  <thead>\n    <tr style=\"text-align: right;\">\n      <th></th>\n      <th>AAA</th>\n      <th>BBB</th>\n      <th>CCC</th>\n    </tr>\n  </thead>\n  <tbody>\n    <tr>\n      <th>0</th>\n      <td>1</td>\n      <td>1</td>\n      <td>2</td>\n    </tr>\n    <tr>\n      <th>1</th>\n      <td>2</td>\n      <td>1</td>\n      <td>1</td>\n    </tr>\n    <tr>\n      <th>2</th>\n      <td>1</td>\n      <td>2</td>\n      <td>3</td>\n    </tr>\n    <tr>\n      <th>3</th>\n      <td>3</td>\n      <td>2</td>\n      <td>1</td>\n    </tr>\n  </tbody>\n</table>\n</div>"
          },
          "metadata": {}
        }
      ],
      "execution_count": 31
    },
    {
      "id": "ce80a00c-ab26-4cdc-989d-864a82497399",
      "cell_type": "code",
      "source": "source_cols = df.columns  # Or some subset would work too\n",
      "metadata": {
        "trusted": true
      },
      "outputs": [],
      "execution_count": 32
    },
    {
      "id": "d216361d-3268-4927-838e-a4672e363587",
      "cell_type": "code",
      "source": "new_cols = [str(x) + \"_cat\" for x in source_cols]\n",
      "metadata": {
        "trusted": true
      },
      "outputs": [],
      "execution_count": 33
    },
    {
      "id": "45f245e9-9b86-4d01-a32b-efa36f7cdc9e",
      "cell_type": "code",
      "source": "categories = {1: \"Alpha\", 2: \"Beta\", 3: \"Charlie\"}\n",
      "metadata": {
        "trusted": true
      },
      "outputs": [],
      "execution_count": 34
    },
    {
      "id": "9d796cae-4a24-48bc-b04a-ab523206b200",
      "cell_type": "code",
      "source": "df",
      "metadata": {
        "trusted": true
      },
      "outputs": [
        {
          "execution_count": 38,
          "output_type": "execute_result",
          "data": {
            "text/plain": "   AAA  BBB  CCC\n0    1    1    2\n1    2    1    1\n2    1    2    3\n3    3    2    1",
            "text/html": "<div>\n<style scoped>\n    .dataframe tbody tr th:only-of-type {\n        vertical-align: middle;\n    }\n\n    .dataframe tbody tr th {\n        vertical-align: top;\n    }\n\n    .dataframe thead th {\n        text-align: right;\n    }\n</style>\n<table border=\"1\" class=\"dataframe\">\n  <thead>\n    <tr style=\"text-align: right;\">\n      <th></th>\n      <th>AAA</th>\n      <th>BBB</th>\n      <th>CCC</th>\n    </tr>\n  </thead>\n  <tbody>\n    <tr>\n      <th>0</th>\n      <td>1</td>\n      <td>1</td>\n      <td>2</td>\n    </tr>\n    <tr>\n      <th>1</th>\n      <td>2</td>\n      <td>1</td>\n      <td>1</td>\n    </tr>\n    <tr>\n      <th>2</th>\n      <td>1</td>\n      <td>2</td>\n      <td>3</td>\n    </tr>\n    <tr>\n      <th>3</th>\n      <td>3</td>\n      <td>2</td>\n      <td>1</td>\n    </tr>\n  </tbody>\n</table>\n</div>"
          },
          "metadata": {}
        }
      ],
      "execution_count": 38
    },
    {
      "id": "f919f6b3-cbf1-47d0-b0c2-e4814557d4fc",
      "cell_type": "code",
      "source": "df = pd.DataFrame(\n    {\"AAA\": [1, 1, 1, 2, 2, 2, 3, 3], \"BBB\": [2, 1, 3, 4, 5, 1, 2, 3]}\n)",
      "metadata": {
        "trusted": true
      },
      "outputs": [],
      "execution_count": 39
    },
    {
      "id": "e14ee4cc-c1b6-485b-982f-a4a4809fad95",
      "cell_type": "code",
      "source": "df",
      "metadata": {
        "trusted": true
      },
      "outputs": [
        {
          "execution_count": 40,
          "output_type": "execute_result",
          "data": {
            "text/plain": "   AAA  BBB\n0    1    2\n1    1    1\n2    1    3\n3    2    4\n4    2    5\n5    2    1\n6    3    2\n7    3    3",
            "text/html": "<div>\n<style scoped>\n    .dataframe tbody tr th:only-of-type {\n        vertical-align: middle;\n    }\n\n    .dataframe tbody tr th {\n        vertical-align: top;\n    }\n\n    .dataframe thead th {\n        text-align: right;\n    }\n</style>\n<table border=\"1\" class=\"dataframe\">\n  <thead>\n    <tr style=\"text-align: right;\">\n      <th></th>\n      <th>AAA</th>\n      <th>BBB</th>\n    </tr>\n  </thead>\n  <tbody>\n    <tr>\n      <th>0</th>\n      <td>1</td>\n      <td>2</td>\n    </tr>\n    <tr>\n      <th>1</th>\n      <td>1</td>\n      <td>1</td>\n    </tr>\n    <tr>\n      <th>2</th>\n      <td>1</td>\n      <td>3</td>\n    </tr>\n    <tr>\n      <th>3</th>\n      <td>2</td>\n      <td>4</td>\n    </tr>\n    <tr>\n      <th>4</th>\n      <td>2</td>\n      <td>5</td>\n    </tr>\n    <tr>\n      <th>5</th>\n      <td>2</td>\n      <td>1</td>\n    </tr>\n    <tr>\n      <th>6</th>\n      <td>3</td>\n      <td>2</td>\n    </tr>\n    <tr>\n      <th>7</th>\n      <td>3</td>\n      <td>3</td>\n    </tr>\n  </tbody>\n</table>\n</div>"
          },
          "metadata": {}
        }
      ],
      "execution_count": 40
    },
    {
      "id": "20027314-8c32-4fef-aff6-69268c5d7d5f",
      "cell_type": "code",
      "source": "df.loc[df.groupby(\"AAA\")[\"BBB\"].idxmin()]\n",
      "metadata": {
        "trusted": true
      },
      "outputs": [
        {
          "execution_count": 41,
          "output_type": "execute_result",
          "data": {
            "text/plain": "   AAA  BBB\n1    1    1\n5    2    1\n6    3    2",
            "text/html": "<div>\n<style scoped>\n    .dataframe tbody tr th:only-of-type {\n        vertical-align: middle;\n    }\n\n    .dataframe tbody tr th {\n        vertical-align: top;\n    }\n\n    .dataframe thead th {\n        text-align: right;\n    }\n</style>\n<table border=\"1\" class=\"dataframe\">\n  <thead>\n    <tr style=\"text-align: right;\">\n      <th></th>\n      <th>AAA</th>\n      <th>BBB</th>\n    </tr>\n  </thead>\n  <tbody>\n    <tr>\n      <th>1</th>\n      <td>1</td>\n      <td>1</td>\n    </tr>\n    <tr>\n      <th>5</th>\n      <td>2</td>\n      <td>1</td>\n    </tr>\n    <tr>\n      <th>6</th>\n      <td>3</td>\n      <td>2</td>\n    </tr>\n  </tbody>\n</table>\n</div>"
          },
          "metadata": {}
        }
      ],
      "execution_count": 41
    },
    {
      "id": "83091df3-58b1-4641-946b-6b3aa846222d",
      "cell_type": "code",
      "source": "df.sort_values(by=\"BBB\").groupby(\"AAA\", as_index=False).first()\n",
      "metadata": {
        "trusted": true
      },
      "outputs": [
        {
          "execution_count": 42,
          "output_type": "execute_result",
          "data": {
            "text/plain": "   AAA  BBB\n0    1    1\n1    2    1\n2    3    2",
            "text/html": "<div>\n<style scoped>\n    .dataframe tbody tr th:only-of-type {\n        vertical-align: middle;\n    }\n\n    .dataframe tbody tr th {\n        vertical-align: top;\n    }\n\n    .dataframe thead th {\n        text-align: right;\n    }\n</style>\n<table border=\"1\" class=\"dataframe\">\n  <thead>\n    <tr style=\"text-align: right;\">\n      <th></th>\n      <th>AAA</th>\n      <th>BBB</th>\n    </tr>\n  </thead>\n  <tbody>\n    <tr>\n      <th>0</th>\n      <td>1</td>\n      <td>1</td>\n    </tr>\n    <tr>\n      <th>1</th>\n      <td>2</td>\n      <td>1</td>\n    </tr>\n    <tr>\n      <th>2</th>\n      <td>3</td>\n      <td>2</td>\n    </tr>\n  </tbody>\n</table>\n</div>"
          },
          "metadata": {}
        }
      ],
      "execution_count": 42
    },
    {
      "id": "3a215556-52d4-4edf-aca7-c26a783650fc",
      "cell_type": "code",
      "source": "df = pd.DataFrame(\n    {\n        \"row\": [0, 1, 2],\n        \"One_X\": [1.1, 1.1, 1.1],\n        \"One_Y\": [1.2, 1.2, 1.2],\n        \"Two_X\": [1.11, 1.11, 1.11],\n        \"Two_Y\": [1.22, 1.22, 1.22],\n    }\n)",
      "metadata": {
        "trusted": true
      },
      "outputs": [],
      "execution_count": 43
    },
    {
      "id": "230cf95d-b7e3-4209-95aa-03e38849552e",
      "cell_type": "code",
      "source": "df",
      "metadata": {
        "trusted": true
      },
      "outputs": [
        {
          "execution_count": 44,
          "output_type": "execute_result",
          "data": {
            "text/plain": "   row  One_X  One_Y  Two_X  Two_Y\n0    0    1.1    1.2   1.11   1.22\n1    1    1.1    1.2   1.11   1.22\n2    2    1.1    1.2   1.11   1.22",
            "text/html": "<div>\n<style scoped>\n    .dataframe tbody tr th:only-of-type {\n        vertical-align: middle;\n    }\n\n    .dataframe tbody tr th {\n        vertical-align: top;\n    }\n\n    .dataframe thead th {\n        text-align: right;\n    }\n</style>\n<table border=\"1\" class=\"dataframe\">\n  <thead>\n    <tr style=\"text-align: right;\">\n      <th></th>\n      <th>row</th>\n      <th>One_X</th>\n      <th>One_Y</th>\n      <th>Two_X</th>\n      <th>Two_Y</th>\n    </tr>\n  </thead>\n  <tbody>\n    <tr>\n      <th>0</th>\n      <td>0</td>\n      <td>1.1</td>\n      <td>1.2</td>\n      <td>1.11</td>\n      <td>1.22</td>\n    </tr>\n    <tr>\n      <th>1</th>\n      <td>1</td>\n      <td>1.1</td>\n      <td>1.2</td>\n      <td>1.11</td>\n      <td>1.22</td>\n    </tr>\n    <tr>\n      <th>2</th>\n      <td>2</td>\n      <td>1.1</td>\n      <td>1.2</td>\n      <td>1.11</td>\n      <td>1.22</td>\n    </tr>\n  </tbody>\n</table>\n</div>"
          },
          "metadata": {}
        }
      ],
      "execution_count": 44
    },
    {
      "id": "1b2b9736-9e1f-4fc6-966d-24ef1c79770d",
      "cell_type": "code",
      "source": "df = df.set_index(\"row\")\n",
      "metadata": {
        "trusted": true
      },
      "outputs": [],
      "execution_count": 45
    },
    {
      "id": "34696c04-ff19-4578-8f58-eae766c2a1b3",
      "cell_type": "code",
      "source": "df",
      "metadata": {
        "trusted": true
      },
      "outputs": [
        {
          "execution_count": 46,
          "output_type": "execute_result",
          "data": {
            "text/plain": "     One_X  One_Y  Two_X  Two_Y\nrow                            \n0      1.1    1.2   1.11   1.22\n1      1.1    1.2   1.11   1.22\n2      1.1    1.2   1.11   1.22",
            "text/html": "<div>\n<style scoped>\n    .dataframe tbody tr th:only-of-type {\n        vertical-align: middle;\n    }\n\n    .dataframe tbody tr th {\n        vertical-align: top;\n    }\n\n    .dataframe thead th {\n        text-align: right;\n    }\n</style>\n<table border=\"1\" class=\"dataframe\">\n  <thead>\n    <tr style=\"text-align: right;\">\n      <th></th>\n      <th>One_X</th>\n      <th>One_Y</th>\n      <th>Two_X</th>\n      <th>Two_Y</th>\n    </tr>\n    <tr>\n      <th>row</th>\n      <th></th>\n      <th></th>\n      <th></th>\n      <th></th>\n    </tr>\n  </thead>\n  <tbody>\n    <tr>\n      <th>0</th>\n      <td>1.1</td>\n      <td>1.2</td>\n      <td>1.11</td>\n      <td>1.22</td>\n    </tr>\n    <tr>\n      <th>1</th>\n      <td>1.1</td>\n      <td>1.2</td>\n      <td>1.11</td>\n      <td>1.22</td>\n    </tr>\n    <tr>\n      <th>2</th>\n      <td>1.1</td>\n      <td>1.2</td>\n      <td>1.11</td>\n      <td>1.22</td>\n    </tr>\n  </tbody>\n</table>\n</div>"
          },
          "metadata": {}
        }
      ],
      "execution_count": 46
    },
    {
      "id": "742df040-f06f-4758-b2b8-0f08f77bc05a",
      "cell_type": "code",
      "source": "df.columns = pd.MultiIndex.from_tuples([tuple(c.split(\"_\")) for c in df.columns])\n",
      "metadata": {
        "trusted": true
      },
      "outputs": [],
      "execution_count": 47
    },
    {
      "id": "c691dbbf-2a61-4b44-ad48-99e2aa4b2f59",
      "cell_type": "code",
      "source": "df",
      "metadata": {
        "trusted": true
      },
      "outputs": [
        {
          "execution_count": 48,
          "output_type": "execute_result",
          "data": {
            "text/plain": "     One        Two      \n       X    Y     X     Y\nrow                      \n0    1.1  1.2  1.11  1.22\n1    1.1  1.2  1.11  1.22\n2    1.1  1.2  1.11  1.22",
            "text/html": "<div>\n<style scoped>\n    .dataframe tbody tr th:only-of-type {\n        vertical-align: middle;\n    }\n\n    .dataframe tbody tr th {\n        vertical-align: top;\n    }\n\n    .dataframe thead tr th {\n        text-align: left;\n    }\n\n    .dataframe thead tr:last-of-type th {\n        text-align: right;\n    }\n</style>\n<table border=\"1\" class=\"dataframe\">\n  <thead>\n    <tr>\n      <th></th>\n      <th colspan=\"2\" halign=\"left\">One</th>\n      <th colspan=\"2\" halign=\"left\">Two</th>\n    </tr>\n    <tr>\n      <th></th>\n      <th>X</th>\n      <th>Y</th>\n      <th>X</th>\n      <th>Y</th>\n    </tr>\n    <tr>\n      <th>row</th>\n      <th></th>\n      <th></th>\n      <th></th>\n      <th></th>\n    </tr>\n  </thead>\n  <tbody>\n    <tr>\n      <th>0</th>\n      <td>1.1</td>\n      <td>1.2</td>\n      <td>1.11</td>\n      <td>1.22</td>\n    </tr>\n    <tr>\n      <th>1</th>\n      <td>1.1</td>\n      <td>1.2</td>\n      <td>1.11</td>\n      <td>1.22</td>\n    </tr>\n    <tr>\n      <th>2</th>\n      <td>1.1</td>\n      <td>1.2</td>\n      <td>1.11</td>\n      <td>1.22</td>\n    </tr>\n  </tbody>\n</table>\n</div>"
          },
          "metadata": {}
        }
      ],
      "execution_count": 48
    },
    {
      "id": "2caf1380-9ca8-4c43-87b4-4508eb4ec0db",
      "cell_type": "code",
      "source": "cols = pd.MultiIndex.from_tuples(\n    [(x, y) for x in [\"A\", \"B\", \"C\"] for y in [\"O\", \"I\"]]\n)",
      "metadata": {
        "trusted": true
      },
      "outputs": [],
      "execution_count": 51
    },
    {
      "id": "17d2ffc3-1e8f-4f79-8855-8e0275e6a552",
      "cell_type": "code",
      "source": "df = pd.DataFrame(np.random.randn(2, 6), index=[\"n\", \"m\"], columns=cols)\n",
      "metadata": {
        "trusted": true
      },
      "outputs": [],
      "execution_count": 52
    },
    {
      "id": "3471e9f0-db18-43ee-9c5e-e38911ec4be7",
      "cell_type": "code",
      "source": "df",
      "metadata": {
        "trusted": true
      },
      "outputs": [
        {
          "execution_count": 53,
          "output_type": "execute_result",
          "data": {
            "text/plain": "          A                   B                   C          \n          O         I         O         I         O         I\nn  1.230345 -0.604644 -0.537250 -0.991240 -0.970963  2.036088\nm -2.685140  0.975071 -0.168943 -1.028383 -0.873811 -0.596048",
            "text/html": "<div>\n<style scoped>\n    .dataframe tbody tr th:only-of-type {\n        vertical-align: middle;\n    }\n\n    .dataframe tbody tr th {\n        vertical-align: top;\n    }\n\n    .dataframe thead tr th {\n        text-align: left;\n    }\n</style>\n<table border=\"1\" class=\"dataframe\">\n  <thead>\n    <tr>\n      <th></th>\n      <th colspan=\"2\" halign=\"left\">A</th>\n      <th colspan=\"2\" halign=\"left\">B</th>\n      <th colspan=\"2\" halign=\"left\">C</th>\n    </tr>\n    <tr>\n      <th></th>\n      <th>O</th>\n      <th>I</th>\n      <th>O</th>\n      <th>I</th>\n      <th>O</th>\n      <th>I</th>\n    </tr>\n  </thead>\n  <tbody>\n    <tr>\n      <th>n</th>\n      <td>1.230345</td>\n      <td>-0.604644</td>\n      <td>-0.537250</td>\n      <td>-0.991240</td>\n      <td>-0.970963</td>\n      <td>2.036088</td>\n    </tr>\n    <tr>\n      <th>m</th>\n      <td>-2.685140</td>\n      <td>0.975071</td>\n      <td>-0.168943</td>\n      <td>-1.028383</td>\n      <td>-0.873811</td>\n      <td>-0.596048</td>\n    </tr>\n  </tbody>\n</table>\n</div>"
          },
          "metadata": {}
        }
      ],
      "execution_count": 53
    },
    {
      "id": "ce58846b-4c8e-4b3f-ab89-cc984a8effe1",
      "cell_type": "code",
      "source": "df = df.div(df[\"C\"], level=1)\n\ndf",
      "metadata": {
        "trusted": true
      },
      "outputs": [
        {
          "execution_count": 54,
          "output_type": "execute_result",
          "data": {
            "text/plain": "          A                   B              C     \n          O         I         O         I    O    I\nn -1.267139 -0.296964  0.553316 -0.486836  1.0  1.0\nm  3.072907 -1.635893  0.193340  1.725335  1.0  1.0",
            "text/html": "<div>\n<style scoped>\n    .dataframe tbody tr th:only-of-type {\n        vertical-align: middle;\n    }\n\n    .dataframe tbody tr th {\n        vertical-align: top;\n    }\n\n    .dataframe thead tr th {\n        text-align: left;\n    }\n</style>\n<table border=\"1\" class=\"dataframe\">\n  <thead>\n    <tr>\n      <th></th>\n      <th colspan=\"2\" halign=\"left\">A</th>\n      <th colspan=\"2\" halign=\"left\">B</th>\n      <th colspan=\"2\" halign=\"left\">C</th>\n    </tr>\n    <tr>\n      <th></th>\n      <th>O</th>\n      <th>I</th>\n      <th>O</th>\n      <th>I</th>\n      <th>O</th>\n      <th>I</th>\n    </tr>\n  </thead>\n  <tbody>\n    <tr>\n      <th>n</th>\n      <td>-1.267139</td>\n      <td>-0.296964</td>\n      <td>0.553316</td>\n      <td>-0.486836</td>\n      <td>1.0</td>\n      <td>1.0</td>\n    </tr>\n    <tr>\n      <th>m</th>\n      <td>3.072907</td>\n      <td>-1.635893</td>\n      <td>0.193340</td>\n      <td>1.725335</td>\n      <td>1.0</td>\n      <td>1.0</td>\n    </tr>\n  </tbody>\n</table>\n</div>"
          },
          "metadata": {}
        }
      ],
      "execution_count": 54
    },
    {
      "id": "f1291fb4-2d3f-4aee-9c72-cf25822cb956",
      "cell_type": "code",
      "source": "coords = [(\"AA\", \"one\"), (\"AA\", \"six\"), (\"BB\", \"one\"), (\"BB\", \"two\"), (\"BB\", \"six\")]\n",
      "metadata": {
        "trusted": true
      },
      "outputs": [],
      "execution_count": 55
    },
    {
      "id": "f6a1064d-f71e-41a2-a985-0e8e262b7dca",
      "cell_type": "code",
      "source": "index = pd.MultiIndex.from_tuples(coords)\n",
      "metadata": {
        "trusted": true
      },
      "outputs": [],
      "execution_count": 56
    },
    {
      "id": "443de1e2-ba83-485f-a48c-985149f13094",
      "cell_type": "code",
      "source": "df = pd.DataFrame([11, 22, 33, 44, 55], index, [\"MyData\"])\n\ndf",
      "metadata": {
        "trusted": true
      },
      "outputs": [
        {
          "execution_count": 57,
          "output_type": "execute_result",
          "data": {
            "text/plain": "        MyData\nAA one      11\n   six      22\nBB one      33\n   two      44\n   six      55",
            "text/html": "<div>\n<style scoped>\n    .dataframe tbody tr th:only-of-type {\n        vertical-align: middle;\n    }\n\n    .dataframe tbody tr th {\n        vertical-align: top;\n    }\n\n    .dataframe thead th {\n        text-align: right;\n    }\n</style>\n<table border=\"1\" class=\"dataframe\">\n  <thead>\n    <tr style=\"text-align: right;\">\n      <th></th>\n      <th></th>\n      <th>MyData</th>\n    </tr>\n  </thead>\n  <tbody>\n    <tr>\n      <th rowspan=\"2\" valign=\"top\">AA</th>\n      <th>one</th>\n      <td>11</td>\n    </tr>\n    <tr>\n      <th>six</th>\n      <td>22</td>\n    </tr>\n    <tr>\n      <th rowspan=\"3\" valign=\"top\">BB</th>\n      <th>one</th>\n      <td>33</td>\n    </tr>\n    <tr>\n      <th>two</th>\n      <td>44</td>\n    </tr>\n    <tr>\n      <th>six</th>\n      <td>55</td>\n    </tr>\n  </tbody>\n</table>\n</div>"
          },
          "metadata": {}
        }
      ],
      "execution_count": 57
    },
    {
      "id": "d1ecbefd-aa18-4b1c-8553-3ee31cf84279",
      "cell_type": "code",
      "source": "df.xs(\"BB\", level=0, axis=0)\n",
      "metadata": {
        "trusted": true
      },
      "outputs": [
        {
          "execution_count": 58,
          "output_type": "execute_result",
          "data": {
            "text/plain": "     MyData\none      33\ntwo      44\nsix      55",
            "text/html": "<div>\n<style scoped>\n    .dataframe tbody tr th:only-of-type {\n        vertical-align: middle;\n    }\n\n    .dataframe tbody tr th {\n        vertical-align: top;\n    }\n\n    .dataframe thead th {\n        text-align: right;\n    }\n</style>\n<table border=\"1\" class=\"dataframe\">\n  <thead>\n    <tr style=\"text-align: right;\">\n      <th></th>\n      <th>MyData</th>\n    </tr>\n  </thead>\n  <tbody>\n    <tr>\n      <th>one</th>\n      <td>33</td>\n    </tr>\n    <tr>\n      <th>two</th>\n      <td>44</td>\n    </tr>\n    <tr>\n      <th>six</th>\n      <td>55</td>\n    </tr>\n  </tbody>\n</table>\n</div>"
          },
          "metadata": {}
        }
      ],
      "execution_count": 58
    },
    {
      "id": "94814c5c-5af5-41c0-a5eb-294832e82c36",
      "cell_type": "code",
      "source": "df.xs(\"six\", level=1, axis=0)\n",
      "metadata": {
        "trusted": true
      },
      "outputs": [
        {
          "execution_count": 59,
          "output_type": "execute_result",
          "data": {
            "text/plain": "    MyData\nAA      22\nBB      55",
            "text/html": "<div>\n<style scoped>\n    .dataframe tbody tr th:only-of-type {\n        vertical-align: middle;\n    }\n\n    .dataframe tbody tr th {\n        vertical-align: top;\n    }\n\n    .dataframe thead th {\n        text-align: right;\n    }\n</style>\n<table border=\"1\" class=\"dataframe\">\n  <thead>\n    <tr style=\"text-align: right;\">\n      <th></th>\n      <th>MyData</th>\n    </tr>\n  </thead>\n  <tbody>\n    <tr>\n      <th>AA</th>\n      <td>22</td>\n    </tr>\n    <tr>\n      <th>BB</th>\n      <td>55</td>\n    </tr>\n  </tbody>\n</table>\n</div>"
          },
          "metadata": {}
        }
      ],
      "execution_count": 59
    },
    {
      "id": "8499bcff-6bcf-4532-a787-540fa757578e",
      "cell_type": "code",
      "source": "import itertools\n",
      "metadata": {
        "trusted": true
      },
      "outputs": [],
      "execution_count": 60
    },
    {
      "id": "2b6b2c21-315c-4a76-855f-7f23795d6cf0",
      "cell_type": "code",
      "source": "index = list(itertools.product([\"Ada\", \"Quinn\", \"Violet\"], [\"Comp\", \"Math\", \"Sci\"]))\n\nheadr = list(itertools.product([\"Exams\", \"Labs\"], [\"I\", \"II\"]))\n\nindx = pd.MultiIndex.from_tuples(index, names=[\"Student\", \"Course\"])\n\ncols = pd.MultiIndex.from_tuples(headr)  # Notice these are un-named\n\ndata = [[70 + x + y + (x * y) % 3 for x in range(4)] for y in range(9)]\n\ndf = pd.DataFrame(data, indx, cols)\n\ndf\n",
      "metadata": {
        "trusted": true
      },
      "outputs": [
        {
          "execution_count": 61,
          "output_type": "execute_result",
          "data": {
            "text/plain": "               Exams     Labs    \n                   I  II    I  II\nStudent Course                   \nAda     Comp      70  71   72  73\n        Math      71  73   75  74\n        Sci       72  75   75  75\nQuinn   Comp      73  74   75  76\n        Math      74  76   78  77\n        Sci       75  78   78  78\nViolet  Comp      76  77   78  79\n        Math      77  79   81  80\n        Sci       78  81   81  81",
            "text/html": "<div>\n<style scoped>\n    .dataframe tbody tr th:only-of-type {\n        vertical-align: middle;\n    }\n\n    .dataframe tbody tr th {\n        vertical-align: top;\n    }\n\n    .dataframe thead tr th {\n        text-align: left;\n    }\n\n    .dataframe thead tr:last-of-type th {\n        text-align: right;\n    }\n</style>\n<table border=\"1\" class=\"dataframe\">\n  <thead>\n    <tr>\n      <th></th>\n      <th></th>\n      <th colspan=\"2\" halign=\"left\">Exams</th>\n      <th colspan=\"2\" halign=\"left\">Labs</th>\n    </tr>\n    <tr>\n      <th></th>\n      <th></th>\n      <th>I</th>\n      <th>II</th>\n      <th>I</th>\n      <th>II</th>\n    </tr>\n    <tr>\n      <th>Student</th>\n      <th>Course</th>\n      <th></th>\n      <th></th>\n      <th></th>\n      <th></th>\n    </tr>\n  </thead>\n  <tbody>\n    <tr>\n      <th rowspan=\"3\" valign=\"top\">Ada</th>\n      <th>Comp</th>\n      <td>70</td>\n      <td>71</td>\n      <td>72</td>\n      <td>73</td>\n    </tr>\n    <tr>\n      <th>Math</th>\n      <td>71</td>\n      <td>73</td>\n      <td>75</td>\n      <td>74</td>\n    </tr>\n    <tr>\n      <th>Sci</th>\n      <td>72</td>\n      <td>75</td>\n      <td>75</td>\n      <td>75</td>\n    </tr>\n    <tr>\n      <th rowspan=\"3\" valign=\"top\">Quinn</th>\n      <th>Comp</th>\n      <td>73</td>\n      <td>74</td>\n      <td>75</td>\n      <td>76</td>\n    </tr>\n    <tr>\n      <th>Math</th>\n      <td>74</td>\n      <td>76</td>\n      <td>78</td>\n      <td>77</td>\n    </tr>\n    <tr>\n      <th>Sci</th>\n      <td>75</td>\n      <td>78</td>\n      <td>78</td>\n      <td>78</td>\n    </tr>\n    <tr>\n      <th rowspan=\"3\" valign=\"top\">Violet</th>\n      <th>Comp</th>\n      <td>76</td>\n      <td>77</td>\n      <td>78</td>\n      <td>79</td>\n    </tr>\n    <tr>\n      <th>Math</th>\n      <td>77</td>\n      <td>79</td>\n      <td>81</td>\n      <td>80</td>\n    </tr>\n    <tr>\n      <th>Sci</th>\n      <td>78</td>\n      <td>81</td>\n      <td>81</td>\n      <td>81</td>\n    </tr>\n  </tbody>\n</table>\n</div>"
          },
          "metadata": {}
        }
      ],
      "execution_count": 61
    },
    {
      "id": "1a257815-3602-48d3-b5f1-5f01a1dff216",
      "cell_type": "code",
      "source": "All = slice(None)\n",
      "metadata": {
        "trusted": true
      },
      "outputs": [],
      "execution_count": 62
    },
    {
      "id": "b658a06d-5270-4d22-a333-e5e5f188b117",
      "cell_type": "code",
      "source": "df.loc[\"Violet\"]\n",
      "metadata": {
        "trusted": true
      },
      "outputs": [
        {
          "execution_count": 63,
          "output_type": "execute_result",
          "data": {
            "text/plain": "       Exams     Labs    \n           I  II    I  II\nCourse                   \nComp      76  77   78  79\nMath      77  79   81  80\nSci       78  81   81  81",
            "text/html": "<div>\n<style scoped>\n    .dataframe tbody tr th:only-of-type {\n        vertical-align: middle;\n    }\n\n    .dataframe tbody tr th {\n        vertical-align: top;\n    }\n\n    .dataframe thead tr th {\n        text-align: left;\n    }\n\n    .dataframe thead tr:last-of-type th {\n        text-align: right;\n    }\n</style>\n<table border=\"1\" class=\"dataframe\">\n  <thead>\n    <tr>\n      <th></th>\n      <th colspan=\"2\" halign=\"left\">Exams</th>\n      <th colspan=\"2\" halign=\"left\">Labs</th>\n    </tr>\n    <tr>\n      <th></th>\n      <th>I</th>\n      <th>II</th>\n      <th>I</th>\n      <th>II</th>\n    </tr>\n    <tr>\n      <th>Course</th>\n      <th></th>\n      <th></th>\n      <th></th>\n      <th></th>\n    </tr>\n  </thead>\n  <tbody>\n    <tr>\n      <th>Comp</th>\n      <td>76</td>\n      <td>77</td>\n      <td>78</td>\n      <td>79</td>\n    </tr>\n    <tr>\n      <th>Math</th>\n      <td>77</td>\n      <td>79</td>\n      <td>81</td>\n      <td>80</td>\n    </tr>\n    <tr>\n      <th>Sci</th>\n      <td>78</td>\n      <td>81</td>\n      <td>81</td>\n      <td>81</td>\n    </tr>\n  </tbody>\n</table>\n</div>"
          },
          "metadata": {}
        }
      ],
      "execution_count": 63
    },
    {
      "id": "8b460861-793c-4d51-a685-fc43131d3524",
      "cell_type": "code",
      "source": "df.loc[(All, \"Math\"), All]\n",
      "metadata": {
        "trusted": true
      },
      "outputs": [
        {
          "execution_count": 64,
          "output_type": "execute_result",
          "data": {
            "text/plain": "               Exams     Labs    \n                   I  II    I  II\nStudent Course                   \nAda     Math      71  73   75  74\nQuinn   Math      74  76   78  77\nViolet  Math      77  79   81  80",
            "text/html": "<div>\n<style scoped>\n    .dataframe tbody tr th:only-of-type {\n        vertical-align: middle;\n    }\n\n    .dataframe tbody tr th {\n        vertical-align: top;\n    }\n\n    .dataframe thead tr th {\n        text-align: left;\n    }\n\n    .dataframe thead tr:last-of-type th {\n        text-align: right;\n    }\n</style>\n<table border=\"1\" class=\"dataframe\">\n  <thead>\n    <tr>\n      <th></th>\n      <th></th>\n      <th colspan=\"2\" halign=\"left\">Exams</th>\n      <th colspan=\"2\" halign=\"left\">Labs</th>\n    </tr>\n    <tr>\n      <th></th>\n      <th></th>\n      <th>I</th>\n      <th>II</th>\n      <th>I</th>\n      <th>II</th>\n    </tr>\n    <tr>\n      <th>Student</th>\n      <th>Course</th>\n      <th></th>\n      <th></th>\n      <th></th>\n      <th></th>\n    </tr>\n  </thead>\n  <tbody>\n    <tr>\n      <th>Ada</th>\n      <th>Math</th>\n      <td>71</td>\n      <td>73</td>\n      <td>75</td>\n      <td>74</td>\n    </tr>\n    <tr>\n      <th>Quinn</th>\n      <th>Math</th>\n      <td>74</td>\n      <td>76</td>\n      <td>78</td>\n      <td>77</td>\n    </tr>\n    <tr>\n      <th>Violet</th>\n      <th>Math</th>\n      <td>77</td>\n      <td>79</td>\n      <td>81</td>\n      <td>80</td>\n    </tr>\n  </tbody>\n</table>\n</div>"
          },
          "metadata": {}
        }
      ],
      "execution_count": 64
    },
    {
      "id": "9d5de64e-887a-467e-a93b-a747978141a3",
      "cell_type": "code",
      "source": "df.loc[(slice(\"Ada\", \"Quinn\"), \"Math\"), All]\n",
      "metadata": {
        "trusted": true
      },
      "outputs": [
        {
          "execution_count": 65,
          "output_type": "execute_result",
          "data": {
            "text/plain": "               Exams     Labs    \n                   I  II    I  II\nStudent Course                   \nAda     Math      71  73   75  74\nQuinn   Math      74  76   78  77",
            "text/html": "<div>\n<style scoped>\n    .dataframe tbody tr th:only-of-type {\n        vertical-align: middle;\n    }\n\n    .dataframe tbody tr th {\n        vertical-align: top;\n    }\n\n    .dataframe thead tr th {\n        text-align: left;\n    }\n\n    .dataframe thead tr:last-of-type th {\n        text-align: right;\n    }\n</style>\n<table border=\"1\" class=\"dataframe\">\n  <thead>\n    <tr>\n      <th></th>\n      <th></th>\n      <th colspan=\"2\" halign=\"left\">Exams</th>\n      <th colspan=\"2\" halign=\"left\">Labs</th>\n    </tr>\n    <tr>\n      <th></th>\n      <th></th>\n      <th>I</th>\n      <th>II</th>\n      <th>I</th>\n      <th>II</th>\n    </tr>\n    <tr>\n      <th>Student</th>\n      <th>Course</th>\n      <th></th>\n      <th></th>\n      <th></th>\n      <th></th>\n    </tr>\n  </thead>\n  <tbody>\n    <tr>\n      <th>Ada</th>\n      <th>Math</th>\n      <td>71</td>\n      <td>73</td>\n      <td>75</td>\n      <td>74</td>\n    </tr>\n    <tr>\n      <th>Quinn</th>\n      <th>Math</th>\n      <td>74</td>\n      <td>76</td>\n      <td>78</td>\n      <td>77</td>\n    </tr>\n  </tbody>\n</table>\n</div>"
          },
          "metadata": {}
        }
      ],
      "execution_count": 65
    },
    {
      "id": "b721d4c9-0b80-416c-91c5-6b3492788304",
      "cell_type": "code",
      "source": "df.loc[(All, \"Math\"), (\"Exams\")]\n",
      "metadata": {
        "trusted": true
      },
      "outputs": [
        {
          "execution_count": 66,
          "output_type": "execute_result",
          "data": {
            "text/plain": "                 I  II\nStudent Course        \nAda     Math    71  73\nQuinn   Math    74  76\nViolet  Math    77  79",
            "text/html": "<div>\n<style scoped>\n    .dataframe tbody tr th:only-of-type {\n        vertical-align: middle;\n    }\n\n    .dataframe tbody tr th {\n        vertical-align: top;\n    }\n\n    .dataframe thead th {\n        text-align: right;\n    }\n</style>\n<table border=\"1\" class=\"dataframe\">\n  <thead>\n    <tr style=\"text-align: right;\">\n      <th></th>\n      <th></th>\n      <th>I</th>\n      <th>II</th>\n    </tr>\n    <tr>\n      <th>Student</th>\n      <th>Course</th>\n      <th></th>\n      <th></th>\n    </tr>\n  </thead>\n  <tbody>\n    <tr>\n      <th>Ada</th>\n      <th>Math</th>\n      <td>71</td>\n      <td>73</td>\n    </tr>\n    <tr>\n      <th>Quinn</th>\n      <th>Math</th>\n      <td>74</td>\n      <td>76</td>\n    </tr>\n    <tr>\n      <th>Violet</th>\n      <th>Math</th>\n      <td>77</td>\n      <td>79</td>\n    </tr>\n  </tbody>\n</table>\n</div>"
          },
          "metadata": {}
        }
      ],
      "execution_count": 66
    },
    {
      "id": "d38af77d-e470-4f38-8cf7-30c4ee5f6e30",
      "cell_type": "code",
      "source": "df.loc[(All, \"Math\"), (All, \"II\")]\n",
      "metadata": {
        "trusted": true
      },
      "outputs": [
        {
          "execution_count": 67,
          "output_type": "execute_result",
          "data": {
            "text/plain": "               Exams Labs\n                  II   II\nStudent Course           \nAda     Math      73   74\nQuinn   Math      76   77\nViolet  Math      79   80",
            "text/html": "<div>\n<style scoped>\n    .dataframe tbody tr th:only-of-type {\n        vertical-align: middle;\n    }\n\n    .dataframe tbody tr th {\n        vertical-align: top;\n    }\n\n    .dataframe thead tr th {\n        text-align: left;\n    }\n\n    .dataframe thead tr:last-of-type th {\n        text-align: right;\n    }\n</style>\n<table border=\"1\" class=\"dataframe\">\n  <thead>\n    <tr>\n      <th></th>\n      <th></th>\n      <th>Exams</th>\n      <th>Labs</th>\n    </tr>\n    <tr>\n      <th></th>\n      <th></th>\n      <th>II</th>\n      <th>II</th>\n    </tr>\n    <tr>\n      <th>Student</th>\n      <th>Course</th>\n      <th></th>\n      <th></th>\n    </tr>\n  </thead>\n  <tbody>\n    <tr>\n      <th>Ada</th>\n      <th>Math</th>\n      <td>73</td>\n      <td>74</td>\n    </tr>\n    <tr>\n      <th>Quinn</th>\n      <th>Math</th>\n      <td>76</td>\n      <td>77</td>\n    </tr>\n    <tr>\n      <th>Violet</th>\n      <th>Math</th>\n      <td>79</td>\n      <td>80</td>\n    </tr>\n  </tbody>\n</table>\n</div>"
          },
          "metadata": {}
        }
      ],
      "execution_count": 67
    },
    {
      "id": "593e45c2-4266-400d-8cbd-31cb5760c300",
      "cell_type": "code",
      "source": "df.sort_values(by=(\"Labs\", \"II\"), ascending=False)\n",
      "metadata": {
        "trusted": true
      },
      "outputs": [
        {
          "execution_count": 68,
          "output_type": "execute_result",
          "data": {
            "text/plain": "               Exams     Labs    \n                   I  II    I  II\nStudent Course                   \nViolet  Sci       78  81   81  81\n        Math      77  79   81  80\n        Comp      76  77   78  79\nQuinn   Sci       75  78   78  78\n        Math      74  76   78  77\n        Comp      73  74   75  76\nAda     Sci       72  75   75  75\n        Math      71  73   75  74\n        Comp      70  71   72  73",
            "text/html": "<div>\n<style scoped>\n    .dataframe tbody tr th:only-of-type {\n        vertical-align: middle;\n    }\n\n    .dataframe tbody tr th {\n        vertical-align: top;\n    }\n\n    .dataframe thead tr th {\n        text-align: left;\n    }\n\n    .dataframe thead tr:last-of-type th {\n        text-align: right;\n    }\n</style>\n<table border=\"1\" class=\"dataframe\">\n  <thead>\n    <tr>\n      <th></th>\n      <th></th>\n      <th colspan=\"2\" halign=\"left\">Exams</th>\n      <th colspan=\"2\" halign=\"left\">Labs</th>\n    </tr>\n    <tr>\n      <th></th>\n      <th></th>\n      <th>I</th>\n      <th>II</th>\n      <th>I</th>\n      <th>II</th>\n    </tr>\n    <tr>\n      <th>Student</th>\n      <th>Course</th>\n      <th></th>\n      <th></th>\n      <th></th>\n      <th></th>\n    </tr>\n  </thead>\n  <tbody>\n    <tr>\n      <th rowspan=\"3\" valign=\"top\">Violet</th>\n      <th>Sci</th>\n      <td>78</td>\n      <td>81</td>\n      <td>81</td>\n      <td>81</td>\n    </tr>\n    <tr>\n      <th>Math</th>\n      <td>77</td>\n      <td>79</td>\n      <td>81</td>\n      <td>80</td>\n    </tr>\n    <tr>\n      <th>Comp</th>\n      <td>76</td>\n      <td>77</td>\n      <td>78</td>\n      <td>79</td>\n    </tr>\n    <tr>\n      <th rowspan=\"3\" valign=\"top\">Quinn</th>\n      <th>Sci</th>\n      <td>75</td>\n      <td>78</td>\n      <td>78</td>\n      <td>78</td>\n    </tr>\n    <tr>\n      <th>Math</th>\n      <td>74</td>\n      <td>76</td>\n      <td>78</td>\n      <td>77</td>\n    </tr>\n    <tr>\n      <th>Comp</th>\n      <td>73</td>\n      <td>74</td>\n      <td>75</td>\n      <td>76</td>\n    </tr>\n    <tr>\n      <th rowspan=\"3\" valign=\"top\">Ada</th>\n      <th>Sci</th>\n      <td>72</td>\n      <td>75</td>\n      <td>75</td>\n      <td>75</td>\n    </tr>\n    <tr>\n      <th>Math</th>\n      <td>71</td>\n      <td>73</td>\n      <td>75</td>\n      <td>74</td>\n    </tr>\n    <tr>\n      <th>Comp</th>\n      <td>70</td>\n      <td>71</td>\n      <td>72</td>\n      <td>73</td>\n    </tr>\n  </tbody>\n</table>\n</div>"
          },
          "metadata": {}
        }
      ],
      "execution_count": 68
    },
    {
      "id": "890731f5-a15b-435d-afd7-e98cbaed78fd",
      "cell_type": "code",
      "source": "df = pd.DataFrame(\n    np.random.randn(6, 1),\n    index=pd.date_range(\"2013-08-01\", periods=6, freq=\"B\"),\n    columns=list(\"A\"),\n)\n",
      "metadata": {
        "trusted": true
      },
      "outputs": [],
      "execution_count": 69
    },
    {
      "id": "3f62a060-328b-4cfb-81c1-077fcbf79234",
      "cell_type": "code",
      "source": "df.loc[df.index[3], \"A\"] = np.nan\n",
      "metadata": {
        "trusted": true
      },
      "outputs": [],
      "execution_count": 70
    },
    {
      "id": "e91f86b9-f46c-4e56-adac-1a9aa069ed63",
      "cell_type": "code",
      "source": "df",
      "metadata": {
        "trusted": true
      },
      "outputs": [
        {
          "execution_count": 71,
          "output_type": "execute_result",
          "data": {
            "text/plain": "                   A\n2013-08-01  0.530973\n2013-08-02  1.090145\n2013-08-05  0.634828\n2013-08-06       NaN\n2013-08-07 -0.669951\n2013-08-08 -0.406344",
            "text/html": "<div>\n<style scoped>\n    .dataframe tbody tr th:only-of-type {\n        vertical-align: middle;\n    }\n\n    .dataframe tbody tr th {\n        vertical-align: top;\n    }\n\n    .dataframe thead th {\n        text-align: right;\n    }\n</style>\n<table border=\"1\" class=\"dataframe\">\n  <thead>\n    <tr style=\"text-align: right;\">\n      <th></th>\n      <th>A</th>\n    </tr>\n  </thead>\n  <tbody>\n    <tr>\n      <th>2013-08-01</th>\n      <td>0.530973</td>\n    </tr>\n    <tr>\n      <th>2013-08-02</th>\n      <td>1.090145</td>\n    </tr>\n    <tr>\n      <th>2013-08-05</th>\n      <td>0.634828</td>\n    </tr>\n    <tr>\n      <th>2013-08-06</th>\n      <td>NaN</td>\n    </tr>\n    <tr>\n      <th>2013-08-07</th>\n      <td>-0.669951</td>\n    </tr>\n    <tr>\n      <th>2013-08-08</th>\n      <td>-0.406344</td>\n    </tr>\n  </tbody>\n</table>\n</div>"
          },
          "metadata": {}
        }
      ],
      "execution_count": 71
    },
    {
      "id": "7eaba0f4-379f-401b-840e-c656290e7a09",
      "cell_type": "code",
      "source": "df.bfill()\n",
      "metadata": {
        "trusted": true
      },
      "outputs": [
        {
          "execution_count": 72,
          "output_type": "execute_result",
          "data": {
            "text/plain": "                   A\n2013-08-01  0.530973\n2013-08-02  1.090145\n2013-08-05  0.634828\n2013-08-06 -0.669951\n2013-08-07 -0.669951\n2013-08-08 -0.406344",
            "text/html": "<div>\n<style scoped>\n    .dataframe tbody tr th:only-of-type {\n        vertical-align: middle;\n    }\n\n    .dataframe tbody tr th {\n        vertical-align: top;\n    }\n\n    .dataframe thead th {\n        text-align: right;\n    }\n</style>\n<table border=\"1\" class=\"dataframe\">\n  <thead>\n    <tr style=\"text-align: right;\">\n      <th></th>\n      <th>A</th>\n    </tr>\n  </thead>\n  <tbody>\n    <tr>\n      <th>2013-08-01</th>\n      <td>0.530973</td>\n    </tr>\n    <tr>\n      <th>2013-08-02</th>\n      <td>1.090145</td>\n    </tr>\n    <tr>\n      <th>2013-08-05</th>\n      <td>0.634828</td>\n    </tr>\n    <tr>\n      <th>2013-08-06</th>\n      <td>-0.669951</td>\n    </tr>\n    <tr>\n      <th>2013-08-07</th>\n      <td>-0.669951</td>\n    </tr>\n    <tr>\n      <th>2013-08-08</th>\n      <td>-0.406344</td>\n    </tr>\n  </tbody>\n</table>\n</div>"
          },
          "metadata": {}
        }
      ],
      "execution_count": 72
    },
    {
      "id": "0ef425d6-39d0-406d-a3e4-e38016f52ef0",
      "cell_type": "code",
      "source": "df = pd.DataFrame(\n    {\n        \"animal\": \"cat dog cat fish dog cat cat\".split(),\n        \"size\": list(\"SSMMMLL\"),\n        \"weight\": [8, 10, 11, 1, 20, 12, 12],\n        \"adult\": [False] * 5 + [True] * 2,\n    }\n)\n\ndf",
      "metadata": {
        "trusted": true
      },
      "outputs": [
        {
          "execution_count": 73,
          "output_type": "execute_result",
          "data": {
            "text/plain": "  animal size  weight  adult\n0    cat    S       8  False\n1    dog    S      10  False\n2    cat    M      11  False\n3   fish    M       1  False\n4    dog    M      20  False\n5    cat    L      12   True\n6    cat    L      12   True",
            "text/html": "<div>\n<style scoped>\n    .dataframe tbody tr th:only-of-type {\n        vertical-align: middle;\n    }\n\n    .dataframe tbody tr th {\n        vertical-align: top;\n    }\n\n    .dataframe thead th {\n        text-align: right;\n    }\n</style>\n<table border=\"1\" class=\"dataframe\">\n  <thead>\n    <tr style=\"text-align: right;\">\n      <th></th>\n      <th>animal</th>\n      <th>size</th>\n      <th>weight</th>\n      <th>adult</th>\n    </tr>\n  </thead>\n  <tbody>\n    <tr>\n      <th>0</th>\n      <td>cat</td>\n      <td>S</td>\n      <td>8</td>\n      <td>False</td>\n    </tr>\n    <tr>\n      <th>1</th>\n      <td>dog</td>\n      <td>S</td>\n      <td>10</td>\n      <td>False</td>\n    </tr>\n    <tr>\n      <th>2</th>\n      <td>cat</td>\n      <td>M</td>\n      <td>11</td>\n      <td>False</td>\n    </tr>\n    <tr>\n      <th>3</th>\n      <td>fish</td>\n      <td>M</td>\n      <td>1</td>\n      <td>False</td>\n    </tr>\n    <tr>\n      <th>4</th>\n      <td>dog</td>\n      <td>M</td>\n      <td>20</td>\n      <td>False</td>\n    </tr>\n    <tr>\n      <th>5</th>\n      <td>cat</td>\n      <td>L</td>\n      <td>12</td>\n      <td>True</td>\n    </tr>\n    <tr>\n      <th>6</th>\n      <td>cat</td>\n      <td>L</td>\n      <td>12</td>\n      <td>True</td>\n    </tr>\n  </tbody>\n</table>\n</div>"
          },
          "metadata": {}
        }
      ],
      "execution_count": 73
    },
    {
      "id": "f628d168-deb2-42e2-9977-3fe49cfc4ff5",
      "cell_type": "code",
      "source": "gb = df.groupby(\"animal\")\n",
      "metadata": {
        "trusted": true
      },
      "outputs": [],
      "execution_count": 75
    },
    {
      "id": "1fb58c22-58ea-4b02-ba59-68193f117dd6",
      "cell_type": "code",
      "source": "gb.get_group(\"cat\")\n",
      "metadata": {
        "trusted": true
      },
      "outputs": [
        {
          "execution_count": 76,
          "output_type": "execute_result",
          "data": {
            "text/plain": "  animal size  weight  adult\n0    cat    S       8  False\n2    cat    M      11  False\n5    cat    L      12   True\n6    cat    L      12   True",
            "text/html": "<div>\n<style scoped>\n    .dataframe tbody tr th:only-of-type {\n        vertical-align: middle;\n    }\n\n    .dataframe tbody tr th {\n        vertical-align: top;\n    }\n\n    .dataframe thead th {\n        text-align: right;\n    }\n</style>\n<table border=\"1\" class=\"dataframe\">\n  <thead>\n    <tr style=\"text-align: right;\">\n      <th></th>\n      <th>animal</th>\n      <th>size</th>\n      <th>weight</th>\n      <th>adult</th>\n    </tr>\n  </thead>\n  <tbody>\n    <tr>\n      <th>0</th>\n      <td>cat</td>\n      <td>S</td>\n      <td>8</td>\n      <td>False</td>\n    </tr>\n    <tr>\n      <th>2</th>\n      <td>cat</td>\n      <td>M</td>\n      <td>11</td>\n      <td>False</td>\n    </tr>\n    <tr>\n      <th>5</th>\n      <td>cat</td>\n      <td>L</td>\n      <td>12</td>\n      <td>True</td>\n    </tr>\n    <tr>\n      <th>6</th>\n      <td>cat</td>\n      <td>L</td>\n      <td>12</td>\n      <td>True</td>\n    </tr>\n  </tbody>\n</table>\n</div>"
          },
          "metadata": {}
        }
      ],
      "execution_count": 76
    },
    {
      "id": "7d27de53-a1ad-4986-aa9c-21d18920da1e",
      "cell_type": "code",
      "source": "def GrowUp(x):\n    avg_weight = sum(x[x[\"size\"] == \"S\"].weight * 1.5)\n    avg_weight += sum(x[x[\"size\"] == \"M\"].weight * 1.25)\n    avg_weight += sum(x[x[\"size\"] == \"L\"].weight)\n    avg_weight /= len(x)\n    return pd.Series([\"L\", avg_weight, True], index=[\"size\", \"weight\", \"adult\"])\n",
      "metadata": {
        "trusted": true
      },
      "outputs": [],
      "execution_count": 77
    },
    {
      "id": "e5fadacc-0949-473f-9556-e42b66a6610a",
      "cell_type": "code",
      "source": "S = pd.Series([i / 100.0 for i in range(1, 11)])\n",
      "metadata": {
        "trusted": true
      },
      "outputs": [],
      "execution_count": 81
    },
    {
      "id": "66526ed1-cc77-42e1-a105-31fbe3bb35e5",
      "cell_type": "code",
      "source": "def cum_ret(x, y):\n    return x * (1 + y)\n",
      "metadata": {
        "trusted": true
      },
      "outputs": [],
      "execution_count": 82
    },
    {
      "id": "b1ef1816-f28b-4f68-8c4d-5277f7dd5e61",
      "cell_type": "code",
      "source": "def red(x):\n    return functools.reduce(cum_ret, x, 1.0)\n",
      "metadata": {
        "trusted": true
      },
      "outputs": [],
      "execution_count": 83
    },
    {
      "id": "adc1031e-8ad5-4db9-9965-ddf093fd38e4",
      "cell_type": "code",
      "source": "S.expanding().apply(red, raw=True)\n",
      "metadata": {
        "trusted": true
      },
      "outputs": [
        {
          "execution_count": 84,
          "output_type": "execute_result",
          "data": {
            "text/plain": "0    1.010000\n1    1.030200\n2    1.061106\n3    1.103550\n4    1.158728\n5    1.228251\n6    1.314229\n7    1.419367\n8    1.547110\n9    1.701821\ndtype: float64"
          },
          "metadata": {}
        }
      ],
      "execution_count": 84
    },
    {
      "id": "d96cf102-85f2-4c02-8474-83ae86ab5b6e",
      "cell_type": "code",
      "source": "df = pd.DataFrame({\"A\": [1, 1, 2, 2], \"B\": [1, -1, 1, 2]})\n",
      "metadata": {
        "trusted": true
      },
      "outputs": [],
      "execution_count": 85
    },
    {
      "id": "f3936126-811d-4430-996f-dd3cde53cdc2",
      "cell_type": "code",
      "source": "gb = df.groupby(\"A\")\n",
      "metadata": {
        "trusted": true
      },
      "outputs": [],
      "execution_count": 86
    },
    {
      "id": "6e1e90e7-253c-489a-9d3a-cbd0080d82f3",
      "cell_type": "code",
      "source": "def replace(g):\n    mask = g < 0\n    return g.where(~mask, g[~mask].mean())\n\n",
      "metadata": {
        "trusted": true
      },
      "outputs": [],
      "execution_count": 87
    },
    {
      "id": "69086ab5-e693-4b48-a302-c97f1de9b7ef",
      "cell_type": "code",
      "source": "gb.transform(replace)\n",
      "metadata": {
        "trusted": true
      },
      "outputs": [
        {
          "execution_count": 88,
          "output_type": "execute_result",
          "data": {
            "text/plain": "   B\n0  1\n1  1\n2  1\n3  2",
            "text/html": "<div>\n<style scoped>\n    .dataframe tbody tr th:only-of-type {\n        vertical-align: middle;\n    }\n\n    .dataframe tbody tr th {\n        vertical-align: top;\n    }\n\n    .dataframe thead th {\n        text-align: right;\n    }\n</style>\n<table border=\"1\" class=\"dataframe\">\n  <thead>\n    <tr style=\"text-align: right;\">\n      <th></th>\n      <th>B</th>\n    </tr>\n  </thead>\n  <tbody>\n    <tr>\n      <th>0</th>\n      <td>1</td>\n    </tr>\n    <tr>\n      <th>1</th>\n      <td>1</td>\n    </tr>\n    <tr>\n      <th>2</th>\n      <td>1</td>\n    </tr>\n    <tr>\n      <th>3</th>\n      <td>2</td>\n    </tr>\n  </tbody>\n</table>\n</div>"
          },
          "metadata": {}
        }
      ],
      "execution_count": 88
    },
    {
      "id": "dfa4e676-a27e-480f-8bc9-0c38350f2414",
      "cell_type": "code",
      "source": "df = pd.DataFrame(\n    {\n        \"code\": [\"foo\", \"bar\", \"baz\"] * 2,\n        \"data\": [0.16, -0.21, 0.33, 0.45, -0.59, 0.62],\n        \"flag\": [False, True] * 3,\n    }\n)",
      "metadata": {
        "trusted": true
      },
      "outputs": [],
      "execution_count": 89
    },
    {
      "id": "cab90fab-b675-480d-b4a5-d37a08385d3e",
      "cell_type": "code",
      "source": "code_groups = df.groupby(\"code\")\n",
      "metadata": {
        "trusted": true
      },
      "outputs": [],
      "execution_count": 90
    },
    {
      "id": "37205c76-dfea-46a6-90bb-7666d3fe90ce",
      "cell_type": "code",
      "source": "agg_n_sort_order = code_groups[[\"data\"]].transform(\"sum\").sort_values(by=\"data\")\n",
      "metadata": {
        "trusted": true
      },
      "outputs": [],
      "execution_count": 91
    },
    {
      "id": "836d968c-689c-4fdb-9de0-dad76603e75e",
      "cell_type": "code",
      "source": "sorted_df = df.loc[agg_n_sort_order.index]\n",
      "metadata": {
        "trusted": true
      },
      "outputs": [],
      "execution_count": 92
    },
    {
      "id": "d524cab0-71e3-45d4-aad3-abd71c56e7db",
      "cell_type": "code",
      "source": "sorted_df",
      "metadata": {
        "trusted": true
      },
      "outputs": [
        {
          "execution_count": 93,
          "output_type": "execute_result",
          "data": {
            "text/plain": "  code  data   flag\n1  bar -0.21   True\n4  bar -0.59  False\n0  foo  0.16  False\n3  foo  0.45   True\n2  baz  0.33  False\n5  baz  0.62   True",
            "text/html": "<div>\n<style scoped>\n    .dataframe tbody tr th:only-of-type {\n        vertical-align: middle;\n    }\n\n    .dataframe tbody tr th {\n        vertical-align: top;\n    }\n\n    .dataframe thead th {\n        text-align: right;\n    }\n</style>\n<table border=\"1\" class=\"dataframe\">\n  <thead>\n    <tr style=\"text-align: right;\">\n      <th></th>\n      <th>code</th>\n      <th>data</th>\n      <th>flag</th>\n    </tr>\n  </thead>\n  <tbody>\n    <tr>\n      <th>1</th>\n      <td>bar</td>\n      <td>-0.21</td>\n      <td>True</td>\n    </tr>\n    <tr>\n      <th>4</th>\n      <td>bar</td>\n      <td>-0.59</td>\n      <td>False</td>\n    </tr>\n    <tr>\n      <th>0</th>\n      <td>foo</td>\n      <td>0.16</td>\n      <td>False</td>\n    </tr>\n    <tr>\n      <th>3</th>\n      <td>foo</td>\n      <td>0.45</td>\n      <td>True</td>\n    </tr>\n    <tr>\n      <th>2</th>\n      <td>baz</td>\n      <td>0.33</td>\n      <td>False</td>\n    </tr>\n    <tr>\n      <th>5</th>\n      <td>baz</td>\n      <td>0.62</td>\n      <td>True</td>\n    </tr>\n  </tbody>\n</table>\n</div>"
          },
          "metadata": {}
        }
      ],
      "execution_count": 93
    },
    {
      "id": "8599c71a-b9e5-4616-8ba4-cf295a6a02af",
      "cell_type": "code",
      "source": "rng = pd.date_range(start=\"2014-10-07\", periods=10, freq=\"2min\")\n",
      "metadata": {
        "trusted": true
      },
      "outputs": [],
      "execution_count": 94
    },
    {
      "id": "de753164-4178-4303-a6b5-48aef971634d",
      "cell_type": "code",
      "source": "ts = pd.Series(data=list(range(10)), index=rng)\n",
      "metadata": {
        "trusted": true
      },
      "outputs": [],
      "execution_count": 95
    },
    {
      "id": "7b8f2ca7-00d3-4b9c-a55e-5331eb73542b",
      "cell_type": "code",
      "source": "def MyCust(x):\n    if len(x) > 2:\n        return x.iloc[1] * 1.234\n    return pd.NaT",
      "metadata": {
        "trusted": true
      },
      "outputs": [],
      "execution_count": 96
    },
    {
      "id": "e322be31-4eb9-43fd-a2e9-2b770c480f47",
      "cell_type": "code",
      "source": "mhc = {\"Mean\": \"mean\", \"Max\": \"max\", \"Custom\": MyCust}\n",
      "metadata": {
        "trusted": true
      },
      "outputs": [],
      "execution_count": 97
    },
    {
      "id": "7c8ccff5-844d-49dc-9ccb-f1cb123aa2c4",
      "cell_type": "code",
      "source": "df = pd.DataFrame(\n    {\"Color\": \"Red Red Red Blue\".split(), \"Value\": [100, 150, 50, 50]}\n)\n",
      "metadata": {
        "trusted": true
      },
      "outputs": [],
      "execution_count": 99
    },
    {
      "id": "e2ded173-b6a0-410a-b507-671f41900b23",
      "cell_type": "code",
      "source": "df",
      "metadata": {
        "trusted": true
      },
      "outputs": [
        {
          "execution_count": 100,
          "output_type": "execute_result",
          "data": {
            "text/plain": "  Color  Value\n0   Red    100\n1   Red    150\n2   Red     50\n3  Blue     50",
            "text/html": "<div>\n<style scoped>\n    .dataframe tbody tr th:only-of-type {\n        vertical-align: middle;\n    }\n\n    .dataframe tbody tr th {\n        vertical-align: top;\n    }\n\n    .dataframe thead th {\n        text-align: right;\n    }\n</style>\n<table border=\"1\" class=\"dataframe\">\n  <thead>\n    <tr style=\"text-align: right;\">\n      <th></th>\n      <th>Color</th>\n      <th>Value</th>\n    </tr>\n  </thead>\n  <tbody>\n    <tr>\n      <th>0</th>\n      <td>Red</td>\n      <td>100</td>\n    </tr>\n    <tr>\n      <th>1</th>\n      <td>Red</td>\n      <td>150</td>\n    </tr>\n    <tr>\n      <th>2</th>\n      <td>Red</td>\n      <td>50</td>\n    </tr>\n    <tr>\n      <th>3</th>\n      <td>Blue</td>\n      <td>50</td>\n    </tr>\n  </tbody>\n</table>\n</div>"
          },
          "metadata": {}
        }
      ],
      "execution_count": 100
    },
    {
      "id": "f5d54594-3bb3-40d5-97ed-62c6ebb61668",
      "cell_type": "code",
      "source": "df[\"Counts\"] = df.groupby([\"Color\"]).transform(len)\n\ndf",
      "metadata": {
        "trusted": true
      },
      "outputs": [
        {
          "execution_count": 101,
          "output_type": "execute_result",
          "data": {
            "text/plain": "  Color  Value  Counts\n0   Red    100       3\n1   Red    150       3\n2   Red     50       3\n3  Blue     50       1",
            "text/html": "<div>\n<style scoped>\n    .dataframe tbody tr th:only-of-type {\n        vertical-align: middle;\n    }\n\n    .dataframe tbody tr th {\n        vertical-align: top;\n    }\n\n    .dataframe thead th {\n        text-align: right;\n    }\n</style>\n<table border=\"1\" class=\"dataframe\">\n  <thead>\n    <tr style=\"text-align: right;\">\n      <th></th>\n      <th>Color</th>\n      <th>Value</th>\n      <th>Counts</th>\n    </tr>\n  </thead>\n  <tbody>\n    <tr>\n      <th>0</th>\n      <td>Red</td>\n      <td>100</td>\n      <td>3</td>\n    </tr>\n    <tr>\n      <th>1</th>\n      <td>Red</td>\n      <td>150</td>\n      <td>3</td>\n    </tr>\n    <tr>\n      <th>2</th>\n      <td>Red</td>\n      <td>50</td>\n      <td>3</td>\n    </tr>\n    <tr>\n      <th>3</th>\n      <td>Blue</td>\n      <td>50</td>\n      <td>1</td>\n    </tr>\n  </tbody>\n</table>\n</div>"
          },
          "metadata": {}
        }
      ],
      "execution_count": 101
    },
    {
      "id": "1f94eae0-f5d3-4ed1-8325-6d97ff5e60dc",
      "cell_type": "code",
      "source": "df = pd.DataFrame(\n    {\"line_race\": [10, 10, 8, 10, 10, 8], \"beyer\": [99, 102, 103, 103, 88, 100]},\n    index=[\n        \"Last Gunfighter\",\n        \"Last Gunfighter\",\n        \"Last Gunfighter\",\n        \"Paynter\",\n        \"Paynter\",\n        \"Paynter\",\n    ],\n)\n\ndf\n",
      "metadata": {
        "trusted": true
      },
      "outputs": [
        {
          "execution_count": 103,
          "output_type": "execute_result",
          "data": {
            "text/plain": "                 line_race  beyer\nLast Gunfighter         10     99\nLast Gunfighter         10    102\nLast Gunfighter          8    103\nPaynter                 10    103\nPaynter                 10     88\nPaynter                  8    100",
            "text/html": "<div>\n<style scoped>\n    .dataframe tbody tr th:only-of-type {\n        vertical-align: middle;\n    }\n\n    .dataframe tbody tr th {\n        vertical-align: top;\n    }\n\n    .dataframe thead th {\n        text-align: right;\n    }\n</style>\n<table border=\"1\" class=\"dataframe\">\n  <thead>\n    <tr style=\"text-align: right;\">\n      <th></th>\n      <th>line_race</th>\n      <th>beyer</th>\n    </tr>\n  </thead>\n  <tbody>\n    <tr>\n      <th>Last Gunfighter</th>\n      <td>10</td>\n      <td>99</td>\n    </tr>\n    <tr>\n      <th>Last Gunfighter</th>\n      <td>10</td>\n      <td>102</td>\n    </tr>\n    <tr>\n      <th>Last Gunfighter</th>\n      <td>8</td>\n      <td>103</td>\n    </tr>\n    <tr>\n      <th>Paynter</th>\n      <td>10</td>\n      <td>103</td>\n    </tr>\n    <tr>\n      <th>Paynter</th>\n      <td>10</td>\n      <td>88</td>\n    </tr>\n    <tr>\n      <th>Paynter</th>\n      <td>8</td>\n      <td>100</td>\n    </tr>\n  </tbody>\n</table>\n</div>"
          },
          "metadata": {}
        }
      ],
      "execution_count": 103
    },
    {
      "id": "81575a62-87aa-41ce-8c24-ca277f4a6e4f",
      "cell_type": "code",
      "source": "df[\"beyer_shifted\"] = df.groupby(level=0)[\"beyer\"].shift(1)\n",
      "metadata": {
        "trusted": true
      },
      "outputs": [],
      "execution_count": 104
    },
    {
      "id": "5a0c9a0d-fb53-44ec-9f9f-150bd90129dc",
      "cell_type": "code",
      "source": "df",
      "metadata": {
        "trusted": true
      },
      "outputs": [
        {
          "execution_count": 105,
          "output_type": "execute_result",
          "data": {
            "text/plain": "                 line_race  beyer  beyer_shifted\nLast Gunfighter         10     99            NaN\nLast Gunfighter         10    102           99.0\nLast Gunfighter          8    103          102.0\nPaynter                 10    103            NaN\nPaynter                 10     88          103.0\nPaynter                  8    100           88.0",
            "text/html": "<div>\n<style scoped>\n    .dataframe tbody tr th:only-of-type {\n        vertical-align: middle;\n    }\n\n    .dataframe tbody tr th {\n        vertical-align: top;\n    }\n\n    .dataframe thead th {\n        text-align: right;\n    }\n</style>\n<table border=\"1\" class=\"dataframe\">\n  <thead>\n    <tr style=\"text-align: right;\">\n      <th></th>\n      <th>line_race</th>\n      <th>beyer</th>\n      <th>beyer_shifted</th>\n    </tr>\n  </thead>\n  <tbody>\n    <tr>\n      <th>Last Gunfighter</th>\n      <td>10</td>\n      <td>99</td>\n      <td>NaN</td>\n    </tr>\n    <tr>\n      <th>Last Gunfighter</th>\n      <td>10</td>\n      <td>102</td>\n      <td>99.0</td>\n    </tr>\n    <tr>\n      <th>Last Gunfighter</th>\n      <td>8</td>\n      <td>103</td>\n      <td>102.0</td>\n    </tr>\n    <tr>\n      <th>Paynter</th>\n      <td>10</td>\n      <td>103</td>\n      <td>NaN</td>\n    </tr>\n    <tr>\n      <th>Paynter</th>\n      <td>10</td>\n      <td>88</td>\n      <td>103.0</td>\n    </tr>\n    <tr>\n      <th>Paynter</th>\n      <td>8</td>\n      <td>100</td>\n      <td>88.0</td>\n    </tr>\n  </tbody>\n</table>\n</div>"
          },
          "metadata": {}
        }
      ],
      "execution_count": 105
    },
    {
      "id": "c8bc6e18-adc3-47d4-aff0-c2b6fbe00079",
      "cell_type": "code",
      "source": "df = pd.DataFrame(\n    {\n        \"host\": [\"other\", \"other\", \"that\", \"this\", \"this\"],\n        \"service\": [\"mail\", \"web\", \"mail\", \"mail\", \"web\"],\n        \"no\": [1, 2, 1, 2, 1],\n    }\n).set_index([\"host\", \"service\"])\n",
      "metadata": {
        "trusted": true
      },
      "outputs": [],
      "execution_count": 106
    },
    {
      "id": "7e4798b2-8b5b-4152-9437-9ed5a6194430",
      "cell_type": "code",
      "source": "mask = df.groupby(level=0).agg(\"idxmax\")\n",
      "metadata": {
        "trusted": true
      },
      "outputs": [],
      "execution_count": 107
    },
    {
      "id": "61bfed83-76e8-4c49-b665-8b3b539786d1",
      "cell_type": "code",
      "source": "df_count = df.loc[mask[\"no\"]].reset_index()\n",
      "metadata": {
        "trusted": true
      },
      "outputs": [],
      "execution_count": 108
    },
    {
      "id": "f091fe06-16e8-4061-bed4-57de461e7dd5",
      "cell_type": "code",
      "source": "df_count",
      "metadata": {
        "trusted": true
      },
      "outputs": [
        {
          "execution_count": 109,
          "output_type": "execute_result",
          "data": {
            "text/plain": "    host service  no\n0  other     web   2\n1   that    mail   1\n2   this    mail   2",
            "text/html": "<div>\n<style scoped>\n    .dataframe tbody tr th:only-of-type {\n        vertical-align: middle;\n    }\n\n    .dataframe tbody tr th {\n        vertical-align: top;\n    }\n\n    .dataframe thead th {\n        text-align: right;\n    }\n</style>\n<table border=\"1\" class=\"dataframe\">\n  <thead>\n    <tr style=\"text-align: right;\">\n      <th></th>\n      <th>host</th>\n      <th>service</th>\n      <th>no</th>\n    </tr>\n  </thead>\n  <tbody>\n    <tr>\n      <th>0</th>\n      <td>other</td>\n      <td>web</td>\n      <td>2</td>\n    </tr>\n    <tr>\n      <th>1</th>\n      <td>that</td>\n      <td>mail</td>\n      <td>1</td>\n    </tr>\n    <tr>\n      <th>2</th>\n      <td>this</td>\n      <td>mail</td>\n      <td>2</td>\n    </tr>\n  </tbody>\n</table>\n</div>"
          },
          "metadata": {}
        }
      ],
      "execution_count": 109
    },
    {
      "id": "4c9e5654-d258-481c-a42f-d76c470f3531",
      "cell_type": "code",
      "source": "df = pd.DataFrame([0, 1, 0, 1, 1, 1, 0, 1, 1], columns=[\"A\"])\n",
      "metadata": {
        "trusted": true
      },
      "outputs": [],
      "execution_count": 110
    },
    {
      "id": "c8b1623b-ead4-4c81-ade8-d9ba60418824",
      "cell_type": "code",
      "source": "df[\"A\"].groupby((df[\"A\"] != df[\"A\"].shift()).cumsum()).groups\n",
      "metadata": {
        "trusted": true
      },
      "outputs": [
        {
          "execution_count": 111,
          "output_type": "execute_result",
          "data": {
            "text/plain": "{1: [0], 2: [1], 3: [2], 4: [3, 4, 5], 5: [6], 6: [7, 8]}"
          },
          "metadata": {}
        }
      ],
      "execution_count": 111
    },
    {
      "id": "d4e1639f-7b35-4ab2-b9bf-61c9013e56e4",
      "cell_type": "code",
      "source": "df[\"A\"].groupby((df[\"A\"] != df[\"A\"].shift()).cumsum()).cumsum()\n",
      "metadata": {
        "trusted": true
      },
      "outputs": [
        {
          "execution_count": 112,
          "output_type": "execute_result",
          "data": {
            "text/plain": "0    0\n1    1\n2    0\n3    1\n4    2\n5    3\n6    0\n7    1\n8    2\nName: A, dtype: int64"
          },
          "metadata": {}
        }
      ],
      "execution_count": 112
    },
    {
      "id": "4199c4f3-4887-46ea-bef4-11b801ab81c6",
      "cell_type": "code",
      "source": "df = pd.DataFrame(\n    data={\n        \"Case\": [\"A\", \"A\", \"A\", \"B\", \"A\", \"A\", \"B\", \"A\", \"A\"],\n        \"Data\": np.random.randn(9),\n    }\n)\n",
      "metadata": {
        "trusted": true
      },
      "outputs": [],
      "execution_count": 113
    },
    {
      "id": "09a8241f-cfc4-4a4f-a863-0cda73d11759",
      "cell_type": "code",
      "source": "dfs = list(\n    zip(\n        *df.groupby(\n            (1 * (df[\"Case\"] == \"B\"))\n            .cumsum()\n            .rolling(window=3, min_periods=1)\n            .median()\n        )\n    )\n)[-1]\n\n",
      "metadata": {
        "trusted": true
      },
      "outputs": [],
      "execution_count": 114
    },
    {
      "id": "5cefb92b-e219-433b-888e-a40ae08ef994",
      "cell_type": "code",
      "source": "dfs[0]",
      "metadata": {
        "trusted": true
      },
      "outputs": [
        {
          "execution_count": 115,
          "output_type": "execute_result",
          "data": {
            "text/plain": "  Case      Data\n0    A -0.939662\n1    A  0.625370\n2    A -0.881457\n3    B  0.229937",
            "text/html": "<div>\n<style scoped>\n    .dataframe tbody tr th:only-of-type {\n        vertical-align: middle;\n    }\n\n    .dataframe tbody tr th {\n        vertical-align: top;\n    }\n\n    .dataframe thead th {\n        text-align: right;\n    }\n</style>\n<table border=\"1\" class=\"dataframe\">\n  <thead>\n    <tr style=\"text-align: right;\">\n      <th></th>\n      <th>Case</th>\n      <th>Data</th>\n    </tr>\n  </thead>\n  <tbody>\n    <tr>\n      <th>0</th>\n      <td>A</td>\n      <td>-0.939662</td>\n    </tr>\n    <tr>\n      <th>1</th>\n      <td>A</td>\n      <td>0.625370</td>\n    </tr>\n    <tr>\n      <th>2</th>\n      <td>A</td>\n      <td>-0.881457</td>\n    </tr>\n    <tr>\n      <th>3</th>\n      <td>B</td>\n      <td>0.229937</td>\n    </tr>\n  </tbody>\n</table>\n</div>"
          },
          "metadata": {}
        }
      ],
      "execution_count": 115
    },
    {
      "id": "11ea7720-c76e-45e1-99a2-1458d24e2d0d",
      "cell_type": "code",
      "source": "dfs[1]",
      "metadata": {
        "trusted": true
      },
      "outputs": [
        {
          "execution_count": 116,
          "output_type": "execute_result",
          "data": {
            "text/plain": "  Case      Data\n4    A -0.428404\n5    A -1.214777\n6    B -0.479687",
            "text/html": "<div>\n<style scoped>\n    .dataframe tbody tr th:only-of-type {\n        vertical-align: middle;\n    }\n\n    .dataframe tbody tr th {\n        vertical-align: top;\n    }\n\n    .dataframe thead th {\n        text-align: right;\n    }\n</style>\n<table border=\"1\" class=\"dataframe\">\n  <thead>\n    <tr style=\"text-align: right;\">\n      <th></th>\n      <th>Case</th>\n      <th>Data</th>\n    </tr>\n  </thead>\n  <tbody>\n    <tr>\n      <th>4</th>\n      <td>A</td>\n      <td>-0.428404</td>\n    </tr>\n    <tr>\n      <th>5</th>\n      <td>A</td>\n      <td>-1.214777</td>\n    </tr>\n    <tr>\n      <th>6</th>\n      <td>B</td>\n      <td>-0.479687</td>\n    </tr>\n  </tbody>\n</table>\n</div>"
          },
          "metadata": {}
        }
      ],
      "execution_count": 116
    },
    {
      "id": "fcd136f9-ec5e-491b-b851-240600eaf00c",
      "cell_type": "code",
      "source": "dfs[2]\n",
      "metadata": {
        "trusted": true
      },
      "outputs": [
        {
          "execution_count": 118,
          "output_type": "execute_result",
          "data": {
            "text/plain": "  Case      Data\n7    A  0.557017\n8    A  0.568282",
            "text/html": "<div>\n<style scoped>\n    .dataframe tbody tr th:only-of-type {\n        vertical-align: middle;\n    }\n\n    .dataframe tbody tr th {\n        vertical-align: top;\n    }\n\n    .dataframe thead th {\n        text-align: right;\n    }\n</style>\n<table border=\"1\" class=\"dataframe\">\n  <thead>\n    <tr style=\"text-align: right;\">\n      <th></th>\n      <th>Case</th>\n      <th>Data</th>\n    </tr>\n  </thead>\n  <tbody>\n    <tr>\n      <th>7</th>\n      <td>A</td>\n      <td>0.557017</td>\n    </tr>\n    <tr>\n      <th>8</th>\n      <td>A</td>\n      <td>0.568282</td>\n    </tr>\n  </tbody>\n</table>\n</div>"
          },
          "metadata": {}
        }
      ],
      "execution_count": 118
    },
    {
      "id": "bffc56da-1b9a-4bd3-86ff-775f5885f2e5",
      "cell_type": "code",
      "source": "df = pd.DataFrame(\n    data={\n        \"Province\": [\"ON\", \"QC\", \"BC\", \"AL\", \"AL\", \"MN\", \"ON\"],\n        \"City\": [\n            \"Toronto\",\n            \"Montreal\",\n            \"Vancouver\",\n            \"Calgary\",\n            \"Edmonton\",\n            \"Winnipeg\",\n            \"Windsor\",\n        ],\n        \"Sales\": [13, 6, 16, 8, 4, 3, 1],\n    }\n)\n",
      "metadata": {
        "trusted": true
      },
      "outputs": [],
      "execution_count": 119
    },
    {
      "id": "9b9d62a9-e029-4030-95b6-4c09d2c32998",
      "cell_type": "code",
      "source": "table = pd.pivot_table(\n    df,\n    values=[\"Sales\"],\n    index=[\"Province\"],\n    columns=[\"City\"],\n    aggfunc=\"sum\",\n    margins=True,\n)",
      "metadata": {
        "trusted": true
      },
      "outputs": [],
      "execution_count": 120
    },
    {
      "id": "3ab82e62-a603-4ca2-aa14-a44b6235c0e3",
      "cell_type": "code",
      "source": "grades = [48, 99, 75, 80, 42, 80, 72, 68, 36, 78]",
      "metadata": {
        "trusted": true
      },
      "outputs": [],
      "execution_count": 122
    },
    {
      "id": "da2a478b-d491-4cf5-ae28-70c3d05c635a",
      "cell_type": "code",
      "source": "df = pd.DataFrame(\n    {\n        \"ID\": [\"x%d\" % r for r in range(10)],\n        \"Gender\": [\"F\", \"M\", \"F\", \"M\", \"F\", \"M\", \"F\", \"M\", \"M\", \"M\"],\n        \"ExamYear\": [\n            \"2007\",\n            \"2007\",\n            \"2007\",\n            \"2008\",\n            \"2008\",\n            \"2008\",\n            \"2008\",\n            \"2009\",\n            \"2009\",\n            \"2009\",\n        ],\n        \"Class\": [\n            \"algebra\",\n            \"stats\",\n            \"bio\",\n            \"algebra\",\n            \"algebra\",\n            \"stats\",\n            \"stats\",\n            \"algebra\",\n            \"bio\",\n            \"bio\",\n        ],\n        \"Participated\": [\n            \"yes\",\n            \"yes\",\n            \"yes\",\n            \"yes\",\n            \"no\",\n            \"yes\",\n            \"yes\",\n            \"yes\",\n            \"yes\",\n            \"yes\",\n        ],\n        \"Passed\": [\"yes\" if x > 50 else \"no\" for x in grades],\n        \"Employed\": [\n            True,\n            True,\n            True,\n            False,\n            False,\n            False,\n            False,\n            True,\n            True,\n            False,\n        ],\n        \"Grade\": grades,\n    }\n)",
      "metadata": {
        "trusted": true
      },
      "outputs": [],
      "execution_count": 123
    },
    {
      "id": "613a1318-f844-4090-8550-671023b06252",
      "cell_type": "code",
      "source": "df.groupby(\"ExamYear\").agg(\n    {\n        \"Participated\": lambda x: x.value_counts()[\"yes\"],\n        \"Passed\": lambda x: sum(x == \"yes\"),\n        \"Employed\": lambda x: sum(x),\n        \"Grade\": lambda x: sum(x) / len(x),\n    }\n)",
      "metadata": {
        "trusted": true
      },
      "outputs": [
        {
          "execution_count": 124,
          "output_type": "execute_result",
          "data": {
            "text/plain": "          Participated  Passed  Employed      Grade\nExamYear                                           \n2007                 3       2         3  74.000000\n2008                 3       3         0  68.500000\n2009                 3       2         2  60.666667",
            "text/html": "<div>\n<style scoped>\n    .dataframe tbody tr th:only-of-type {\n        vertical-align: middle;\n    }\n\n    .dataframe tbody tr th {\n        vertical-align: top;\n    }\n\n    .dataframe thead th {\n        text-align: right;\n    }\n</style>\n<table border=\"1\" class=\"dataframe\">\n  <thead>\n    <tr style=\"text-align: right;\">\n      <th></th>\n      <th>Participated</th>\n      <th>Passed</th>\n      <th>Employed</th>\n      <th>Grade</th>\n    </tr>\n    <tr>\n      <th>ExamYear</th>\n      <th></th>\n      <th></th>\n      <th></th>\n      <th></th>\n    </tr>\n  </thead>\n  <tbody>\n    <tr>\n      <th>2007</th>\n      <td>3</td>\n      <td>2</td>\n      <td>3</td>\n      <td>74.000000</td>\n    </tr>\n    <tr>\n      <th>2008</th>\n      <td>3</td>\n      <td>3</td>\n      <td>0</td>\n      <td>68.500000</td>\n    </tr>\n    <tr>\n      <th>2009</th>\n      <td>3</td>\n      <td>2</td>\n      <td>2</td>\n      <td>60.666667</td>\n    </tr>\n  </tbody>\n</table>\n</div>"
          },
          "metadata": {}
        }
      ],
      "execution_count": 124
    },
    {
      "id": "f11d1df4-358c-45e1-b8a1-f294fd1c8bca",
      "cell_type": "code",
      "source": "df = pd.DataFrame(\n    data={\n        \"A\": [[2, 4, 8, 16], [100, 200], [10, 20, 30]],\n        \"B\": [[\"a\", \"b\", \"c\"], [\"jj\", \"kk\"], [\"ccc\"]],\n    },\n    index=[\"I\", \"II\", \"III\"],\n)",
      "metadata": {
        "trusted": true
      },
      "outputs": [],
      "execution_count": 126
    },
    {
      "id": "51037c82-a21b-4002-9e0d-b74afdd6cd76",
      "cell_type": "code",
      "source": "def SeriesFromSubList(aList):\n    return pd.Series(aList)",
      "metadata": {
        "trusted": true
      },
      "outputs": [],
      "execution_count": 127
    },
    {
      "id": "ae9f8ef1-81b5-40da-bf72-c7e945c16dc4",
      "cell_type": "code",
      "source": "df_orgz = pd.concat(\n    {ind: row.apply(SeriesFromSubList) for ind, row in df.iterrows()}\n)",
      "metadata": {
        "trusted": true
      },
      "outputs": [],
      "execution_count": 128
    },
    {
      "id": "39893dfa-2038-417d-8d4a-14708210c41a",
      "cell_type": "code",
      "source": "df_orgz\n",
      "metadata": {
        "trusted": true
      },
      "outputs": [
        {
          "execution_count": 129,
          "output_type": "execute_result",
          "data": {
            "text/plain": "         0     1     2     3\nI   A    2     4     8  16.0\n    B    a     b     c   NaN\nII  A  100   200   NaN   NaN\n    B   jj    kk   NaN   NaN\nIII A   10  20.0  30.0   NaN\n    B  ccc   NaN   NaN   NaN",
            "text/html": "<div>\n<style scoped>\n    .dataframe tbody tr th:only-of-type {\n        vertical-align: middle;\n    }\n\n    .dataframe tbody tr th {\n        vertical-align: top;\n    }\n\n    .dataframe thead th {\n        text-align: right;\n    }\n</style>\n<table border=\"1\" class=\"dataframe\">\n  <thead>\n    <tr style=\"text-align: right;\">\n      <th></th>\n      <th></th>\n      <th>0</th>\n      <th>1</th>\n      <th>2</th>\n      <th>3</th>\n    </tr>\n  </thead>\n  <tbody>\n    <tr>\n      <th rowspan=\"2\" valign=\"top\">I</th>\n      <th>A</th>\n      <td>2</td>\n      <td>4</td>\n      <td>8</td>\n      <td>16.0</td>\n    </tr>\n    <tr>\n      <th>B</th>\n      <td>a</td>\n      <td>b</td>\n      <td>c</td>\n      <td>NaN</td>\n    </tr>\n    <tr>\n      <th rowspan=\"2\" valign=\"top\">II</th>\n      <th>A</th>\n      <td>100</td>\n      <td>200</td>\n      <td>NaN</td>\n      <td>NaN</td>\n    </tr>\n    <tr>\n      <th>B</th>\n      <td>jj</td>\n      <td>kk</td>\n      <td>NaN</td>\n      <td>NaN</td>\n    </tr>\n    <tr>\n      <th rowspan=\"2\" valign=\"top\">III</th>\n      <th>A</th>\n      <td>10</td>\n      <td>20.0</td>\n      <td>30.0</td>\n      <td>NaN</td>\n    </tr>\n    <tr>\n      <th>B</th>\n      <td>ccc</td>\n      <td>NaN</td>\n      <td>NaN</td>\n      <td>NaN</td>\n    </tr>\n  </tbody>\n</table>\n</div>"
          },
          "metadata": {}
        }
      ],
      "execution_count": 129
    },
    {
      "id": "f1b5903b-510f-4060-b8d0-d7b5fe438641",
      "cell_type": "code",
      "source": "df = pd.DataFrame(\n    data=np.random.randn(2000, 2) / 10000,\n    index=pd.date_range(\"2001-01-01\", periods=2000),\n    columns=[\"A\", \"B\"],\n)\n\ndf",
      "metadata": {
        "trusted": true
      },
      "outputs": [
        {
          "execution_count": 131,
          "output_type": "execute_result",
          "data": {
            "text/plain": "                   A         B\n2001-01-01 -0.000138 -0.000124\n2001-01-02  0.000045 -0.000074\n2001-01-03  0.000180 -0.000058\n2001-01-04 -0.000164  0.000106\n2001-01-05  0.000042  0.000179\n...              ...       ...\n2006-06-19 -0.000073 -0.000158\n2006-06-20 -0.000138 -0.000001\n2006-06-21  0.000040 -0.000033\n2006-06-22 -0.000037  0.000175\n2006-06-23 -0.000003 -0.000193\n\n[2000 rows x 2 columns]",
            "text/html": "<div>\n<style scoped>\n    .dataframe tbody tr th:only-of-type {\n        vertical-align: middle;\n    }\n\n    .dataframe tbody tr th {\n        vertical-align: top;\n    }\n\n    .dataframe thead th {\n        text-align: right;\n    }\n</style>\n<table border=\"1\" class=\"dataframe\">\n  <thead>\n    <tr style=\"text-align: right;\">\n      <th></th>\n      <th>A</th>\n      <th>B</th>\n    </tr>\n  </thead>\n  <tbody>\n    <tr>\n      <th>2001-01-01</th>\n      <td>-0.000138</td>\n      <td>-0.000124</td>\n    </tr>\n    <tr>\n      <th>2001-01-02</th>\n      <td>0.000045</td>\n      <td>-0.000074</td>\n    </tr>\n    <tr>\n      <th>2001-01-03</th>\n      <td>0.000180</td>\n      <td>-0.000058</td>\n    </tr>\n    <tr>\n      <th>2001-01-04</th>\n      <td>-0.000164</td>\n      <td>0.000106</td>\n    </tr>\n    <tr>\n      <th>2001-01-05</th>\n      <td>0.000042</td>\n      <td>0.000179</td>\n    </tr>\n    <tr>\n      <th>...</th>\n      <td>...</td>\n      <td>...</td>\n    </tr>\n    <tr>\n      <th>2006-06-19</th>\n      <td>-0.000073</td>\n      <td>-0.000158</td>\n    </tr>\n    <tr>\n      <th>2006-06-20</th>\n      <td>-0.000138</td>\n      <td>-0.000001</td>\n    </tr>\n    <tr>\n      <th>2006-06-21</th>\n      <td>0.000040</td>\n      <td>-0.000033</td>\n    </tr>\n    <tr>\n      <th>2006-06-22</th>\n      <td>-0.000037</td>\n      <td>0.000175</td>\n    </tr>\n    <tr>\n      <th>2006-06-23</th>\n      <td>-0.000003</td>\n      <td>-0.000193</td>\n    </tr>\n  </tbody>\n</table>\n<p>2000 rows × 2 columns</p>\n</div>"
          },
          "metadata": {}
        }
      ],
      "execution_count": 131
    },
    {
      "id": "c281c1ac-c3e9-4d73-9646-f15d9718650a",
      "cell_type": "code",
      "source": "def gm(df, const):\n    v = ((((df[\"A\"] + df[\"B\"]) + 1).cumprod()) - 1) * const\n    return v.iloc[-1]",
      "metadata": {
        "trusted": true
      },
      "outputs": [],
      "execution_count": 132
    },
    {
      "id": "51b3afe6-19d2-406c-9162-5da488a41847",
      "cell_type": "code",
      "source": "s = pd.Series(\n    {\n        df.index[i]: gm(df.iloc[i: min(i + 51, len(df) - 1)], 5)\n        for i in range(len(df) - 50)\n    }\n)\n\ns",
      "metadata": {
        "trusted": true
      },
      "outputs": [
        {
          "execution_count": 133,
          "output_type": "execute_result",
          "data": {
            "text/plain": "2001-01-01    0.000728\n2001-01-02    0.002005\n2001-01-03    0.002786\n2001-01-04    0.002105\n2001-01-05    0.001616\n                ...   \n2006-04-30   -0.001873\n2006-05-01   -0.001215\n2006-05-02    0.000750\n2006-05-03    0.000579\n2006-05-04   -0.000801\nLength: 1950, dtype: float64"
          },
          "metadata": {}
        }
      ],
      "execution_count": 133
    },
    {
      "id": "bed818ac-9666-45e5-ac18-688b3d8c4f46",
      "cell_type": "code",
      "source": "rng = pd.date_range(start=\"2014-01-01\", periods=100)\n",
      "metadata": {
        "trusted": true
      },
      "outputs": [],
      "execution_count": 134
    },
    {
      "id": "5500621b-7e76-4df8-8eff-303f97356c11",
      "cell_type": "code",
      "source": "df = pd.DataFrame(\n    {\n        \"Open\": np.random.randn(len(rng)),\n        \"Close\": np.random.randn(len(rng)),\n        \"Volume\": np.random.randint(100, 2000, len(rng)),\n    },\n    index=rng,\n)\n\ndf",
      "metadata": {
        "trusted": true
      },
      "outputs": [
        {
          "execution_count": 136,
          "output_type": "execute_result",
          "data": {
            "text/plain": "                Open     Close  Volume\n2014-01-01  1.161440 -0.427363    1348\n2014-01-02 -0.179329 -1.027857    1743\n2014-01-03  0.065982 -0.194291     313\n2014-01-04 -1.011098  1.056423    1042\n2014-01-05 -1.406709  0.941165    1672\n...              ...       ...     ...\n2014-04-06  0.863067 -0.895135    1532\n2014-04-07  0.179371 -0.382145    1917\n2014-04-08 -0.996218  1.710906     606\n2014-04-09 -0.381616 -2.201800     268\n2014-04-10 -0.185399  0.905295     457\n\n[100 rows x 3 columns]",
            "text/html": "<div>\n<style scoped>\n    .dataframe tbody tr th:only-of-type {\n        vertical-align: middle;\n    }\n\n    .dataframe tbody tr th {\n        vertical-align: top;\n    }\n\n    .dataframe thead th {\n        text-align: right;\n    }\n</style>\n<table border=\"1\" class=\"dataframe\">\n  <thead>\n    <tr style=\"text-align: right;\">\n      <th></th>\n      <th>Open</th>\n      <th>Close</th>\n      <th>Volume</th>\n    </tr>\n  </thead>\n  <tbody>\n    <tr>\n      <th>2014-01-01</th>\n      <td>1.161440</td>\n      <td>-0.427363</td>\n      <td>1348</td>\n    </tr>\n    <tr>\n      <th>2014-01-02</th>\n      <td>-0.179329</td>\n      <td>-1.027857</td>\n      <td>1743</td>\n    </tr>\n    <tr>\n      <th>2014-01-03</th>\n      <td>0.065982</td>\n      <td>-0.194291</td>\n      <td>313</td>\n    </tr>\n    <tr>\n      <th>2014-01-04</th>\n      <td>-1.011098</td>\n      <td>1.056423</td>\n      <td>1042</td>\n    </tr>\n    <tr>\n      <th>2014-01-05</th>\n      <td>-1.406709</td>\n      <td>0.941165</td>\n      <td>1672</td>\n    </tr>\n    <tr>\n      <th>...</th>\n      <td>...</td>\n      <td>...</td>\n      <td>...</td>\n    </tr>\n    <tr>\n      <th>2014-04-06</th>\n      <td>0.863067</td>\n      <td>-0.895135</td>\n      <td>1532</td>\n    </tr>\n    <tr>\n      <th>2014-04-07</th>\n      <td>0.179371</td>\n      <td>-0.382145</td>\n      <td>1917</td>\n    </tr>\n    <tr>\n      <th>2014-04-08</th>\n      <td>-0.996218</td>\n      <td>1.710906</td>\n      <td>606</td>\n    </tr>\n    <tr>\n      <th>2014-04-09</th>\n      <td>-0.381616</td>\n      <td>-2.201800</td>\n      <td>268</td>\n    </tr>\n    <tr>\n      <th>2014-04-10</th>\n      <td>-0.185399</td>\n      <td>0.905295</td>\n      <td>457</td>\n    </tr>\n  </tbody>\n</table>\n<p>100 rows × 3 columns</p>\n</div>"
          },
          "metadata": {}
        }
      ],
      "execution_count": 136
    },
    {
      "id": "bea639fb-92db-4839-8a21-12474f90ce68",
      "cell_type": "code",
      "source": "def vwap(bars):\n    return (bars.Close * bars.Volume).sum() / bars.Volume.sum()\n",
      "metadata": {
        "trusted": true
      },
      "outputs": [],
      "execution_count": 137
    },
    {
      "id": "2aaaeb51-0189-4d1c-be79-4e4a7c189a53",
      "cell_type": "code",
      "source": "window = 5\n",
      "metadata": {
        "trusted": true
      },
      "outputs": [],
      "execution_count": 138
    },
    {
      "id": "e232f8df-4dc7-420c-80cb-662d846a1b24",
      "cell_type": "code",
      "source": "s = pd.concat(\n    [\n        (pd.Series(vwap(df.iloc[i: i + window]), index=[df.index[i + window]]))\n        for i in range(len(df) - window)\n    ]\n)",
      "metadata": {
        "trusted": true
      },
      "outputs": [],
      "execution_count": 139
    },
    {
      "id": "a47c0aed-aa36-4952-8be5-00496b59bd37",
      "cell_type": "code",
      "source": "s.round(2)",
      "metadata": {
        "trusted": true
      },
      "outputs": [
        {
          "execution_count": 140,
          "output_type": "execute_result",
          "data": {
            "text/plain": "2014-01-06    0.04\n2014-01-07   -0.29\n2014-01-08    0.28\n2014-01-09    0.16\n2014-01-10   -0.07\n              ... \n2014-04-06    0.38\n2014-04-07    0.03\n2014-04-08   -0.23\n2014-04-09   -0.41\n2014-04-10   -0.29\nLength: 95, dtype: float64"
          },
          "metadata": {}
        }
      ],
      "execution_count": 140
    },
    {
      "id": "e6c433a2-33b4-4e23-9d20-5bdf4c1189bc",
      "cell_type": "code",
      "source": "dates = pd.date_range(\"2000-01-01\", periods=5)",
      "metadata": {
        "trusted": true
      },
      "outputs": [],
      "execution_count": 141
    },
    {
      "id": "a05ab385-7551-4008-93ec-62354e136ba2",
      "cell_type": "code",
      "source": "dates.to_period(freq=\"M\").to_timestamp()",
      "metadata": {
        "trusted": true
      },
      "outputs": [
        {
          "execution_count": 142,
          "output_type": "execute_result",
          "data": {
            "text/plain": "DatetimeIndex(['2000-01-01', '2000-01-01', '2000-01-01', '2000-01-01',\n               '2000-01-01'],\n              dtype='datetime64[ns]', freq=None)"
          },
          "metadata": {}
        }
      ],
      "execution_count": 142
    },
    {
      "id": "2a489ddd-0e14-4f6b-96a7-9fedd7add4bc",
      "cell_type": "code",
      "source": "rng = pd.date_range(\"2000-01-01\", periods=6)\n",
      "metadata": {
        "trusted": true
      },
      "outputs": [],
      "execution_count": 143
    },
    {
      "id": "8bf90751-bbab-4eec-92d7-d656a9fd6597",
      "cell_type": "code",
      "source": "df1 = pd.DataFrame(np.random.randn(6, 3), index=rng, columns=[\"A\", \"B\", \"C\"])\n",
      "metadata": {
        "trusted": true
      },
      "outputs": [],
      "execution_count": 144
    },
    {
      "id": "bfc85e1c-d6bd-46e0-9e75-94add776b9b9",
      "cell_type": "code",
      "source": "df2 = df1.copy()\n",
      "metadata": {
        "trusted": true
      },
      "outputs": [],
      "execution_count": 145
    },
    {
      "id": "dbce2ef9-dbe1-44f8-9f27-04936fe37bcc",
      "cell_type": "code",
      "source": "df = pd.concat([df1, df2], ignore_index=True)\n",
      "metadata": {
        "trusted": true
      },
      "outputs": [],
      "execution_count": 146
    },
    {
      "id": "29d9a776-a8b3-4258-b858-b05f4ba27121",
      "cell_type": "code",
      "source": "df",
      "metadata": {
        "trusted": true
      },
      "outputs": [
        {
          "execution_count": 147,
          "output_type": "execute_result",
          "data": {
            "text/plain": "           A         B         C\n0   0.162673 -0.728262  0.954400\n1   0.371516  0.113258  0.025509\n2  -1.364404  0.170587  1.761573\n3  -0.630145 -0.554265  1.858189\n4   0.961024  0.856802 -0.408236\n5  -0.347941 -1.031325  1.908381\n6   0.162673 -0.728262  0.954400\n7   0.371516  0.113258  0.025509\n8  -1.364404  0.170587  1.761573\n9  -0.630145 -0.554265  1.858189\n10  0.961024  0.856802 -0.408236\n11 -0.347941 -1.031325  1.908381",
            "text/html": "<div>\n<style scoped>\n    .dataframe tbody tr th:only-of-type {\n        vertical-align: middle;\n    }\n\n    .dataframe tbody tr th {\n        vertical-align: top;\n    }\n\n    .dataframe thead th {\n        text-align: right;\n    }\n</style>\n<table border=\"1\" class=\"dataframe\">\n  <thead>\n    <tr style=\"text-align: right;\">\n      <th></th>\n      <th>A</th>\n      <th>B</th>\n      <th>C</th>\n    </tr>\n  </thead>\n  <tbody>\n    <tr>\n      <th>0</th>\n      <td>0.162673</td>\n      <td>-0.728262</td>\n      <td>0.954400</td>\n    </tr>\n    <tr>\n      <th>1</th>\n      <td>0.371516</td>\n      <td>0.113258</td>\n      <td>0.025509</td>\n    </tr>\n    <tr>\n      <th>2</th>\n      <td>-1.364404</td>\n      <td>0.170587</td>\n      <td>1.761573</td>\n    </tr>\n    <tr>\n      <th>3</th>\n      <td>-0.630145</td>\n      <td>-0.554265</td>\n      <td>1.858189</td>\n    </tr>\n    <tr>\n      <th>4</th>\n      <td>0.961024</td>\n      <td>0.856802</td>\n      <td>-0.408236</td>\n    </tr>\n    <tr>\n      <th>5</th>\n      <td>-0.347941</td>\n      <td>-1.031325</td>\n      <td>1.908381</td>\n    </tr>\n    <tr>\n      <th>6</th>\n      <td>0.162673</td>\n      <td>-0.728262</td>\n      <td>0.954400</td>\n    </tr>\n    <tr>\n      <th>7</th>\n      <td>0.371516</td>\n      <td>0.113258</td>\n      <td>0.025509</td>\n    </tr>\n    <tr>\n      <th>8</th>\n      <td>-1.364404</td>\n      <td>0.170587</td>\n      <td>1.761573</td>\n    </tr>\n    <tr>\n      <th>9</th>\n      <td>-0.630145</td>\n      <td>-0.554265</td>\n      <td>1.858189</td>\n    </tr>\n    <tr>\n      <th>10</th>\n      <td>0.961024</td>\n      <td>0.856802</td>\n      <td>-0.408236</td>\n    </tr>\n    <tr>\n      <th>11</th>\n      <td>-0.347941</td>\n      <td>-1.031325</td>\n      <td>1.908381</td>\n    </tr>\n  </tbody>\n</table>\n</div>"
          },
          "metadata": {}
        }
      ],
      "execution_count": 147
    },
    {
      "id": "aa777311-da01-4b04-8db8-e9f2c85151c6",
      "cell_type": "code",
      "source": "df = pd.DataFrame(\n    data={\n        \"Area\": [\"A\"] * 5 + [\"C\"] * 2,\n        \"Bins\": [110] * 2 + [160] * 3 + [40] * 2,\n        \"Test_0\": [0, 1, 0, 1, 2, 0, 1],\n        \"Data\": np.random.randn(7),\n    }\n)\n\ndf\n",
      "metadata": {
        "trusted": true
      },
      "outputs": [
        {
          "execution_count": 149,
          "output_type": "execute_result",
          "data": {
            "text/plain": "  Area  Bins  Test_0      Data\n0    A   110       0 -1.592555\n1    A   110       1 -0.745977\n2    A   160       0 -0.935278\n3    A   160       1 -0.999583\n4    A   160       2 -0.939010\n5    C    40       0 -0.203789\n6    C    40       1 -0.410432",
            "text/html": "<div>\n<style scoped>\n    .dataframe tbody tr th:only-of-type {\n        vertical-align: middle;\n    }\n\n    .dataframe tbody tr th {\n        vertical-align: top;\n    }\n\n    .dataframe thead th {\n        text-align: right;\n    }\n</style>\n<table border=\"1\" class=\"dataframe\">\n  <thead>\n    <tr style=\"text-align: right;\">\n      <th></th>\n      <th>Area</th>\n      <th>Bins</th>\n      <th>Test_0</th>\n      <th>Data</th>\n    </tr>\n  </thead>\n  <tbody>\n    <tr>\n      <th>0</th>\n      <td>A</td>\n      <td>110</td>\n      <td>0</td>\n      <td>-1.592555</td>\n    </tr>\n    <tr>\n      <th>1</th>\n      <td>A</td>\n      <td>110</td>\n      <td>1</td>\n      <td>-0.745977</td>\n    </tr>\n    <tr>\n      <th>2</th>\n      <td>A</td>\n      <td>160</td>\n      <td>0</td>\n      <td>-0.935278</td>\n    </tr>\n    <tr>\n      <th>3</th>\n      <td>A</td>\n      <td>160</td>\n      <td>1</td>\n      <td>-0.999583</td>\n    </tr>\n    <tr>\n      <th>4</th>\n      <td>A</td>\n      <td>160</td>\n      <td>2</td>\n      <td>-0.939010</td>\n    </tr>\n    <tr>\n      <th>5</th>\n      <td>C</td>\n      <td>40</td>\n      <td>0</td>\n      <td>-0.203789</td>\n    </tr>\n    <tr>\n      <th>6</th>\n      <td>C</td>\n      <td>40</td>\n      <td>1</td>\n      <td>-0.410432</td>\n    </tr>\n  </tbody>\n</table>\n</div>"
          },
          "metadata": {}
        }
      ],
      "execution_count": 149
    },
    {
      "id": "baad6443-50c0-4b87-8880-4b7937b9760c",
      "cell_type": "code",
      "source": "df[\"Test_1\"] = df[\"Test_0\"] - 1",
      "metadata": {
        "trusted": true
      },
      "outputs": [],
      "execution_count": 150
    },
    {
      "id": "d89a4b0c-5bd6-4934-8720-990cc639a21e",
      "cell_type": "code",
      "source": "",
      "metadata": {
        "trusted": true
      },
      "outputs": [],
      "execution_count": null
    }
  ]
}